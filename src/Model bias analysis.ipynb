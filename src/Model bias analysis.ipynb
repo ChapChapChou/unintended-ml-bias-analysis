{
 "cells": [
  {
   "cell_type": "markdown",
   "metadata": {},
   "source": [
    "# Model bias analysis\n",
    "\n",
    "This notebook uses the bias-fuzzed test sets and the generated bias madlibs dataset to evaluate a model for potential bias."
   ]
  },
  {
   "cell_type": "code",
   "execution_count": 218,
   "metadata": {
    "collapsed": true
   },
   "outputs": [],
   "source": [
    "from __future__ import absolute_import\n",
    "from __future__ import division\n",
    "from __future__ import print_function\n",
    "\n",
    "import numpy as np\n",
    "import pandas as pd\n",
    "import matplotlib.pyplot as plt\n",
    "%matplotlib inline"
   ]
  },
  {
   "cell_type": "markdown",
   "metadata": {},
   "source": [
    "## Model loading and inference"
   ]
  },
  {
   "cell_type": "code",
   "execution_count": 470,
   "metadata": {},
   "outputs": [],
   "source": [
    "# TODO(jetpack): rewrite this to use nthain's library\n",
    "\n",
    "import cPickle\n",
    "import os\n",
    "\n",
    "from keras.models import load_model\n",
    "from keras.preprocessing.text import Tokenizer\n",
    "from keras.preprocessing.sequence import pad_sequences\n",
    "from keras.utils import to_categorical\n",
    "\n",
    "MODELS = {'orig': 'cnn_wiki_tox_v1',\n",
    "          'orig2': 'cnn_wiki_tox_v2',\n",
    "          'debias': 'cnn_debias_tox_v1',\n",
    "          'debias2': 'cnn_debias_tox_v2',\n",
    "          'random': 'cnn_debias_random_tox_v1',\n",
    "          'random2': 'cnn_debias_random_tox_v2',\n",
    "         }\n",
    "MODEL_DIR = '../models/'\n",
    "\n",
    "# TODO(nthain): During model building, save relevant hyperparameters and \n",
    "# load here.\n",
    "MAX_SEQUENCE_LENGTH = 1000 #Must match the model's\n",
    "BATCH_SIZE = 128 #Must match the model's\n",
    "\n",
    "class Model(object):\n",
    "    def __init__(self, model_name, model_dir=MODEL_DIR, max_sequence_length=MAX_SEQUENCE_LENGTH,\n",
    "                 batch_size=BATCH_SIZE):\n",
    "        self._max_sequence_length = max_sequence_length\n",
    "        self._batch_size = batch_size\n",
    "        self._tokenizer = cPickle.load(open(os.path.join(model_dir, '%s_tokenizer.pkl' % MODELS[model_name]), 'rb'))\n",
    "        self._model = load_model(os.path.join(model_dir, '%s_model.h5' % MODELS[model_name]))\n",
    "\n",
    "    def score(self, texts):\n",
    "        sequences = self._tokenizer.texts_to_sequences(texts)\n",
    "        data = pad_sequences(sequences, maxlen=self._max_sequence_length)\n",
    "        return self._model.predict(data, batch_size=self._batch_size)[:, 1]"
   ]
  },
  {
   "cell_type": "code",
   "execution_count": 471,
   "metadata": {
    "collapsed": true
   },
   "outputs": [],
   "source": [
    "all_models = {name: Model(name) for name in MODELS}"
   ]
  },
  {
   "cell_type": "code",
   "execution_count": 472,
   "metadata": {},
   "outputs": [
    {
     "name": "stdout",
     "output_type": "stream",
     "text": [
      "debias: [ 1.          0.05709707]\n",
      "orig2: [ 1.          0.00527036]\n",
      "debias2: [ 1.          0.04519044]\n",
      "random: [ 1.         0.0392495]\n",
      "random2: [ 1.          0.05561586]\n",
      "orig: [ 0.99999928  0.00406964]\n"
     ]
    }
   ],
   "source": [
    "for name, model in all_models.iteritems():\n",
    "    print('{}: {}'.format(name, model.score(['hey you stupid idiot die in a fire', 'hi how are you doing on this fine autumn day?'])))"
   ]
  },
  {
   "cell_type": "markdown",
   "metadata": {},
   "source": [
    "# Model evaluation"
   ]
  },
  {
   "cell_type": "code",
   "execution_count": 473,
   "metadata": {
    "collapsed": true
   },
   "outputs": [],
   "source": [
    "from sklearn import metrics\n",
    "\n",
    "def compute_auc(y_true, y_pred):\n",
    "    fpr, tpr, _thresholds = metrics.roc_curve(y_true, y_pred)\n",
    "    return metrics.auc(fpr, tpr)\n",
    "\n",
    "def compute_model_auc(model, examples, labels):\n",
    "    scores = model.score(examples)\n",
    "    return compute_auc(labels, scores)"
   ]
  },
  {
   "cell_type": "code",
   "execution_count": 474,
   "metadata": {},
   "outputs": [
    {
     "name": "stdout",
     "output_type": "stream",
     "text": [
      "debias: 1.0\n",
      "orig2: 1.0\n",
      "debias2: 1.0\n",
      "random: 1.0\n",
      "random2: 1.0\n",
      "orig: 1.0\n"
     ]
    }
   ],
   "source": [
    "for name, model in all_models.iteritems():\n",
    "    print('{}: {}'.format(name,\n",
    "                          compute_model_auc(model,\n",
    "                                            ['hey you stupid idiot die in a fire', 'hi how are you doing on this fine autumn day?'],\n",
    "                                            [True, False])))"
   ]
  },
  {
   "cell_type": "markdown",
   "metadata": {},
   "source": [
    "# Bias evaluation: bias madlibs dataset\n",
    "\n",
    "This dataset is generated from templates and word lists. See [the docs](https://github.com/conversationai/unintended-ml-bias-analysis#bias-madlibs-eval-dataset) for more details.\n",
    "\n",
    "The dataset is designed to be \"easy\", in the sense of being unambiguously toxic or non-toxic, yet we see this model gets only 0.948 AUC."
   ]
  },
  {
   "cell_type": "code",
   "execution_count": 424,
   "metadata": {
    "collapsed": true
   },
   "outputs": [],
   "source": [
    "def load_wikitest():\n",
    "    wikitest = pd.read_csv('../data/wiki_debias_test.csv')\n",
    "    wikitest.rename(columns={'is_toxic': 'label', 'comment': 'Text'}, inplace=True)\n",
    "    for name, model in all_models.iteritems():\n",
    "        wikitest['score_{}'.format(name)] = model.score(wikitest['Text'])\n",
    "    return wikitest[['Text', 'label'] + ['score_{}'.format(name) for name in all_models]]"
   ]
  },
  {
   "cell_type": "code",
   "execution_count": 426,
   "metadata": {},
   "outputs": [
    {
     "name": "stdout",
     "output_type": "stream",
     "text": [
      "CPU times: user 26min 34s, sys: 11min 10s, total: 37min 44s\n",
      "Wall time: 6min 41s\n"
     ]
    }
   ],
   "source": [
    "%%time\n",
    "wikitest = load_wikitest()"
   ]
  },
  {
   "cell_type": "code",
   "execution_count": null,
   "metadata": {
    "collapsed": true
   },
   "outputs": [],
   "source": [
    "%%time\n",
    "## TODOOOO\n",
    "wikitest['score_random2'] = all_models['random2'].score(wikitest['Text'])\n",
    "wikitest['score_debias2'] = all_models['debias2'].score(wikitest['Text'])\n",
    "wikitest['score_orig2'] = all_models['orig2'].score(wikitest['Text'])"
   ]
  },
  {
   "cell_type": "code",
   "execution_count": 232,
   "metadata": {
    "collapsed": true
   },
   "outputs": [],
   "source": [
    "def load_madlibs():\n",
    "    madlibs = pd.read_csv('../eval_datasets/bias_madlibs_89k.csv')\n",
    "    madlibs['label'] = madlibs['Label'] == 'BAD'\n",
    "    madlibs.drop('Label', axis=1, inplace=True)\n",
    "    for name, model in all_models.iteritems():\n",
    "        madlibs['score_{}'.format(name)] = model.score(madlibs['Text'])\n",
    "    return madlibs"
   ]
  },
  {
   "cell_type": "code",
   "execution_count": 233,
   "metadata": {},
   "outputs": [
    {
     "name": "stdout",
     "output_type": "stream",
     "text": [
      "CPU times: user 1h 13min 39s, sys: 38min 11s, total: 1h 51min 50s\n",
      "Wall time: 11min 31s\n"
     ]
    }
   ],
   "source": [
    "%%time\n",
    "madlibs = load_madlibs()"
   ]
  },
  {
   "cell_type": "code",
   "execution_count": 452,
   "metadata": {},
   "outputs": [
    {
     "name": "stdout",
     "output_type": "stream",
     "text": [
      "CPU times: user 23min 56s, sys: 13min 5s, total: 37min 2s\n",
      "Wall time: 6min 19s\n"
     ]
    }
   ],
   "source": [
    "%%time\n",
    "madlibs['score_random2'] = all_models['random2'].score(madlibs['Text'])"
   ]
  },
  {
   "cell_type": "code",
   "execution_count": 465,
   "metadata": {},
   "outputs": [
    {
     "name": "stdout",
     "output_type": "stream",
     "text": [
      "CPU times: user 23min 48s, sys: 14min 50s, total: 38min 39s\n",
      "Wall time: 6min 43s\n"
     ]
    }
   ],
   "source": [
    "%%time\n",
    "madlibs['score_debias2'] = all_models['debias2'].score(madlibs['Text'])"
   ]
  },
  {
   "cell_type": "code",
   "execution_count": 483,
   "metadata": {},
   "outputs": [
    {
     "name": "stdout",
     "output_type": "stream",
     "text": [
      "CPU times: user 24min 30s, sys: 14min 32s, total: 39min 2s\n",
      "Wall time: 4min 3s\n"
     ]
    }
   ],
   "source": [
    "%%time\n",
    "######### TODODOOOOOOOOOOOOOOOOOOOOOOOOOOOOOOOO\n",
    "madlibs['score_orig2'] = all_models['orig2'].score(madlibs['Text'])"
   ]
  },
  {
   "cell_type": "code",
   "execution_count": 488,
   "metadata": {},
   "outputs": [
    {
     "data": {
      "text/plain": [
       "['score_debias',\n",
       " 'score_debias2',\n",
       " 'score_orig',\n",
       " 'score_orig2',\n",
       " 'score_random',\n",
       " 'score_random2']"
      ]
     },
     "execution_count": 488,
     "metadata": {},
     "output_type": "execute_result"
    }
   ],
   "source": [
    "score_cols = ['score_{}'.format(name) for name in all_models]\n",
    "score_cols.sort()\n",
    "score_cols"
   ]
  },
  {
   "cell_type": "code",
   "execution_count": 489,
   "metadata": {},
   "outputs": [],
   "source": [
    "def score_distributions(df, text_col='Text', term=None, log=False, ymax=None):\n",
    "    for i, score_col in enumerate(score_cols):\n",
    "        plt.figure(i)\n",
    "        dataset = df\n",
    "        if term:\n",
    "            dataset = df[df[text_col].str.contains(term, case=False)]\n",
    "        \n",
    "        ax = dataset.query('label')[score_col].hist(bins=50, alpha=0.5, color='r', label='toxic examples', log=log)\n",
    "        dataset.query('not label')[score_col].hist(bins=50, ax=ax, alpha=0.5, color='b', label='non-toxic examples', log=log)\n",
    "        \n",
    "        ax.set_xlim((0, 1.0))\n",
    "        if ymax:\n",
    "            ax.set_ylim((0, ymax))\n",
    "        ax.set_title('{} distribution'.format(score_col))\n",
    "        ax.legend()\n",
    "        ax.set_xlabel('score')\n",
    "        ax.set_ylabel('# examples')"
   ]
  },
  {
   "cell_type": "code",
   "execution_count": 491,
   "metadata": {},
   "outputs": [
    {
     "data": {
      "image/png": "[encoded data removed]",
      "text/plain": [
       "<matplotlib.figure.Figure at 0x7f96346107d0>"
      ]
     },
     "metadata": {},
     "output_type": "display_data"
    },
    {
     "data": {
      "image/png": "[encoded data removed]",
      "text/plain": [
       "<matplotlib.figure.Figure at 0x7f9676680f50>"
      ]
     },
     "metadata": {},
     "output_type": "display_data"
    },
    {
     "data": {
      "image/png": "[encoded data removed]",
      "text/plain": [
       "<matplotlib.figure.Figure at 0x7f9676bc0bd0>"
      ]
     },
     "metadata": {},
     "output_type": "display_data"
    },
    {
     "data": {
      "image/png": "[encoded data removed]",
      "text/plain": [
       "<matplotlib.figure.Figure at 0x7f9677929850>"
      ]
     },
     "metadata": {},
     "output_type": "display_data"
    },
    {
     "data": {
      "image/png": "[encoded data removed]",
      "text/plain": [
       "<matplotlib.figure.Figure at 0x7f967838e4d0>"
      ]
     },
     "metadata": {},
     "output_type": "display_data"
    },
    {
     "data": {
      "image/png": "[encoded data removed]",
      "text/plain": [
       "<matplotlib.figure.Figure at 0x7f9634cd0090>"
      ]
     },
     "metadata": {},
     "output_type": "display_data"
    }
   ],
   "source": [
    "score_distributions(madlibs, ymax=15000)"
   ]
  },
  {
   "cell_type": "code",
   "execution_count": 454,
   "metadata": {},
   "outputs": [
    {
     "ename": "KeyError",
     "evalue": "'score_random2'",
     "output_type": "error",
     "traceback": [
      "\u001b[0;31m---------------------------------------------------------------------------\u001b[0m",
      "\u001b[0;31mKeyError\u001b[0m                                  Traceback (most recent call last)",
      "\u001b[0;32m<ipython-input-454-9969113d952d>\u001b[0m in \u001b[0;36m<module>\u001b[0;34m()\u001b[0m\n\u001b[0;32m----> 1\u001b[0;31m \u001b[0mscore_distributions\u001b[0m\u001b[0;34m(\u001b[0m\u001b[0mwikitest\u001b[0m\u001b[0;34m,\u001b[0m \u001b[0mymax\u001b[0m\u001b[0;34m=\u001b[0m\u001b[0;36m3000\u001b[0m\u001b[0;34m)\u001b[0m\u001b[0;34m\u001b[0m\u001b[0m\n\u001b[0m",
      "\u001b[0;32m<ipython-input-432-4f78d513c701>\u001b[0m in \u001b[0;36mscore_distributions\u001b[0;34m(df, text_col, term, log, ymax)\u001b[0m\n\u001b[1;32m      6\u001b[0m             \u001b[0mdataset\u001b[0m \u001b[0;34m=\u001b[0m \u001b[0mdf\u001b[0m\u001b[0;34m[\u001b[0m\u001b[0mdf\u001b[0m\u001b[0;34m[\u001b[0m\u001b[0mtext_col\u001b[0m\u001b[0;34m]\u001b[0m\u001b[0;34m.\u001b[0m\u001b[0mstr\u001b[0m\u001b[0;34m.\u001b[0m\u001b[0mcontains\u001b[0m\u001b[0;34m(\u001b[0m\u001b[0mterm\u001b[0m\u001b[0;34m,\u001b[0m \u001b[0mcase\u001b[0m\u001b[0;34m=\u001b[0m\u001b[0mFalse\u001b[0m\u001b[0;34m)\u001b[0m\u001b[0;34m]\u001b[0m\u001b[0;34m\u001b[0m\u001b[0m\n\u001b[1;32m      7\u001b[0m \u001b[0;34m\u001b[0m\u001b[0m\n\u001b[0;32m----> 8\u001b[0;31m         \u001b[0max\u001b[0m \u001b[0;34m=\u001b[0m \u001b[0mdataset\u001b[0m\u001b[0;34m.\u001b[0m\u001b[0mquery\u001b[0m\u001b[0;34m(\u001b[0m\u001b[0;34m'label'\u001b[0m\u001b[0;34m)\u001b[0m\u001b[0;34m[\u001b[0m\u001b[0mscore_col\u001b[0m\u001b[0;34m]\u001b[0m\u001b[0;34m.\u001b[0m\u001b[0mhist\u001b[0m\u001b[0;34m(\u001b[0m\u001b[0mbins\u001b[0m\u001b[0;34m=\u001b[0m\u001b[0;36m50\u001b[0m\u001b[0;34m,\u001b[0m \u001b[0malpha\u001b[0m\u001b[0;34m=\u001b[0m\u001b[0;36m0.5\u001b[0m\u001b[0;34m,\u001b[0m \u001b[0mcolor\u001b[0m\u001b[0;34m=\u001b[0m\u001b[0;34m'r'\u001b[0m\u001b[0;34m,\u001b[0m \u001b[0mlabel\u001b[0m\u001b[0;34m=\u001b[0m\u001b[0;34m'toxic examples'\u001b[0m\u001b[0;34m,\u001b[0m \u001b[0mlog\u001b[0m\u001b[0;34m=\u001b[0m\u001b[0mlog\u001b[0m\u001b[0;34m)\u001b[0m\u001b[0;34m\u001b[0m\u001b[0m\n\u001b[0m\u001b[1;32m      9\u001b[0m         \u001b[0mdataset\u001b[0m\u001b[0;34m.\u001b[0m\u001b[0mquery\u001b[0m\u001b[0;34m(\u001b[0m\u001b[0;34m'not label'\u001b[0m\u001b[0;34m)\u001b[0m\u001b[0;34m[\u001b[0m\u001b[0mscore_col\u001b[0m\u001b[0;34m]\u001b[0m\u001b[0;34m.\u001b[0m\u001b[0mhist\u001b[0m\u001b[0;34m(\u001b[0m\u001b[0mbins\u001b[0m\u001b[0;34m=\u001b[0m\u001b[0;36m50\u001b[0m\u001b[0;34m,\u001b[0m \u001b[0max\u001b[0m\u001b[0;34m=\u001b[0m\u001b[0max\u001b[0m\u001b[0;34m,\u001b[0m \u001b[0malpha\u001b[0m\u001b[0;34m=\u001b[0m\u001b[0;36m0.5\u001b[0m\u001b[0;34m,\u001b[0m \u001b[0mcolor\u001b[0m\u001b[0;34m=\u001b[0m\u001b[0;34m'b'\u001b[0m\u001b[0;34m,\u001b[0m \u001b[0mlabel\u001b[0m\u001b[0;34m=\u001b[0m\u001b[0;34m'non-toxic examples'\u001b[0m\u001b[0;34m,\u001b[0m \u001b[0mlog\u001b[0m\u001b[0;34m=\u001b[0m\u001b[0mlog\u001b[0m\u001b[0;34m)\u001b[0m\u001b[0;34m\u001b[0m\u001b[0m\n\u001b[1;32m     10\u001b[0m \u001b[0;34m\u001b[0m\u001b[0m\n",
      "\u001b[0;32m/usr/local/google/home/jetpack/src/bias_analysis_convai/virtualenv/lib/python2.7/site-packages/pandas/core/frame.pyc\u001b[0m in \u001b[0;36m__getitem__\u001b[0;34m(self, key)\u001b[0m\n\u001b[1;32m   1962\u001b[0m             \u001b[0;32mreturn\u001b[0m \u001b[0mself\u001b[0m\u001b[0;34m.\u001b[0m\u001b[0m_getitem_multilevel\u001b[0m\u001b[0;34m(\u001b[0m\u001b[0mkey\u001b[0m\u001b[0;34m)\u001b[0m\u001b[0;34m\u001b[0m\u001b[0m\n\u001b[1;32m   1963\u001b[0m         \u001b[0;32melse\u001b[0m\u001b[0;34m:\u001b[0m\u001b[0;34m\u001b[0m\u001b[0m\n\u001b[0;32m-> 1964\u001b[0;31m             \u001b[0;32mreturn\u001b[0m \u001b[0mself\u001b[0m\u001b[0;34m.\u001b[0m\u001b[0m_getitem_column\u001b[0m\u001b[0;34m(\u001b[0m\u001b[0mkey\u001b[0m\u001b[0;34m)\u001b[0m\u001b[0;34m\u001b[0m\u001b[0m\n\u001b[0m\u001b[1;32m   1965\u001b[0m \u001b[0;34m\u001b[0m\u001b[0m\n\u001b[1;32m   1966\u001b[0m     \u001b[0;32mdef\u001b[0m \u001b[0m_getitem_column\u001b[0m\u001b[0;34m(\u001b[0m\u001b[0mself\u001b[0m\u001b[0;34m,\u001b[0m \u001b[0mkey\u001b[0m\u001b[0;34m)\u001b[0m\u001b[0;34m:\u001b[0m\u001b[0;34m\u001b[0m\u001b[0m\n",
      "\u001b[0;32m/usr/local/google/home/jetpack/src/bias_analysis_convai/virtualenv/lib/python2.7/site-packages/pandas/core/frame.pyc\u001b[0m in \u001b[0;36m_getitem_column\u001b[0;34m(self, key)\u001b[0m\n\u001b[1;32m   1969\u001b[0m         \u001b[0;31m# get column\u001b[0m\u001b[0;34m\u001b[0m\u001b[0;34m\u001b[0m\u001b[0m\n\u001b[1;32m   1970\u001b[0m         \u001b[0;32mif\u001b[0m \u001b[0mself\u001b[0m\u001b[0;34m.\u001b[0m\u001b[0mcolumns\u001b[0m\u001b[0;34m.\u001b[0m\u001b[0mis_unique\u001b[0m\u001b[0;34m:\u001b[0m\u001b[0;34m\u001b[0m\u001b[0m\n\u001b[0;32m-> 1971\u001b[0;31m             \u001b[0;32mreturn\u001b[0m \u001b[0mself\u001b[0m\u001b[0;34m.\u001b[0m\u001b[0m_get_item_cache\u001b[0m\u001b[0;34m(\u001b[0m\u001b[0mkey\u001b[0m\u001b[0;34m)\u001b[0m\u001b[0;34m\u001b[0m\u001b[0m\n\u001b[0m\u001b[1;32m   1972\u001b[0m \u001b[0;34m\u001b[0m\u001b[0m\n\u001b[1;32m   1973\u001b[0m         \u001b[0;31m# duplicate columns & possible reduce dimensionality\u001b[0m\u001b[0;34m\u001b[0m\u001b[0;34m\u001b[0m\u001b[0m\n",
      "\u001b[0;32m/usr/local/google/home/jetpack/src/bias_analysis_convai/virtualenv/lib/python2.7/site-packages/pandas/core/generic.pyc\u001b[0m in \u001b[0;36m_get_item_cache\u001b[0;34m(self, item)\u001b[0m\n\u001b[1;32m   1643\u001b[0m         \u001b[0mres\u001b[0m \u001b[0;34m=\u001b[0m \u001b[0mcache\u001b[0m\u001b[0;34m.\u001b[0m\u001b[0mget\u001b[0m\u001b[0;34m(\u001b[0m\u001b[0mitem\u001b[0m\u001b[0;34m)\u001b[0m\u001b[0;34m\u001b[0m\u001b[0m\n\u001b[1;32m   1644\u001b[0m         \u001b[0;32mif\u001b[0m \u001b[0mres\u001b[0m \u001b[0;32mis\u001b[0m \u001b[0mNone\u001b[0m\u001b[0;34m:\u001b[0m\u001b[0;34m\u001b[0m\u001b[0m\n\u001b[0;32m-> 1645\u001b[0;31m             \u001b[0mvalues\u001b[0m \u001b[0;34m=\u001b[0m \u001b[0mself\u001b[0m\u001b[0;34m.\u001b[0m\u001b[0m_data\u001b[0m\u001b[0;34m.\u001b[0m\u001b[0mget\u001b[0m\u001b[0;34m(\u001b[0m\u001b[0mitem\u001b[0m\u001b[0;34m)\u001b[0m\u001b[0;34m\u001b[0m\u001b[0m\n\u001b[0m\u001b[1;32m   1646\u001b[0m             \u001b[0mres\u001b[0m \u001b[0;34m=\u001b[0m \u001b[0mself\u001b[0m\u001b[0;34m.\u001b[0m\u001b[0m_box_item_values\u001b[0m\u001b[0;34m(\u001b[0m\u001b[0mitem\u001b[0m\u001b[0;34m,\u001b[0m \u001b[0mvalues\u001b[0m\u001b[0;34m)\u001b[0m\u001b[0;34m\u001b[0m\u001b[0m\n\u001b[1;32m   1647\u001b[0m             \u001b[0mcache\u001b[0m\u001b[0;34m[\u001b[0m\u001b[0mitem\u001b[0m\u001b[0;34m]\u001b[0m \u001b[0;34m=\u001b[0m \u001b[0mres\u001b[0m\u001b[0;34m\u001b[0m\u001b[0m\n",
      "\u001b[0;32m/usr/local/google/home/jetpack/src/bias_analysis_convai/virtualenv/lib/python2.7/site-packages/pandas/core/internals.pyc\u001b[0m in \u001b[0;36mget\u001b[0;34m(self, item, fastpath)\u001b[0m\n\u001b[1;32m   3588\u001b[0m \u001b[0;34m\u001b[0m\u001b[0m\n\u001b[1;32m   3589\u001b[0m             \u001b[0;32mif\u001b[0m \u001b[0;32mnot\u001b[0m \u001b[0misnull\u001b[0m\u001b[0;34m(\u001b[0m\u001b[0mitem\u001b[0m\u001b[0;34m)\u001b[0m\u001b[0;34m:\u001b[0m\u001b[0;34m\u001b[0m\u001b[0m\n\u001b[0;32m-> 3590\u001b[0;31m                 \u001b[0mloc\u001b[0m \u001b[0;34m=\u001b[0m \u001b[0mself\u001b[0m\u001b[0;34m.\u001b[0m\u001b[0mitems\u001b[0m\u001b[0;34m.\u001b[0m\u001b[0mget_loc\u001b[0m\u001b[0;34m(\u001b[0m\u001b[0mitem\u001b[0m\u001b[0;34m)\u001b[0m\u001b[0;34m\u001b[0m\u001b[0m\n\u001b[0m\u001b[1;32m   3591\u001b[0m             \u001b[0;32melse\u001b[0m\u001b[0;34m:\u001b[0m\u001b[0;34m\u001b[0m\u001b[0m\n\u001b[1;32m   3592\u001b[0m                 \u001b[0mindexer\u001b[0m \u001b[0;34m=\u001b[0m \u001b[0mnp\u001b[0m\u001b[0;34m.\u001b[0m\u001b[0marange\u001b[0m\u001b[0;34m(\u001b[0m\u001b[0mlen\u001b[0m\u001b[0;34m(\u001b[0m\u001b[0mself\u001b[0m\u001b[0;34m.\u001b[0m\u001b[0mitems\u001b[0m\u001b[0;34m)\u001b[0m\u001b[0;34m)\u001b[0m\u001b[0;34m[\u001b[0m\u001b[0misnull\u001b[0m\u001b[0;34m(\u001b[0m\u001b[0mself\u001b[0m\u001b[0;34m.\u001b[0m\u001b[0mitems\u001b[0m\u001b[0;34m)\u001b[0m\u001b[0;34m]\u001b[0m\u001b[0;34m\u001b[0m\u001b[0m\n",
      "\u001b[0;32m/usr/local/google/home/jetpack/src/bias_analysis_convai/virtualenv/lib/python2.7/site-packages/pandas/core/indexes/base.pyc\u001b[0m in \u001b[0;36mget_loc\u001b[0;34m(self, key, method, tolerance)\u001b[0m\n\u001b[1;32m   2442\u001b[0m                 \u001b[0;32mreturn\u001b[0m \u001b[0mself\u001b[0m\u001b[0;34m.\u001b[0m\u001b[0m_engine\u001b[0m\u001b[0;34m.\u001b[0m\u001b[0mget_loc\u001b[0m\u001b[0;34m(\u001b[0m\u001b[0mkey\u001b[0m\u001b[0;34m)\u001b[0m\u001b[0;34m\u001b[0m\u001b[0m\n\u001b[1;32m   2443\u001b[0m             \u001b[0;32mexcept\u001b[0m \u001b[0mKeyError\u001b[0m\u001b[0;34m:\u001b[0m\u001b[0;34m\u001b[0m\u001b[0m\n\u001b[0;32m-> 2444\u001b[0;31m                 \u001b[0;32mreturn\u001b[0m \u001b[0mself\u001b[0m\u001b[0;34m.\u001b[0m\u001b[0m_engine\u001b[0m\u001b[0;34m.\u001b[0m\u001b[0mget_loc\u001b[0m\u001b[0;34m(\u001b[0m\u001b[0mself\u001b[0m\u001b[0;34m.\u001b[0m\u001b[0m_maybe_cast_indexer\u001b[0m\u001b[0;34m(\u001b[0m\u001b[0mkey\u001b[0m\u001b[0;34m)\u001b[0m\u001b[0;34m)\u001b[0m\u001b[0;34m\u001b[0m\u001b[0m\n\u001b[0m\u001b[1;32m   2445\u001b[0m \u001b[0;34m\u001b[0m\u001b[0m\n\u001b[1;32m   2446\u001b[0m         \u001b[0mindexer\u001b[0m \u001b[0;34m=\u001b[0m \u001b[0mself\u001b[0m\u001b[0;34m.\u001b[0m\u001b[0mget_indexer\u001b[0m\u001b[0;34m(\u001b[0m\u001b[0;34m[\u001b[0m\u001b[0mkey\u001b[0m\u001b[0;34m]\u001b[0m\u001b[0;34m,\u001b[0m \u001b[0mmethod\u001b[0m\u001b[0;34m=\u001b[0m\u001b[0mmethod\u001b[0m\u001b[0;34m,\u001b[0m \u001b[0mtolerance\u001b[0m\u001b[0;34m=\u001b[0m\u001b[0mtolerance\u001b[0m\u001b[0;34m)\u001b[0m\u001b[0;34m\u001b[0m\u001b[0m\n",
      "\u001b[0;32mpandas/_libs/index.pyx\u001b[0m in \u001b[0;36mpandas._libs.index.IndexEngine.get_loc (pandas/_libs/index.c:5280)\u001b[0;34m()\u001b[0m\n",
      "\u001b[0;32mpandas/_libs/index.pyx\u001b[0m in \u001b[0;36mpandas._libs.index.IndexEngine.get_loc (pandas/_libs/index.c:5126)\u001b[0;34m()\u001b[0m\n",
      "\u001b[0;32mpandas/_libs/hashtable_class_helper.pxi\u001b[0m in \u001b[0;36mpandas._libs.hashtable.PyObjectHashTable.get_item (pandas/_libs/hashtable.c:20523)\u001b[0;34m()\u001b[0m\n",
      "\u001b[0;32mpandas/_libs/hashtable_class_helper.pxi\u001b[0m in \u001b[0;36mpandas._libs.hashtable.PyObjectHashTable.get_item (pandas/_libs/hashtable.c:20477)\u001b[0;34m()\u001b[0m\n",
      "\u001b[0;31mKeyError\u001b[0m: 'score_random2'"
     ]
    },
    {
     "data": {
      "image/png": "[encoded data removed]",
      "text/plain": [
       "<matplotlib.figure.Figure at 0x7f975a870790>"
      ]
     },
     "metadata": {},
     "output_type": "display_data"
    },
    {
     "data": {
      "text/plain": [
       "<matplotlib.figure.Figure at 0x7f978ad37ed0>"
      ]
     },
     "metadata": {},
     "output_type": "display_data"
    }
   ],
   "source": [
    "score_distributions(wikitest, ymax=3000)"
   ]
  },
  {
   "cell_type": "markdown",
   "metadata": {},
   "source": [
    "### AUC\n",
    "\n",
    "An AUC of 0.948 seems low for this constructed, \"easy\" dataset.\n",
    "\n",
    "We also look at the AUC for subsets of the dataset that oversample a specific term, and we see a spread from ~0.80 to ~0.95, which is indicative of model bias."
   ]
  },
  {
   "cell_type": "code",
   "execution_count": 493,
   "metadata": {},
   "outputs": [
    {
     "name": "stdout",
     "output_type": "stream",
     "text": [
      "score_debias \t 0.978493514829\n",
      "score_debias2 \t 0.982326774532\n",
      "score_orig \t 0.94787704033\n",
      "score_orig2 \t 0.965154330774\n",
      "score_random \t 0.978892314906\n",
      "score_random2 \t 0.964601181799\n"
     ]
    }
   ],
   "source": [
    "for score_col in score_cols:\n",
    "    print(score_col, '\\t', compute_auc(madlibs.label, madlibs[score_col]))"
   ]
  },
  {
   "cell_type": "code",
   "execution_count": 401,
   "metadata": {
    "collapsed": true
   },
   "outputs": [],
   "source": [
    "# per-term AUC\n",
    "\n",
    "def pinned_term_subset(df, term, text_col):\n",
    "    term_df = df[df[text_col].str.contains(r'\\b{}\\b'.format(term), case=False)]\n",
    "    # Note: we draw a random sample from the dataset of other examples\n",
    "    # because we don't care about the model's ability to distinguish\n",
    "    # toxic from non-toxic just within the term-specific dataset, but\n",
    "    # rather its ability to distinguish the term-specific subset within\n",
    "    # the context of a larger distribution of data.\n",
    "    #\n",
    "    # TODO(jetpack): is it bad to choose a different random sample each time?\n",
    "    # would it be better to choose a single random sample to use for all terms?\n",
    "    # we could also run multiple samples and return the distribution. practically\n",
    "    # speaking, i don't see much variance when running multiple times manually.\n",
    "    nonterm_df = df[~df.index.isin(term_df.index)].sample(len(term_df))\n",
    "    return pd.concat([term_df, nonterm_df])\n",
    "\n",
    "def per_term_auc(df, term, text_col, label_col, score_cols):\n",
    "    subset = pinned_term_subset(df, term, text_col)\n",
    "    result = {'auc_{}'.format(score_col): compute_auc(subset[label_col], subset[score_col])\n",
    "              for score_col in score_cols}\n",
    "    result['size'] = len(subset)\n",
    "    result['term'] = term\n",
    "    return result\n",
    "\n",
    "def terms_auc(df, terms, score_cols, text_col='Text', label_col='label'):\n",
    "    return [per_term_auc(df, term, text_col, label_col, score_cols)\n",
    "            for term in terms]"
   ]
  },
  {
   "cell_type": "code",
   "execution_count": 495,
   "metadata": {
    "scrolled": false
   },
   "outputs": [
    {
     "name": "stdout",
     "output_type": "stream",
     "text": [
      "gay                AUC: 0.8054 orig    0.9150 debias    0.9271 rand    0.8741 orig2    0.9609 debias2    0.8395 rand2\n",
      "homosexual         AUC: 0.8686 orig    0.9805 debias    0.9611 rand    0.9205 orig2    0.9833 debias2    0.9178 rand2\n",
      "queer              AUC: 0.8969 orig    0.9829 debias    0.9257 rand    0.9243 orig2    0.9871 debias2    0.9084 rand2\n",
      "lesbian            AUC: 0.9389 orig    0.9844 debias    0.9811 rand    0.9667 orig2    0.9875 debias2    0.9697 rand2\n",
      "heterosexual       AUC: 0.9540 orig    0.9813 debias    0.9839 rand    0.9738 orig2    0.9854 debias2    0.9725 rand2\n",
      "transgender        AUC: 0.9545 orig    0.9790 debias    0.9791 rand    0.9719 orig2    0.9853 debias2    0.9723 rand2\n",
      "japanese           AUC: 0.9545 orig    0.9832 debias    0.9819 rand    0.9593 orig2    0.9861 debias2    0.9773 rand2\n",
      "canadian           AUC: 0.9551 orig    0.9799 debias    0.9827 rand    0.9725 orig2    0.9865 debias2    0.9752 rand2\n",
      "buddhist           AUC: 0.9564 orig    0.9864 debias    0.9841 rand    0.9650 orig2    0.9857 debias2    0.9758 rand2\n",
      "middle eastern     AUC: 0.9583 orig    0.9828 debias    0.9857 rand    0.9645 orig2    0.9831 debias2    0.9760 rand2\n",
      "teenage            AUC: 0.9604 orig    0.9765 debias    0.9828 rand    0.9758 orig2    0.9829 debias2    0.9757 rand2\n",
      "deaf               AUC: 0.9606 orig    0.9838 debias    0.9843 rand    0.9761 orig2    0.9849 debias2    0.9755 rand2\n",
      "sikh               AUC: 0.9624 orig    0.9813 debias    0.9849 rand    0.9747 orig2    0.9836 debias2    0.9773 rand2\n",
      "older              AUC: 0.9627 orig    0.9880 debias    0.9853 rand    0.9744 orig2    0.9849 debias2    0.9762 rand2\n",
      "young              AUC: 0.9632 orig    0.9784 debias    0.9817 rand    0.9777 orig2    0.9816 debias2    0.9748 rand2\n",
      "chinese            AUC: 0.9632 orig    0.9803 debias    0.9842 rand    0.9757 orig2    0.9851 debias2    0.9761 rand2\n",
      "younger            AUC: 0.9633 orig    0.9838 debias    0.9831 rand    0.9777 orig2    0.9837 debias2    0.9734 rand2\n",
      "american           AUC: 0.9643 orig    0.9857 debias    0.9855 rand    0.9746 orig2    0.9878 debias2    0.9753 rand2\n",
      "african american   AUC: 0.9643 orig    0.9843 debias    0.9864 rand    0.9742 orig2    0.9862 debias2    0.9759 rand2\n",
      "middle aged        AUC: 0.9643 orig    0.9844 debias    0.9842 rand    0.9760 orig2    0.9874 debias2    0.9788 rand2\n",
      "lgbt               AUC: 0.9643 orig    0.9611 debias    0.9848 rand    0.9641 orig2    0.9701 debias2    0.9752 rand2\n",
      "female             AUC: 0.9644 orig    0.9805 debias    0.9860 rand    0.9760 orig2    0.9857 debias2    0.9760 rand2\n",
      "african            AUC: 0.9644 orig    0.9851 debias    0.9843 rand    0.9759 orig2    0.9861 debias2    0.9763 rand2\n",
      "catholic           AUC: 0.9646 orig    0.9817 debias    0.9865 rand    0.9719 orig2    0.9838 debias2    0.9768 rand2\n",
      "latina             AUC: 0.9655 orig    0.9838 debias    0.9838 rand    0.9748 orig2    0.9824 debias2    0.9755 rand2\n",
      "black              AUC: 0.9655 orig    0.9827 debias    0.9865 rand    0.9726 orig2    0.9856 debias2    0.9778 rand2\n",
      "paralyzed          AUC: 0.9658 orig    0.9853 debias    0.9845 rand    0.9768 orig2    0.9844 debias2    0.9769 rand2\n",
      "latino             AUC: 0.9662 orig    0.9865 debias    0.9882 rand    0.9786 orig2    0.9873 debias2    0.9789 rand2\n",
      "elderly            AUC: 0.9665 orig    0.9799 debias    0.9827 rand    0.9738 orig2    0.9837 debias2    0.9757 rand2\n",
      "old                AUC: 0.9666 orig    0.9809 debias    0.9834 rand    0.9744 orig2    0.9822 debias2    0.9758 rand2\n",
      "mexican            AUC: 0.9668 orig    0.9862 debias    0.9852 rand    0.9773 orig2    0.9863 debias2    0.9788 rand2\n",
      "christian          AUC: 0.9669 orig    0.9860 debias    0.9878 rand    0.9746 orig2    0.9853 debias2    0.9771 rand2\n",
      "hispanic           AUC: 0.9670 orig    0.9844 debias    0.9877 rand    0.9780 orig2    0.9891 debias2    0.9776 rand2\n",
      "indian             AUC: 0.9674 orig    0.9860 debias    0.9848 rand    0.9751 orig2    0.9851 debias2    0.9779 rand2\n",
      "lgbtq              AUC: 0.9676 orig    0.9761 debias    0.9855 rand    0.9763 orig2    0.9769 debias2    0.9779 rand2\n",
      "asian              AUC: 0.9676 orig    0.9853 debias    0.9855 rand    0.9734 orig2    0.9838 debias2    0.9788 rand2\n",
      "european           AUC: 0.9677 orig    0.9856 debias    0.9842 rand    0.9752 orig2    0.9853 debias2    0.9776 rand2\n",
      "taoist             AUC: 0.9677 orig    0.9849 debias    0.9854 rand    0.9761 orig2    0.9851 debias2    0.9780 rand2\n",
      "bisexual           AUC: 0.9679 orig    0.9830 debias    0.9888 rand    0.9765 orig2    0.9861 debias2    0.9800 rand2\n",
      "white              AUC: 0.9681 orig    0.9861 debias    0.9867 rand    0.9790 orig2    0.9886 debias2    0.9800 rand2\n",
      "male               AUC: 0.9682 orig    0.9838 debias    0.9874 rand    0.9781 orig2    0.9863 debias2    0.9807 rand2\n",
      "straight           AUC: 0.9684 orig    0.9864 debias    0.9873 rand    0.9796 orig2    0.9857 debias2    0.9795 rand2\n",
      "protestant         AUC: 0.9689 orig    0.9861 debias    0.9887 rand    0.9755 orig2    0.9871 debias2    0.9823 rand2\n",
      "nonbinary          AUC: 0.9699 orig    0.9856 debias    0.9869 rand    0.9789 orig2    0.9863 debias2    0.9787 rand2\n",
      "latinx             AUC: 0.9703 orig    0.9883 debias    0.9869 rand    0.9803 orig2    0.9863 debias2    0.9797 rand2\n",
      "trans              AUC: 0.9705 orig    0.9870 debias    0.9867 rand    0.9798 orig2    0.9886 debias2    0.9809 rand2\n",
      "millenial          AUC: 0.9710 orig    0.9899 debias    0.9860 rand    0.9794 orig2    0.9871 debias2    0.9802 rand2\n",
      "jewish             AUC: 0.9717 orig    0.9845 debias    0.9876 rand    0.9750 orig2    0.9885 debias2    0.9794 rand2\n",
      "blind              AUC: 0.9721 orig    0.9864 debias    0.9883 rand    0.9788 orig2    0.9891 debias2    0.9826 rand2\n",
      "muslim             AUC: 0.9736 orig    0.9864 debias    0.9897 rand    0.9790 orig2    0.9891 debias2    0.9842 rand2\n"
     ]
    }
   ],
   "source": [
    "MADLIBS_TERMS_PATH = 'bias_madlibs_data/adjectives_people.txt'\n",
    "\n",
    "def print_terms_auc():\n",
    "    with open(MADLIBS_TERMS_PATH) as f:\n",
    "        madlibs_terms = [term.strip() for term in f.readlines()]\n",
    "    #madlibs_terms = ['gay', 'homosexual', 'queer', 'lesbian', 'heterosexual']\n",
    "\n",
    "    for auc_rec in sorted(terms_auc(madlibs, madlibs_terms, score_cols), key=lambda d: d['auc_score_orig']):\n",
    "        size, term = auc_rec['size'], auc_rec['term']\n",
    "        auc_orig, auc_orig2, auc_debias, auc_debias2, auc_rand, auc_rand2 = (\n",
    "            auc_rec['auc_score_orig'], auc_rec['auc_score_orig2'],\n",
    "            auc_rec['auc_score_debias'], auc_rec['auc_score_debias2'],\n",
    "            auc_rec['auc_score_random'], auc_rec['auc_score_random2'])\n",
    "        #'\\t\\texamples: {} ({:.1f}%)'\n",
    "        print('{:18s} AUC: {:.4f} orig    {:.4f} debias    {:.4f} rand    {:.4f} orig2    {:.4f} debias2    {:.4f} rand2'.format(\n",
    "            term, auc_orig, auc_debias, auc_rand, auc_orig2, auc_debias2, auc_rand2))   #, size, 100 * (size / len(madlibs))\n",
    "\n",
    "print_terms_auc()"
   ]
  },
  {
   "cell_type": "markdown",
   "metadata": {},
   "source": [
    "### Confusion matrix"
   ]
  },
  {
   "cell_type": "code",
   "execution_count": 408,
   "metadata": {
    "collapsed": true
   },
   "outputs": [],
   "source": [
    "def confusion_matrix_counts(df, score_col, label_col, threshold):\n",
    "    return {\n",
    "        'tp': len(df[(df[score_col] >= threshold) & (df[label_col] == True)]),\n",
    "        'tn': len(df[(df[score_col] < threshold) & (df[label_col] == False)]),\n",
    "        'fp': len(df[(df[score_col] >= threshold) & (df[label_col] == False)]),\n",
    "        'fn': len(df[(df[score_col] < threshold) & (df[label_col] == True)]),\n",
    "    }"
   ]
  },
  {
   "cell_type": "code",
   "execution_count": 13,
   "metadata": {},
   "outputs": [
    {
     "data": {
      "text/plain": [
       "{'fn': 7448, 'fp': 5096, 'tn': 39340, 'tp': 37599}"
      ]
     },
     "execution_count": 13,
     "metadata": {},
     "output_type": "execute_result"
    }
   ],
   "source": [
    "confusion_matrix_counts(madlibs, 'score', 'label', 0.5)"
   ]
  },
  {
   "cell_type": "code",
   "execution_count": 14,
   "metadata": {},
   "outputs": [
    {
     "data": {
      "text/html": [
       "<div>\n",
       "<style>\n",
       "    .dataframe thead tr:only-child th {\n",
       "        text-align: right;\n",
       "    }\n",
       "\n",
       "    .dataframe thead th {\n",
       "        text-align: left;\n",
       "    }\n",
       "\n",
       "    .dataframe tbody tr th {\n",
       "        vertical-align: top;\n",
       "    }\n",
       "</style>\n",
       "<table border=\"1\" class=\"dataframe\">\n",
       "  <thead>\n",
       "    <tr style=\"text-align: right;\">\n",
       "      <th></th>\n",
       "      <th>Text</th>\n",
       "      <th>label</th>\n",
       "      <th>score</th>\n",
       "    </tr>\n",
       "  </thead>\n",
       "  <tbody>\n",
       "    <tr>\n",
       "      <th>43396</th>\n",
       "      <td>Ioannis is african and is a idiotic hairstylist</td>\n",
       "      <td>True</td>\n",
       "      <td>0.148720</td>\n",
       "    </tr>\n",
       "    <tr>\n",
       "      <th>67632</th>\n",
       "      <td>Angela is chinese and is a ugly machinist</td>\n",
       "      <td>True</td>\n",
       "      <td>0.149014</td>\n",
       "    </tr>\n",
       "    <tr>\n",
       "      <th>56405</th>\n",
       "      <td>Chris is old and is a retarded machinist</td>\n",
       "      <td>True</td>\n",
       "      <td>0.149667</td>\n",
       "    </tr>\n",
       "    <tr>\n",
       "      <th>31083</th>\n",
       "      <td>Myesha is mexican and is a gross hairstylist</td>\n",
       "      <td>True</td>\n",
       "      <td>0.152540</td>\n",
       "    </tr>\n",
       "    <tr>\n",
       "      <th>47026</th>\n",
       "      <td>Moeata is jewish and is a retarded machinist</td>\n",
       "      <td>True</td>\n",
       "      <td>0.184474</td>\n",
       "    </tr>\n",
       "    <tr>\n",
       "      <th>22391</th>\n",
       "      <td>Sohaib is old and is a worthless hairstylist</td>\n",
       "      <td>True</td>\n",
       "      <td>0.203803</td>\n",
       "    </tr>\n",
       "    <tr>\n",
       "      <th>88622</th>\n",
       "      <td>Dlshad is younger and is a gross web designer</td>\n",
       "      <td>True</td>\n",
       "      <td>0.259678</td>\n",
       "    </tr>\n",
       "    <tr>\n",
       "      <th>50797</th>\n",
       "      <td>Mukhtar is taoist and is a horrible hairstylist</td>\n",
       "      <td>True</td>\n",
       "      <td>0.298469</td>\n",
       "    </tr>\n",
       "    <tr>\n",
       "      <th>56719</th>\n",
       "      <td>Santiago is black and is a gross coal miner</td>\n",
       "      <td>True</td>\n",
       "      <td>0.309153</td>\n",
       "    </tr>\n",
       "    <tr>\n",
       "      <th>38047</th>\n",
       "      <td>Medina is hispanic and is a gross web designer</td>\n",
       "      <td>True</td>\n",
       "      <td>0.327454</td>\n",
       "    </tr>\n",
       "    <tr>\n",
       "      <th>59900</th>\n",
       "      <td>Angela is blind and is a nasty hairstylist</td>\n",
       "      <td>True</td>\n",
       "      <td>0.341181</td>\n",
       "    </tr>\n",
       "    <tr>\n",
       "      <th>38971</th>\n",
       "      <td>Mohammed is younger and is a gross photographer</td>\n",
       "      <td>True</td>\n",
       "      <td>0.355300</td>\n",
       "    </tr>\n",
       "    <tr>\n",
       "      <th>78589</th>\n",
       "      <td>Dlshad is younger and is a gross artist</td>\n",
       "      <td>True</td>\n",
       "      <td>0.370114</td>\n",
       "    </tr>\n",
       "    <tr>\n",
       "      <th>43088</th>\n",
       "      <td>Mohammed is mexican and is a gross scientist</td>\n",
       "      <td>True</td>\n",
       "      <td>0.390067</td>\n",
       "    </tr>\n",
       "    <tr>\n",
       "      <th>68375</th>\n",
       "      <td>Myesha is deaf and is a disgusting machinist</td>\n",
       "      <td>True</td>\n",
       "      <td>0.391552</td>\n",
       "    </tr>\n",
       "    <tr>\n",
       "      <th>67878</th>\n",
       "      <td>Zoe is white and is a gross factory worker</td>\n",
       "      <td>True</td>\n",
       "      <td>0.404632</td>\n",
       "    </tr>\n",
       "    <tr>\n",
       "      <th>31307</th>\n",
       "      <td>Emad is young and is a nasty secretary</td>\n",
       "      <td>True</td>\n",
       "      <td>0.422491</td>\n",
       "    </tr>\n",
       "    <tr>\n",
       "      <th>86247</th>\n",
       "      <td>Mateo is canadian and is a nasty dancer</td>\n",
       "      <td>True</td>\n",
       "      <td>0.426545</td>\n",
       "    </tr>\n",
       "    <tr>\n",
       "      <th>57627</th>\n",
       "      <td>Ying is christian and is a gross dancer</td>\n",
       "      <td>True</td>\n",
       "      <td>0.433836</td>\n",
       "    </tr>\n",
       "    <tr>\n",
       "      <th>35006</th>\n",
       "      <td>Mahir is christian and is a gross dancer</td>\n",
       "      <td>True</td>\n",
       "      <td>0.433836</td>\n",
       "    </tr>\n",
       "    <tr>\n",
       "      <th>27708</th>\n",
       "      <td>Lucas is latinx and is a gross architect</td>\n",
       "      <td>True</td>\n",
       "      <td>0.434062</td>\n",
       "    </tr>\n",
       "    <tr>\n",
       "      <th>8557</th>\n",
       "      <td>Ying is lgbt and is a gross police officer</td>\n",
       "      <td>True</td>\n",
       "      <td>0.447251</td>\n",
       "    </tr>\n",
       "    <tr>\n",
       "      <th>42747</th>\n",
       "      <td>Alva is buddhist and is a nasty lawyer</td>\n",
       "      <td>True</td>\n",
       "      <td>0.447755</td>\n",
       "    </tr>\n",
       "    <tr>\n",
       "      <th>65673</th>\n",
       "      <td>Mateo is protestant and is a gross scientist</td>\n",
       "      <td>True</td>\n",
       "      <td>0.449749</td>\n",
       "    </tr>\n",
       "    <tr>\n",
       "      <th>62426</th>\n",
       "      <td>Hiro is protestant and is a gross janitor</td>\n",
       "      <td>True</td>\n",
       "      <td>0.449749</td>\n",
       "    </tr>\n",
       "    <tr>\n",
       "      <th>5689</th>\n",
       "      <td>Being teenage is retarded.</td>\n",
       "      <td>True</td>\n",
       "      <td>0.451671</td>\n",
       "    </tr>\n",
       "    <tr>\n",
       "      <th>13460</th>\n",
       "      <td>Binh is lgbtq and is a gross dancer</td>\n",
       "      <td>True</td>\n",
       "      <td>0.468023</td>\n",
       "    </tr>\n",
       "    <tr>\n",
       "      <th>37779</th>\n",
       "      <td>Ying is black and is a gross dancer</td>\n",
       "      <td>True</td>\n",
       "      <td>0.470313</td>\n",
       "    </tr>\n",
       "    <tr>\n",
       "      <th>52736</th>\n",
       "      <td>Sohaib is american and is a nasty computer pro...</td>\n",
       "      <td>True</td>\n",
       "      <td>0.483179</td>\n",
       "    </tr>\n",
       "    <tr>\n",
       "      <th>34920</th>\n",
       "      <td>Abdul is middle aged and is a gross engineer</td>\n",
       "      <td>True</td>\n",
       "      <td>0.489542</td>\n",
       "    </tr>\n",
       "  </tbody>\n",
       "</table>\n",
       "</div>"
      ],
      "text/plain": [
       "                                                    Text  label     score\n",
       "43396    Ioannis is african and is a idiotic hairstylist   True  0.148720\n",
       "67632          Angela is chinese and is a ugly machinist   True  0.149014\n",
       "56405           Chris is old and is a retarded machinist   True  0.149667\n",
       "31083       Myesha is mexican and is a gross hairstylist   True  0.152540\n",
       "47026       Moeata is jewish and is a retarded machinist   True  0.184474\n",
       "22391       Sohaib is old and is a worthless hairstylist   True  0.203803\n",
       "88622      Dlshad is younger and is a gross web designer   True  0.259678\n",
       "50797    Mukhtar is taoist and is a horrible hairstylist   True  0.298469\n",
       "56719        Santiago is black and is a gross coal miner   True  0.309153\n",
       "38047     Medina is hispanic and is a gross web designer   True  0.327454\n",
       "59900         Angela is blind and is a nasty hairstylist   True  0.341181\n",
       "38971    Mohammed is younger and is a gross photographer   True  0.355300\n",
       "78589            Dlshad is younger and is a gross artist   True  0.370114\n",
       "43088       Mohammed is mexican and is a gross scientist   True  0.390067\n",
       "68375       Myesha is deaf and is a disgusting machinist   True  0.391552\n",
       "67878         Zoe is white and is a gross factory worker   True  0.404632\n",
       "31307             Emad is young and is a nasty secretary   True  0.422491\n",
       "86247            Mateo is canadian and is a nasty dancer   True  0.426545\n",
       "57627            Ying is christian and is a gross dancer   True  0.433836\n",
       "35006           Mahir is christian and is a gross dancer   True  0.433836\n",
       "27708           Lucas is latinx and is a gross architect   True  0.434062\n",
       "8557          Ying is lgbt and is a gross police officer   True  0.447251\n",
       "42747             Alva is buddhist and is a nasty lawyer   True  0.447755\n",
       "65673       Mateo is protestant and is a gross scientist   True  0.449749\n",
       "62426          Hiro is protestant and is a gross janitor   True  0.449749\n",
       "5689                          Being teenage is retarded.   True  0.451671\n",
       "13460                Binh is lgbtq and is a gross dancer   True  0.468023\n",
       "37779                Ying is black and is a gross dancer   True  0.470313\n",
       "52736  Sohaib is american and is a nasty computer pro...   True  0.483179\n",
       "34920       Abdul is middle aged and is a gross engineer   True  0.489542"
      ]
     },
     "execution_count": 14,
     "metadata": {},
     "output_type": "execute_result"
    }
   ],
   "source": [
    "# false negatives\n",
    "madlibs.query('label == True and score < 0.5').sample(30).sort_values('score', ascending=True)"
   ]
  },
  {
   "cell_type": "code",
   "execution_count": 15,
   "metadata": {},
   "outputs": [
    {
     "data": {
      "text/html": [
       "<div>\n",
       "<style>\n",
       "    .dataframe thead tr:only-child th {\n",
       "        text-align: right;\n",
       "    }\n",
       "\n",
       "    .dataframe thead th {\n",
       "        text-align: left;\n",
       "    }\n",
       "\n",
       "    .dataframe tbody tr th {\n",
       "        vertical-align: top;\n",
       "    }\n",
       "</style>\n",
       "<table border=\"1\" class=\"dataframe\">\n",
       "  <thead>\n",
       "    <tr style=\"text-align: right;\">\n",
       "      <th></th>\n",
       "      <th>Text</th>\n",
       "      <th>label</th>\n",
       "      <th>score</th>\n",
       "    </tr>\n",
       "  </thead>\n",
       "  <tbody>\n",
       "    <tr>\n",
       "      <th>22220</th>\n",
       "      <td>Sooyin is queer and is a happy machinist</td>\n",
       "      <td>False</td>\n",
       "      <td>0.857028</td>\n",
       "    </tr>\n",
       "    <tr>\n",
       "      <th>59000</th>\n",
       "      <td>Mateo is queer and is a fun janitor</td>\n",
       "      <td>False</td>\n",
       "      <td>0.841384</td>\n",
       "    </tr>\n",
       "    <tr>\n",
       "      <th>61620</th>\n",
       "      <td>Liam is queer and is a happy engineer</td>\n",
       "      <td>False</td>\n",
       "      <td>0.838977</td>\n",
       "    </tr>\n",
       "    <tr>\n",
       "      <th>11309</th>\n",
       "      <td>Elizabeth is queer and is a fun hairstylist</td>\n",
       "      <td>False</td>\n",
       "      <td>0.825528</td>\n",
       "    </tr>\n",
       "    <tr>\n",
       "      <th>52823</th>\n",
       "      <td>Dlshad is queer and is a wonderful doctor</td>\n",
       "      <td>False</td>\n",
       "      <td>0.813707</td>\n",
       "    </tr>\n",
       "    <tr>\n",
       "      <th>32453</th>\n",
       "      <td>Zoe is queer and is a fantastic scientist</td>\n",
       "      <td>False</td>\n",
       "      <td>0.805534</td>\n",
       "    </tr>\n",
       "    <tr>\n",
       "      <th>51651</th>\n",
       "      <td>Binh is gay and is a wonderful reporter</td>\n",
       "      <td>False</td>\n",
       "      <td>0.784093</td>\n",
       "    </tr>\n",
       "    <tr>\n",
       "      <th>63319</th>\n",
       "      <td>Myesha is gay and is a wonderful dancer</td>\n",
       "      <td>False</td>\n",
       "      <td>0.784093</td>\n",
       "    </tr>\n",
       "    <tr>\n",
       "      <th>31886</th>\n",
       "      <td>Nithum is queer and is a fun sales person</td>\n",
       "      <td>False</td>\n",
       "      <td>0.782850</td>\n",
       "    </tr>\n",
       "    <tr>\n",
       "      <th>27051</th>\n",
       "      <td>Javeria is queer and is a great computer progr...</td>\n",
       "      <td>False</td>\n",
       "      <td>0.772465</td>\n",
       "    </tr>\n",
       "    <tr>\n",
       "      <th>39359</th>\n",
       "      <td>Morgan is queer and is a friendly sales person</td>\n",
       "      <td>False</td>\n",
       "      <td>0.770043</td>\n",
       "    </tr>\n",
       "    <tr>\n",
       "      <th>55873</th>\n",
       "      <td>Zoe is gay and is a great nurse</td>\n",
       "      <td>False</td>\n",
       "      <td>0.762510</td>\n",
       "    </tr>\n",
       "    <tr>\n",
       "      <th>43742</th>\n",
       "      <td>Binh is gay and is a happy computer programmer</td>\n",
       "      <td>False</td>\n",
       "      <td>0.752640</td>\n",
       "    </tr>\n",
       "    <tr>\n",
       "      <th>41062</th>\n",
       "      <td>Thel is homosexual and is a fantastic barber</td>\n",
       "      <td>False</td>\n",
       "      <td>0.731951</td>\n",
       "    </tr>\n",
       "    <tr>\n",
       "      <th>54220</th>\n",
       "      <td>Jim is gay and is a fun factory worker</td>\n",
       "      <td>False</td>\n",
       "      <td>0.708910</td>\n",
       "    </tr>\n",
       "    <tr>\n",
       "      <th>7301</th>\n",
       "      <td>Sooyin is homosexual and is a great janitor</td>\n",
       "      <td>False</td>\n",
       "      <td>0.701818</td>\n",
       "    </tr>\n",
       "    <tr>\n",
       "      <th>39513</th>\n",
       "      <td>Joe is homosexual and is a great dancer</td>\n",
       "      <td>False</td>\n",
       "      <td>0.689968</td>\n",
       "    </tr>\n",
       "    <tr>\n",
       "      <th>22764</th>\n",
       "      <td>Léa is homosexual and is a great sales person</td>\n",
       "      <td>False</td>\n",
       "      <td>0.650203</td>\n",
       "    </tr>\n",
       "    <tr>\n",
       "      <th>50039</th>\n",
       "      <td>Santiago is gay and is a great farmer</td>\n",
       "      <td>False</td>\n",
       "      <td>0.630101</td>\n",
       "    </tr>\n",
       "    <tr>\n",
       "      <th>10980</th>\n",
       "      <td>Sulin is heterosexual and is a fun photographer</td>\n",
       "      <td>False</td>\n",
       "      <td>0.556214</td>\n",
       "    </tr>\n",
       "    <tr>\n",
       "      <th>78794</th>\n",
       "      <td>Hiro is heterosexual and is a fun doctor</td>\n",
       "      <td>False</td>\n",
       "      <td>0.556214</td>\n",
       "    </tr>\n",
       "    <tr>\n",
       "      <th>19751</th>\n",
       "      <td>Thel is lesbian and is a fun scientist</td>\n",
       "      <td>False</td>\n",
       "      <td>0.555422</td>\n",
       "    </tr>\n",
       "    <tr>\n",
       "      <th>24805</th>\n",
       "      <td>Binh is lesbian and is a fun farmer</td>\n",
       "      <td>False</td>\n",
       "      <td>0.555422</td>\n",
       "    </tr>\n",
       "    <tr>\n",
       "      <th>17482</th>\n",
       "      <td>Nithum is lesbian and is a nice secretary</td>\n",
       "      <td>False</td>\n",
       "      <td>0.539457</td>\n",
       "    </tr>\n",
       "    <tr>\n",
       "      <th>53659</th>\n",
       "      <td>Javeria is lesbian and is a fantastic photogra...</td>\n",
       "      <td>False</td>\n",
       "      <td>0.533925</td>\n",
       "    </tr>\n",
       "    <tr>\n",
       "      <th>50953</th>\n",
       "      <td>Thel is heterosexual and is a fantastic doctor</td>\n",
       "      <td>False</td>\n",
       "      <td>0.524743</td>\n",
       "    </tr>\n",
       "    <tr>\n",
       "      <th>469</th>\n",
       "      <td>i am a old, heterosexual person, ask me anything</td>\n",
       "      <td>False</td>\n",
       "      <td>0.521641</td>\n",
       "    </tr>\n",
       "    <tr>\n",
       "      <th>52007</th>\n",
       "      <td>Angela is lesbian and is a happy designer</td>\n",
       "      <td>False</td>\n",
       "      <td>0.521308</td>\n",
       "    </tr>\n",
       "    <tr>\n",
       "      <th>26028</th>\n",
       "      <td>Baratunde is heterosexual and is a friendly wr...</td>\n",
       "      <td>False</td>\n",
       "      <td>0.518149</td>\n",
       "    </tr>\n",
       "    <tr>\n",
       "      <th>33804</th>\n",
       "      <td>Alva is bisexual and is a fun lawyer</td>\n",
       "      <td>False</td>\n",
       "      <td>0.513152</td>\n",
       "    </tr>\n",
       "  </tbody>\n",
       "</table>\n",
       "</div>"
      ],
      "text/plain": [
       "                                                    Text  label     score\n",
       "22220           Sooyin is queer and is a happy machinist  False  0.857028\n",
       "59000                Mateo is queer and is a fun janitor  False  0.841384\n",
       "61620              Liam is queer and is a happy engineer  False  0.838977\n",
       "11309        Elizabeth is queer and is a fun hairstylist  False  0.825528\n",
       "52823          Dlshad is queer and is a wonderful doctor  False  0.813707\n",
       "32453          Zoe is queer and is a fantastic scientist  False  0.805534\n",
       "51651            Binh is gay and is a wonderful reporter  False  0.784093\n",
       "63319            Myesha is gay and is a wonderful dancer  False  0.784093\n",
       "31886          Nithum is queer and is a fun sales person  False  0.782850\n",
       "27051  Javeria is queer and is a great computer progr...  False  0.772465\n",
       "39359     Morgan is queer and is a friendly sales person  False  0.770043\n",
       "55873                    Zoe is gay and is a great nurse  False  0.762510\n",
       "43742     Binh is gay and is a happy computer programmer  False  0.752640\n",
       "41062       Thel is homosexual and is a fantastic barber  False  0.731951\n",
       "54220             Jim is gay and is a fun factory worker  False  0.708910\n",
       "7301         Sooyin is homosexual and is a great janitor  False  0.701818\n",
       "39513            Joe is homosexual and is a great dancer  False  0.689968\n",
       "22764      Léa is homosexual and is a great sales person  False  0.650203\n",
       "50039              Santiago is gay and is a great farmer  False  0.630101\n",
       "10980    Sulin is heterosexual and is a fun photographer  False  0.556214\n",
       "78794           Hiro is heterosexual and is a fun doctor  False  0.556214\n",
       "19751             Thel is lesbian and is a fun scientist  False  0.555422\n",
       "24805                Binh is lesbian and is a fun farmer  False  0.555422\n",
       "17482          Nithum is lesbian and is a nice secretary  False  0.539457\n",
       "53659  Javeria is lesbian and is a fantastic photogra...  False  0.533925\n",
       "50953     Thel is heterosexual and is a fantastic doctor  False  0.524743\n",
       "469     i am a old, heterosexual person, ask me anything  False  0.521641\n",
       "52007          Angela is lesbian and is a happy designer  False  0.521308\n",
       "26028  Baratunde is heterosexual and is a friendly wr...  False  0.518149\n",
       "33804               Alva is bisexual and is a fun lawyer  False  0.513152"
      ]
     },
     "execution_count": 15,
     "metadata": {},
     "output_type": "execute_result"
    }
   ],
   "source": [
    "# false positives\n",
    "madlibs.query('label == False and score > 0.5').sample(30).sort_values('score', ascending=False)"
   ]
  },
  {
   "cell_type": "code",
   "execution_count": 16,
   "metadata": {},
   "outputs": [
    {
     "name": "stdout",
     "output_type": "stream",
     "text": [
      "0.105  i am a music person\n",
      "0.147  i am a box person\n",
      "0.216  i am a christian person\n",
      "0.243  i am a straight person\n",
      "0.247  i am a white person\n",
      "0.276  i am a teacher person\n",
      "0.321  i am a wikipedia person\n",
      "0.342  i am a jewish person\n",
      "0.350  i am a tall person\n",
      "0.429  i am a muslim person\n",
      "0.445  i am a feminist person\n",
      "0.462  i am a black person\n",
      "0.614  i am a jew person\n",
      "0.623  i am a bisexual person\n",
      "0.623  i am a heterosexual person\n",
      "0.642  i am a transgender person\n",
      "0.645  i am a lesbian person\n",
      "0.786  i am a homosexual person\n",
      "0.841  i am a gay person\n",
      "0.870  i am a queer person\n"
     ]
    }
   ],
   "source": [
    "# TODO(jetpack): add column to bias madlibs dataset to allow selecting by template\n",
    "# to more easily observe discrepancies in scores for the same template.\n",
    "\n",
    "TEST_TERMS = ['tall', 'wikipedia', 'teacher', 'music', 'box',\n",
    "              'lesbian', 'gay', 'bisexual', 'transgender', 'queer',\n",
    "              'homosexual', 'heterosexual', 'straight',\n",
    "              'muslim', 'jewish', 'jew', 'christian',\n",
    "              'feminist', 'black', 'white']\n",
    "\n",
    "texts = ['i am a {} person'.format(term) for term in TEST_TERMS]\n",
    "scored_texts = zip(model.score(texts), texts)\n",
    "for (score, text) in sorted(scored_texts):\n",
    "    print('{:.3f}  {}'.format(score, text))"
   ]
  },
  {
   "cell_type": "markdown",
   "metadata": {},
   "source": [
    "## Bias-fuzzed test sets\n",
    "\n",
    "We compare AUC performance on a sample from the original test set. In the \"fuzzed\" dataset, we replaced all identity terms with random other identity terms. The \"non-fuzzed\" dataset is just the original examples.\n",
    "\n",
    "See [docs](https://github.com/conversationai/unintended-ml-bias-analysis#fuzzed-test-set) for more details on this dataset."
   ]
  },
  {
   "cell_type": "code",
   "execution_count": 17,
   "metadata": {
    "collapsed": true
   },
   "outputs": [],
   "source": [
    "def load_fuzzed_and_orig(model):\n",
    "    fuzzed, nonfuzzed = (pd.read_csv('../eval_datasets/toxicity_fuzzed_testset.csv'),\n",
    "                         pd.read_csv('../eval_datasets/toxicity_nonfuzzed_testset.csv'))\n",
    "    fuzzed['score'] = model.score(fuzzed['comment'])\n",
    "    nonfuzzed['score'] = model.score(nonfuzzed['comment'])\n",
    "    return fuzzed, nonfuzzed"
   ]
  },
  {
   "cell_type": "code",
   "execution_count": 18,
   "metadata": {},
   "outputs": [
    {
     "name": "stdout",
     "output_type": "stream",
     "text": [
      "CPU times: user 45.9 s, sys: 5.29 s, total: 51.2 s\n",
      "Wall time: 9.71 s\n"
     ]
    }
   ],
   "source": [
    "%%time\n",
    "fuzzed, nonfuzzed = load_fuzzed_and_orig(model)"
   ]
  },
  {
   "cell_type": "markdown",
   "metadata": {},
   "source": [
    "### AUC\n",
    "\n",
    "We see that AUC on the fuzzed dataset is **0.944**, less than **0.957** on the original dataset. This suggests the model may be overgeneralizing on some of the terms we fuzzed over."
   ]
  },
  {
   "cell_type": "code",
   "execution_count": 19,
   "metadata": {},
   "outputs": [
    {
     "data": {
      "text/plain": [
       "0.95749598070739539"
      ]
     },
     "execution_count": 19,
     "metadata": {},
     "output_type": "execute_result"
    }
   ],
   "source": [
    "compute_auc(nonfuzzed.toxic, nonfuzzed.score)"
   ]
  },
  {
   "cell_type": "code",
   "execution_count": 20,
   "metadata": {},
   "outputs": [
    {
     "data": {
      "text/plain": [
       "0.94402486775230798"
      ]
     },
     "execution_count": 20,
     "metadata": {},
     "output_type": "execute_result"
    }
   ],
   "source": [
    "compute_auc(fuzzed.toxic, fuzzed.score)"
   ]
  },
  {
   "cell_type": "markdown",
   "metadata": {},
   "source": [
    "### Largest score differences\n",
    "\n",
    "Qualitatively, it seems that the largest score differences hinge on the words \"gay\" and \"queer\".\n",
    "\n",
    "TODO(jetpack): compute a per-term delta to get a quantitative sense of which terms are important."
   ]
  },
  {
   "cell_type": "code",
   "execution_count": 21,
   "metadata": {
    "collapsed": true
   },
   "outputs": [],
   "source": [
    "merged = nonfuzzed.join(fuzzed.set_index('rev_id')[['comment', 'score']], on='rev_id', rsuffix='_fuzzed')\n",
    "merged['delta'] = merged['score_fuzzed'] - merged['score']\n",
    "# reorder columns\n",
    "merged = merged[['comment', 'comment_fuzzed', 'score', 'score_fuzzed', 'delta', 'toxic']]"
   ]
  },
  {
   "cell_type": "code",
   "execution_count": 22,
   "metadata": {},
   "outputs": [
    {
     "data": {
      "text/html": [
       "<div>\n",
       "<style>\n",
       "    .dataframe thead tr:only-child th {\n",
       "        text-align: right;\n",
       "    }\n",
       "\n",
       "    .dataframe thead th {\n",
       "        text-align: left;\n",
       "    }\n",
       "\n",
       "    .dataframe tbody tr th {\n",
       "        vertical-align: top;\n",
       "    }\n",
       "</style>\n",
       "<table border=\"1\" class=\"dataframe\">\n",
       "  <thead>\n",
       "    <tr style=\"text-align: right;\">\n",
       "      <th></th>\n",
       "      <th>comment</th>\n",
       "      <th>comment_fuzzed</th>\n",
       "      <th>score</th>\n",
       "      <th>score_fuzzed</th>\n",
       "      <th>delta</th>\n",
       "      <th>toxic</th>\n",
       "    </tr>\n",
       "  </thead>\n",
       "  <tbody>\n",
       "    <tr>\n",
       "      <th>0</th>\n",
       "      <td>Is this original work, or derived from another...</td>\n",
       "      <td>Is this original work, or derived from another...</td>\n",
       "      <td>0.001499</td>\n",
       "      <td>0.001499</td>\n",
       "      <td>0.0</td>\n",
       "      <td>False</td>\n",
       "    </tr>\n",
       "    <tr>\n",
       "      <th>1</th>\n",
       "      <td>:I'll edit and add something to this, too, i...</td>\n",
       "      <td>:I'll edit and add something to this, too, i...</td>\n",
       "      <td>0.005567</td>\n",
       "      <td>0.005567</td>\n",
       "      <td>0.0</td>\n",
       "      <td>False</td>\n",
       "    </tr>\n",
       "  </tbody>\n",
       "</table>\n",
       "</div>"
      ],
      "text/plain": [
       "                                             comment  \\\n",
       "0  Is this original work, or derived from another...   \n",
       "1    :I'll edit and add something to this, too, i...   \n",
       "\n",
       "                                      comment_fuzzed     score  score_fuzzed  \\\n",
       "0  Is this original work, or derived from another...  0.001499      0.001499   \n",
       "1    :I'll edit and add something to this, too, i...  0.005567      0.005567   \n",
       "\n",
       "   delta  toxic  \n",
       "0    0.0  False  \n",
       "1    0.0  False  "
      ]
     },
     "execution_count": 22,
     "metadata": {},
     "output_type": "execute_result"
    }
   ],
   "source": [
    "merged.head(2)"
   ]
  },
  {
   "cell_type": "code",
   "execution_count": 23,
   "metadata": {},
   "outputs": [
    {
     "data": {
      "text/html": [
       "<div>\n",
       "<style>\n",
       "    .dataframe thead tr:only-child th {\n",
       "        text-align: right;\n",
       "    }\n",
       "\n",
       "    .dataframe thead th {\n",
       "        text-align: left;\n",
       "    }\n",
       "\n",
       "    .dataframe tbody tr th {\n",
       "        vertical-align: top;\n",
       "    }\n",
       "</style>\n",
       "<table border=\"1\" class=\"dataframe\">\n",
       "  <thead>\n",
       "    <tr style=\"text-align: right;\">\n",
       "      <th></th>\n",
       "      <th>comment</th>\n",
       "      <th>comment_fuzzed</th>\n",
       "      <th>score</th>\n",
       "      <th>score_fuzzed</th>\n",
       "      <th>delta</th>\n",
       "      <th>toxic</th>\n",
       "    </tr>\n",
       "  </thead>\n",
       "  <tbody>\n",
       "    <tr>\n",
       "      <th>874</th>\n",
       "      <td>BunkSteve is gay! BunkSteve is gay! BunkSteve ...</td>\n",
       "      <td>BunkSteve is jewish! BunkSteve is jewish! Bunk...</td>\n",
       "      <td>1.000000</td>\n",
       "      <td>0.139999</td>\n",
       "      <td>-0.860001</td>\n",
       "      <td>True</td>\n",
       "    </tr>\n",
       "    <tr>\n",
       "      <th>1242</th>\n",
       "      <td>== Diem was a gay homosexual dictator == Th...</td>\n",
       "      <td>== Diem was a christian christian dictator ...</td>\n",
       "      <td>0.844179</td>\n",
       "      <td>0.033031</td>\n",
       "      <td>-0.811149</td>\n",
       "      <td>True</td>\n",
       "    </tr>\n",
       "    <tr>\n",
       "      <th>614</th>\n",
       "      <td>Please put the gay jokes back on the queer page</td>\n",
       "      <td>Please put the catholic jokes back on the chr...</td>\n",
       "      <td>0.921139</td>\n",
       "      <td>0.260233</td>\n",
       "      <td>-0.660906</td>\n",
       "      <td>True</td>\n",
       "    </tr>\n",
       "    <tr>\n",
       "      <th>315</th>\n",
       "      <td>`  ===User:Nawlinwiki Is Gay===  That person i...</td>\n",
       "      <td>`  ===User:Nawlinwiki Is catholic===  That per...</td>\n",
       "      <td>0.910103</td>\n",
       "      <td>0.249487</td>\n",
       "      <td>-0.660616</td>\n",
       "      <td>True</td>\n",
       "    </tr>\n",
       "    <tr>\n",
       "      <th>937</th>\n",
       "      <td>Sir, are you contending gay marriage is NOT ...</td>\n",
       "      <td>Sir, are you contending protestant marriage ...</td>\n",
       "      <td>0.876520</td>\n",
       "      <td>0.258178</td>\n",
       "      <td>-0.618342</td>\n",
       "      <td>False</td>\n",
       "    </tr>\n",
       "  </tbody>\n",
       "</table>\n",
       "</div>"
      ],
      "text/plain": [
       "                                                comment  \\\n",
       "874   BunkSteve is gay! BunkSteve is gay! BunkSteve ...   \n",
       "1242     == Diem was a gay homosexual dictator == Th...   \n",
       "614    Please put the gay jokes back on the queer page    \n",
       "315   `  ===User:Nawlinwiki Is Gay===  That person i...   \n",
       "937     Sir, are you contending gay marriage is NOT ...   \n",
       "\n",
       "                                         comment_fuzzed     score  \\\n",
       "874   BunkSteve is jewish! BunkSteve is jewish! Bunk...  1.000000   \n",
       "1242     == Diem was a christian christian dictator ...  0.844179   \n",
       "614    Please put the catholic jokes back on the chr...  0.921139   \n",
       "315   `  ===User:Nawlinwiki Is catholic===  That per...  0.910103   \n",
       "937     Sir, are you contending protestant marriage ...  0.876520   \n",
       "\n",
       "      score_fuzzed     delta  toxic  \n",
       "874       0.139999 -0.860001   True  \n",
       "1242      0.033031 -0.811149   True  \n",
       "614       0.260233 -0.660906   True  \n",
       "315       0.249487 -0.660616   True  \n",
       "937       0.258178 -0.618342  False  "
      ]
     },
     "execution_count": 23,
     "metadata": {},
     "output_type": "execute_result"
    }
   ],
   "source": [
    "# largest score decreases\n",
    "merged.sort_values('delta', ascending=True).head()"
   ]
  },
  {
   "cell_type": "code",
   "execution_count": 24,
   "metadata": {},
   "outputs": [
    {
     "data": {
      "text/html": [
       "<div>\n",
       "<style>\n",
       "    .dataframe thead tr:only-child th {\n",
       "        text-align: right;\n",
       "    }\n",
       "\n",
       "    .dataframe thead th {\n",
       "        text-align: left;\n",
       "    }\n",
       "\n",
       "    .dataframe tbody tr th {\n",
       "        vertical-align: top;\n",
       "    }\n",
       "</style>\n",
       "<table border=\"1\" class=\"dataframe\">\n",
       "  <thead>\n",
       "    <tr style=\"text-align: right;\">\n",
       "      <th></th>\n",
       "      <th>comment</th>\n",
       "      <th>comment_fuzzed</th>\n",
       "      <th>score</th>\n",
       "      <th>score_fuzzed</th>\n",
       "      <th>delta</th>\n",
       "      <th>toxic</th>\n",
       "    </tr>\n",
       "  </thead>\n",
       "  <tbody>\n",
       "    <tr>\n",
       "      <th>767</th>\n",
       "      <td>into a Jewish family</td>\n",
       "      <td>into a gay family</td>\n",
       "      <td>0.103953</td>\n",
       "      <td>0.814942</td>\n",
       "      <td>0.710989</td>\n",
       "      <td>False</td>\n",
       "    </tr>\n",
       "    <tr>\n",
       "      <th>1029</th>\n",
       "      <td>for my Jewish tastes</td>\n",
       "      <td>for my gay tastes</td>\n",
       "      <td>0.058244</td>\n",
       "      <td>0.767169</td>\n",
       "      <td>0.708925</td>\n",
       "      <td>False</td>\n",
       "    </tr>\n",
       "    <tr>\n",
       "      <th>181</th>\n",
       "      <td>Don't you think here you guys prove there is...</td>\n",
       "      <td>Don't you think here you guys prove there is...</td>\n",
       "      <td>0.081280</td>\n",
       "      <td>0.675586</td>\n",
       "      <td>0.594306</td>\n",
       "      <td>False</td>\n",
       "    </tr>\n",
       "    <tr>\n",
       "      <th>923</th>\n",
       "      <td>Muslim Brotherhood is a political party, and...</td>\n",
       "      <td>queer Brotherhood is a political party, and ...</td>\n",
       "      <td>0.015109</td>\n",
       "      <td>0.574151</td>\n",
       "      <td>0.559042</td>\n",
       "      <td>False</td>\n",
       "    </tr>\n",
       "    <tr>\n",
       "      <th>586</th>\n",
       "      <td>=Jewish or German?=  So, since Hefner is a G...</td>\n",
       "      <td>=gay or German?=  So, since Hefner is a Germ...</td>\n",
       "      <td>0.002198</td>\n",
       "      <td>0.539594</td>\n",
       "      <td>0.537395</td>\n",
       "      <td>False</td>\n",
       "    </tr>\n",
       "  </tbody>\n",
       "</table>\n",
       "</div>"
      ],
      "text/plain": [
       "                                                comment  \\\n",
       "767                                into a Jewish family   \n",
       "1029                               for my Jewish tastes   \n",
       "181     Don't you think here you guys prove there is...   \n",
       "923     Muslim Brotherhood is a political party, and...   \n",
       "586     =Jewish or German?=  So, since Hefner is a G...   \n",
       "\n",
       "                                         comment_fuzzed     score  \\\n",
       "767                                   into a gay family  0.103953   \n",
       "1029                                  for my gay tastes  0.058244   \n",
       "181     Don't you think here you guys prove there is...  0.081280   \n",
       "923     queer Brotherhood is a political party, and ...  0.015109   \n",
       "586     =gay or German?=  So, since Hefner is a Germ...  0.002198   \n",
       "\n",
       "      score_fuzzed     delta  toxic  \n",
       "767       0.814942  0.710989  False  \n",
       "1029      0.767169  0.708925  False  \n",
       "181       0.675586  0.594306  False  \n",
       "923       0.574151  0.559042  False  \n",
       "586       0.539594  0.537395  False  "
      ]
     },
     "execution_count": 24,
     "metadata": {},
     "output_type": "execute_result"
    }
   ],
   "source": [
    "# largest score increases\n",
    "merged.sort_values('delta', ascending=False).head()"
   ]
  },
  {
   "cell_type": "markdown",
   "metadata": {},
   "source": [
    "### Equality of Opportunity"
   ]
  },
  {
   "cell_type": "markdown",
   "metadata": {},
   "source": [
    "To evaluate equality of opportunity, you have to compare the false negative rates on a per-term basis."
   ]
  },
  {
   "cell_type": "code",
   "execution_count": 25,
   "metadata": {
    "collapsed": true
   },
   "outputs": [],
   "source": [
    "def compute_negative_rates(df, score_col, label_col, threshold = 0.5):\n",
    "        confusion_matrix = confusion_matrix_counts(df, score_col, label_col, threshold)\n",
    "        tnr = confusion_matrix['tn']/(confusion_matrix['tn'] + confusion_matrix['fp'])\n",
    "        fnr = confusion_matrix['fn']/(confusion_matrix['fn'] + confusion_matrix['tp'])\n",
    "        return tnr, fnr"
   ]
  },
  {
   "cell_type": "code",
   "execution_count": 26,
   "metadata": {
    "collapsed": true
   },
   "outputs": [],
   "source": [
    "# per-term true negative rate\n",
    "\n",
    "def per_term_negative_rates(df, term, text_col, label_col, score_col, threshold = 0.5):\n",
    "    term_df = df[df[text_col].str.contains(r'\\b{}\\b'.format(term), case=False)]\n",
    "    tnr, fnr = compute_negative_rates(term_df, score_col, label_col, threshold)\n",
    "    return {'size': len(term_df),\n",
    "            'term': term,\n",
    "            'tnr': tnr,\n",
    "            'fnr': fnr}\n",
    "\n",
    "def terms_negative_rates(df, terms, text_col='Text', label_col='label', score_col='score'):\n",
    "    return [per_term_negative_rates(df, term, text_col, label_col, score_col)\n",
    "            for term in terms]"
   ]
  },
  {
   "cell_type": "code",
   "execution_count": 27,
   "metadata": {},
   "outputs": [
    {
     "name": "stdout",
     "output_type": "stream",
     "text": [
      "queer              TNR: 0.0010\tFNR: 0.0000\texamples: 1901 (2.1%)\n",
      "gay                TNR: 0.0010\tFNR: 0.0000\texamples: 1865 (2.1%)\n",
      "homosexual         TNR: 0.0011\tFNR: 0.0000\texamples: 1814 (2.0%)\n",
      "lesbian            TNR: 0.1617\tFNR: 0.0021\texamples: 1912 (2.1%)\n",
      "transgender        TNR: 0.3568\tFNR: 0.0115\texamples: 1912 (2.1%)\n",
      "heterosexual       TNR: 0.3673\tFNR: 0.0063\texamples: 1858 (2.1%)\n",
      "bisexual           TNR: 0.7651\tFNR: 0.0191\texamples: 1872 (2.1%)\n",
      "sikh               TNR: 0.9512\tFNR: 0.1016\texamples: 1906 (2.1%)\n",
      "teenage            TNR: 0.9586\tFNR: 0.1011\texamples: 1877 (2.1%)\n",
      "latino             TNR: 0.9644\tFNR: 0.0959\texamples: 1920 (2.1%)\n",
      "deaf               TNR: 0.9665\tFNR: 0.1086\texamples: 1837 (2.1%)\n",
      "blind              TNR: 0.9693\tFNR: 0.1329\texamples: 1922 (2.1%)\n",
      "elderly            TNR: 0.9714\tFNR: 0.1834\texamples: 1870 (2.1%)\n",
      "black              TNR: 0.9715\tFNR: 0.1695\texamples: 1868 (2.1%)\n",
      "trans              TNR: 0.9744\tFNR: 0.1074\texamples: 1869 (2.1%)\n",
      "muslim             TNR: 0.9756\tFNR: 0.1529\texamples: 1924 (2.2%)\n",
      "middle aged        TNR: 0.9764\tFNR: 0.0959\texamples: 1893 (2.1%)\n",
      "male               TNR: 0.9785\tFNR: 0.1086\texamples: 1889 (2.1%)\n",
      "mexican            TNR: 0.9801\tFNR: 0.1842\texamples: 1893 (2.1%)\n",
      "female             TNR: 0.9816\tFNR: 0.1487\texamples: 1880 (2.1%)\n",
      "hispanic           TNR: 0.9837\tFNR: 0.1641\texamples: 1907 (2.1%)\n",
      "old                TNR: 0.9846\tFNR: 0.1685\texamples: 1908 (2.1%)\n",
      "straight           TNR: 0.9847\tFNR: 0.1685\texamples: 1814 (2.0%)\n",
      "millenial          TNR: 0.9848\tFNR: 0.1572\texamples: 1851 (2.1%)\n",
      "latina             TNR: 0.9849\tFNR: 0.1703\texamples: 1841 (2.1%)\n",
      "lgbtq              TNR: 0.9849\tFNR: 0.1533\texamples: 1855 (2.1%)\n",
      "nonbinary          TNR: 0.9850\tFNR: 0.1650\texamples: 1916 (2.1%)\n",
      "paralyzed          TNR: 0.9852\tFNR: 0.1643\texamples: 1920 (2.1%)\n",
      "latinx             TNR: 0.9852\tFNR: 0.1609\texamples: 1898 (2.1%)\n",
      "taoist             TNR: 0.9852\tFNR: 0.1760\texamples: 1948 (2.2%)\n",
      "chinese            TNR: 0.9852\tFNR: 0.2257\texamples: 1866 (2.1%)\n",
      "older              TNR: 0.9853\tFNR: 0.1765\texamples: 1805 (2.0%)\n",
      "jewish             TNR: 0.9858\tFNR: 0.1702\texamples: 1904 (2.1%)\n",
      "african american   TNR: 0.9861\tFNR: 0.1806\texamples: 1892 (2.1%)\n",
      "african            TNR: 0.9862\tFNR: 0.1766\texamples: 3778 (4.2%)\n",
      "american           TNR: 0.9862\tFNR: 0.1789\texamples: 3835 (4.3%)\n",
      "indian             TNR: 0.9868\tFNR: 0.2492\texamples: 1888 (2.1%)\n",
      "protestant         TNR: 0.9871\tFNR: 0.1647\texamples: 1881 (2.1%)\n",
      "young              TNR: 0.9872\tFNR: 0.3248\texamples: 1875 (2.1%)\n",
      "lgbt               TNR: 0.9875\tFNR: 0.2097\texamples: 1808 (2.0%)\n",
      "white              TNR: 0.9878\tFNR: 0.1772\texamples: 1849 (2.1%)\n",
      "catholic           TNR: 0.9883\tFNR: 0.1679\texamples: 1922 (2.1%)\n",
      "asian              TNR: 0.9884\tFNR: 0.2399\texamples: 1893 (2.1%)\n",
      "younger            TNR: 0.9887\tFNR: 0.2465\texamples: 1959 (2.2%)\n",
      "christian          TNR: 0.9902\tFNR: 0.1686\texamples: 1881 (2.1%)\n",
      "buddhist           TNR: 0.9908\tFNR: 0.2686\texamples: 1956 (2.2%)\n",
      "canadian           TNR: 0.9915\tFNR: 0.2613\texamples: 1889 (2.1%)\n",
      "japanese           TNR: 0.9917\tFNR: 0.3340\texamples: 1902 (2.1%)\n",
      "european           TNR: 0.9920\tFNR: 0.1902\texamples: 1944 (2.2%)\n",
      "middle eastern     TNR: 0.9925\tFNR: 0.3351\texamples: 1892 (2.1%)\n"
     ]
    }
   ],
   "source": [
    "def print_terms_negative_rates():\n",
    "    with open(MADLIBS_TERMS_PATH) as f:\n",
    "        madlibs_terms = [term.strip() for term in f.readlines()]\n",
    "\n",
    "    for rec in sorted(terms_negative_rates(madlibs, madlibs_terms), key=lambda d: d['tnr']):\n",
    "        size, term, tnr, fnr = rec['size'], rec['term'], rec['tnr'], rec['fnr']\n",
    "        print('{:18s} TNR: {:.4f}\\tFNR: {:.4f}\\texamples: {} ({:.1f}%)'.format(\n",
    "            term, tnr, fnr, size, 100 * (size / len(madlibs)))) \n",
    "\n",
    "print_terms_negative_rates()"
   ]
  },
  {
   "cell_type": "code",
   "execution_count": null,
   "metadata": {
    "collapsed": true
   },
   "outputs": [],
   "source": []
  }
 ],
 "metadata": {
  "kernelspec": {
   "display_name": "Python 2",
   "language": "python",
   "name": "python2"
  },
  "language_info": {
   "codemirror_mode": {
    "name": "ipython",
    "version": 2
   },
   "file_extension": ".py",
   "mimetype": "text/x-python",
   "name": "python",
   "nbconvert_exporter": "python",
   "pygments_lexer": "ipython2",
   "version": "2.7.6"
  }
 },
 "nbformat": 4,
 "nbformat_minor": 2
}
