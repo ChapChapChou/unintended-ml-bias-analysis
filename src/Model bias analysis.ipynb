{
 "cells": [
  {
   "cell_type": "markdown",
   "metadata": {},
   "source": [
    "# Model bias analysis\n",
    "\n",
    "This notebook uses the bias-fuzzed test sets and the generated bias madlibs dataset to evaluate a model for potential bias."
   ]
  },
  {
   "cell_type": "code",
   "execution_count": 43,
   "metadata": {
    "collapsed": true
   },
   "outputs": [],
   "source": [
    "from __future__ import absolute_import\n",
    "from __future__ import division\n",
    "from __future__ import print_function\n",
    "\n",
    "import numpy as np\n",
    "import pandas as pd\n",
    "import matplotlib.pyplot as plt\n",
    "%matplotlib inline"
   ]
  },
  {
   "cell_type": "markdown",
   "metadata": {},
   "source": [
    "## Model loading and inference"
   ]
  },
  {
   "cell_type": "code",
   "execution_count": 44,
   "metadata": {},
   "outputs": [],
   "source": [
    "# TODO(jetpack): rewrite this to use nthain's library\n",
    "\n",
    "import cPickle\n",
    "import os\n",
    "\n",
    "from keras.models import load_model\n",
    "from keras.preprocessing.text import Tokenizer\n",
    "from keras.preprocessing.sequence import pad_sequences\n",
    "from keras.utils import to_categorical\n",
    "\n",
    "MODELS = {#'orig': 'cnn_wiki_tox_v1',\n",
    "          #'orig3': 'cnn_wiki_tox_v3',\n",
    "          #'debias': 'cnn_debias_tox_v1',\n",
    "          #'debias2': 'cnn_debias_tox_v2',\n",
    "          #'debias3': 'cnn_debias_tox_v3',\n",
    "          #'random': 'cnn_debias_random_tox_v1',\n",
    "          #'random2': 'cnn_debias_random_tox_v2',\n",
    "          #'random3': 'cnn_debias_random_tox_v3',\n",
    "    'hack0': 'hack7_orig_v0',\n",
    "    'hack1': 'hack7_orig_v1',\n",
    "    'hack2': 'hack7_orig_v2',\n",
    "    'hack3': 'hack7_orig_v3',\n",
    "}\n",
    "MODEL_DIR = '../models/'\n",
    "\n",
    "# TODO(nthain): During model building, save relevant hyperparameters and \n",
    "# load here.\n",
    "MAX_SEQUENCE_LENGTH = 1000 #Must match the model's\n",
    "BATCH_SIZE = 128 #Must match the model's\n",
    "\n",
    "class Model(object):\n",
    "    def __init__(self, model_name, model_dir=MODEL_DIR, max_sequence_length=MAX_SEQUENCE_LENGTH,\n",
    "                 batch_size=BATCH_SIZE):\n",
    "        self._max_sequence_length = max_sequence_length\n",
    "        self._batch_size = batch_size\n",
    "        self._tokenizer = cPickle.load(open(os.path.join(model_dir, '%s_tokenizer.pkl' % MODELS[model_name]), 'rb'))\n",
    "        self._model = load_model(os.path.join(model_dir, '%s_model.h5' % MODELS[model_name]))\n",
    "\n",
    "    def score(self, texts):\n",
    "        sequences = self._tokenizer.texts_to_sequences(texts)\n",
    "        data = pad_sequences(sequences, maxlen=self._max_sequence_length)\n",
    "        return self._model.predict(data, batch_size=self._batch_size)[:, 1]"
   ]
  },
  {
   "cell_type": "code",
   "execution_count": 47,
   "metadata": {
    "collapsed": true
   },
   "outputs": [],
   "source": [
    "all_models = {name: Model(name, max_sequence_length=250) for name in MODELS}"
   ]
  },
  {
   "cell_type": "code",
   "execution_count": 48,
   "metadata": {},
   "outputs": [
    {
     "name": "stdout",
     "output_type": "stream",
     "text": [
      "hack0: [ 0.99916279  0.00990201]\n",
      "hack1: [ 0.99672973  0.00967298]\n",
      "hack2: [ 0.99649435  0.00622257]\n",
      "hack3: [ 0.99840039  0.01233769]\n"
     ]
    }
   ],
   "source": [
    "for name, model in all_models.iteritems():\n",
    "    print('{}: {}'.format(name, model.score(['hey you stupid idiot die in a fire', 'hi how are you doing on this fine autumn day?'])))"
   ]
  },
  {
   "cell_type": "markdown",
   "metadata": {},
   "source": [
    "# Model evaluation"
   ]
  },
  {
   "cell_type": "code",
   "execution_count": 49,
   "metadata": {
    "collapsed": true
   },
   "outputs": [],
   "source": [
    "from sklearn import metrics\n",
    "\n",
    "def compute_auc(y_true, y_pred):\n",
    "    fpr, tpr, _thresholds = metrics.roc_curve(y_true, y_pred)\n",
    "    return metrics.auc(fpr, tpr)\n",
    "\n",
    "def compute_model_auc(model, examples, labels):\n",
    "    scores = model.score(examples)\n",
    "    return compute_auc(labels, scores)"
   ]
  },
  {
   "cell_type": "code",
   "execution_count": 50,
   "metadata": {},
   "outputs": [
    {
     "name": "stdout",
     "output_type": "stream",
     "text": [
      "hack0: 1.0\n",
      "hack1: 1.0\n",
      "hack2: 1.0\n",
      "hack3: 1.0\n"
     ]
    }
   ],
   "source": [
    "for name, model in all_models.iteritems():\n",
    "    print('{}: {}'.format(name,\n",
    "                          compute_model_auc(model,\n",
    "                                            ['hey you stupid idiot die in a fire', 'hi how are you doing on this fine autumn day?'],\n",
    "                                            [True, False])))"
   ]
  },
  {
   "cell_type": "markdown",
   "metadata": {},
   "source": [
    "# Bias evaluation: bias madlibs dataset\n",
    "\n",
    "This dataset is generated from templates and word lists. See [the docs](https://github.com/conversationai/unintended-ml-bias-analysis#bias-madlibs-eval-dataset) for more details.\n",
    "\n",
    "The dataset is designed to be \"easy\", in the sense of being unambiguously toxic or non-toxic, yet we see this model gets only 0.948 AUC."
   ]
  },
  {
   "cell_type": "code",
   "execution_count": 26,
   "metadata": {
    "collapsed": true
   },
   "outputs": [],
   "source": [
    "def load_wikitest():\n",
    "    wikitest = pd.read_csv('../data/wiki_debias_test.csv')\n",
    "    wikitest.rename(columns={'is_toxic': 'label', 'comment': 'Text'}, inplace=True)\n",
    "    for name, model in all_models.iteritems():\n",
    "        wikitest['score_{}'.format(name)] = model.score(wikitest['Text'])\n",
    "    return wikitest[['Text', 'label'] + ['score_{}'.format(name) for name in all_models]]"
   ]
  },
  {
   "cell_type": "code",
   "execution_count": 27,
   "metadata": {},
   "outputs": [
    {
     "name": "stdout",
     "output_type": "stream",
     "text": [
      "CPU times: user 45min 13s, sys: 2min 50s, total: 48min 4s\n",
      "Wall time: 4min 39s\n"
     ]
    }
   ],
   "source": [
    "%%time\n",
    "wikitest = load_wikitest()"
   ]
  },
  {
   "cell_type": "code",
   "execution_count": 28,
   "metadata": {},
   "outputs": [
    {
     "data": {
      "text/html": [
       "<div>\n",
       "<style>\n",
       "    .dataframe thead tr:only-child th {\n",
       "        text-align: right;\n",
       "    }\n",
       "\n",
       "    .dataframe thead th {\n",
       "        text-align: left;\n",
       "    }\n",
       "\n",
       "    .dataframe tbody tr th {\n",
       "        vertical-align: top;\n",
       "    }\n",
       "</style>\n",
       "<table border=\"1\" class=\"dataframe\">\n",
       "  <thead>\n",
       "    <tr style=\"text-align: right;\">\n",
       "      <th></th>\n",
       "      <th>Text</th>\n",
       "      <th>label</th>\n",
       "      <th>score_random2</th>\n",
       "      <th>score_random</th>\n",
       "      <th>score_random3</th>\n",
       "      <th>score_debias3</th>\n",
       "      <th>score_orig3</th>\n",
       "    </tr>\n",
       "  </thead>\n",
       "  <tbody>\n",
       "    <tr>\n",
       "      <th>0</th>\n",
       "      <td>== use of clown triggerfish ==  Dear Derek, ...</td>\n",
       "      <td>False</td>\n",
       "      <td>5.496250e-02</td>\n",
       "      <td>1.540773e-01</td>\n",
       "      <td>3.253771e-03</td>\n",
       "      <td>2.527258e-01</td>\n",
       "      <td>9.848365e-04</td>\n",
       "    </tr>\n",
       "    <tr>\n",
       "      <th>1</th>\n",
       "      <td>` :::Regardless of whatever the supposed ``mai...</td>\n",
       "      <td>False</td>\n",
       "      <td>6.082126e-09</td>\n",
       "      <td>7.376251e-09</td>\n",
       "      <td>4.568408e-08</td>\n",
       "      <td>1.233888e-08</td>\n",
       "      <td>2.878728e-11</td>\n",
       "    </tr>\n",
       "    <tr>\n",
       "      <th>2</th>\n",
       "      <td>`  ==Wishaw General Hospital== A {{prod}} temp...</td>\n",
       "      <td>False</td>\n",
       "      <td>2.877879e-04</td>\n",
       "      <td>2.973078e-04</td>\n",
       "      <td>2.200880e-04</td>\n",
       "      <td>8.701129e-04</td>\n",
       "      <td>4.593123e-09</td>\n",
       "    </tr>\n",
       "    <tr>\n",
       "      <th>3</th>\n",
       "      <td>(UTC) * Flavour (particle physics) → Flavor (...</td>\n",
       "      <td>False</td>\n",
       "      <td>0.000000e+00</td>\n",
       "      <td>0.000000e+00</td>\n",
       "      <td>2.783181e-36</td>\n",
       "      <td>3.933822e-27</td>\n",
       "      <td>0.000000e+00</td>\n",
       "    </tr>\n",
       "    <tr>\n",
       "      <th>4</th>\n",
       "      <td>==SD.net VfD== Reverted.</td>\n",
       "      <td>False</td>\n",
       "      <td>5.457816e-10</td>\n",
       "      <td>5.451171e-13</td>\n",
       "      <td>6.432505e-08</td>\n",
       "      <td>6.121536e-07</td>\n",
       "      <td>9.276491e-12</td>\n",
       "    </tr>\n",
       "  </tbody>\n",
       "</table>\n",
       "</div>"
      ],
      "text/plain": [
       "                                                Text  label  score_random2  \\\n",
       "0    == use of clown triggerfish ==  Dear Derek, ...  False   5.496250e-02   \n",
       "1  ` :::Regardless of whatever the supposed ``mai...  False   6.082126e-09   \n",
       "2  `  ==Wishaw General Hospital== A {{prod}} temp...  False   2.877879e-04   \n",
       "3   (UTC) * Flavour (particle physics) → Flavor (...  False   0.000000e+00   \n",
       "4                         ==SD.net VfD== Reverted.    False   5.457816e-10   \n",
       "\n",
       "   score_random  score_random3  score_debias3   score_orig3  \n",
       "0  1.540773e-01   3.253771e-03   2.527258e-01  9.848365e-04  \n",
       "1  7.376251e-09   4.568408e-08   1.233888e-08  2.878728e-11  \n",
       "2  2.973078e-04   2.200880e-04   8.701129e-04  4.593123e-09  \n",
       "3  0.000000e+00   2.783181e-36   3.933822e-27  0.000000e+00  \n",
       "4  5.451171e-13   6.432505e-08   6.121536e-07  9.276491e-12  "
      ]
     },
     "execution_count": 28,
     "metadata": {},
     "output_type": "execute_result"
    }
   ],
   "source": [
    "wikitest.head()"
   ]
  },
  {
   "cell_type": "code",
   "execution_count": 51,
   "metadata": {
    "collapsed": true
   },
   "outputs": [],
   "source": [
    "def load_madlibs():\n",
    "    madlibs = pd.read_csv('../eval_datasets/bias_madlibs_89k.csv')\n",
    "    madlibs['label'] = madlibs['Label'] == 'BAD'\n",
    "    madlibs.drop('Label', axis=1, inplace=True)\n",
    "    for name, model in all_models.iteritems():\n",
    "        madlibs[name] = model.score(madlibs['Text'])\n",
    "    return madlibs"
   ]
  },
  {
   "cell_type": "code",
   "execution_count": 52,
   "metadata": {},
   "outputs": [
    {
     "name": "stdout",
     "output_type": "stream",
     "text": [
      "CPU times: user 24min 14s, sys: 2min 48s, total: 27min 2s\n",
      "Wall time: 2min 45s\n"
     ]
    }
   ],
   "source": [
    "%%time\n",
    "madlibs = load_madlibs()"
   ]
  },
  {
   "cell_type": "code",
   "execution_count": 54,
   "metadata": {},
   "outputs": [
    {
     "data": {
      "text/plain": [
       "['hack0', 'hack1', 'hack2', 'hack3']"
      ]
     },
     "execution_count": 54,
     "metadata": {},
     "output_type": "execute_result"
    }
   ],
   "source": [
    "all_models.keys()"
   ]
  },
  {
   "cell_type": "code",
   "execution_count": 55,
   "metadata": {},
   "outputs": [],
   "source": [
    "score_cols = all_models.keys()"
   ]
  },
  {
   "cell_type": "code",
   "execution_count": 56,
   "metadata": {
    "collapsed": true
   },
   "outputs": [],
   "source": [
    "def score_distributions(df, text_col='Text', term=None, ymax=None, **kwargs):\n",
    "    for i, score_col in enumerate(score_cols):\n",
    "        plt.figure(i)\n",
    "        dataset = df\n",
    "        if term:\n",
    "            dataset = df[df[text_col].str.contains(term, case=False)]\n",
    "        \n",
    "        ax = dataset.query('label')[score_col].hist(bins=50, alpha=0.5, color='r', label='toxic examples', **kwargs)\n",
    "        dataset.query('not label')[score_col].hist(bins=50, ax=ax, alpha=0.5, color='b', label='non-toxic examples', **kwargs)\n",
    "        \n",
    "        ax.set_xlim((0, 1.0))\n",
    "        if ymax:\n",
    "            ax.set_ylim((0, ymax))\n",
    "        ax.set_title('{} distribution'.format(score_col))\n",
    "        ax.legend()\n",
    "        ax.set_xlabel('score')\n",
    "        ax.set_ylabel('# examples')"
   ]
  },
  {
   "cell_type": "code",
   "execution_count": 57,
   "metadata": {},
   "outputs": [
    {
     "data": {
      "image/png": "[encoded data removed]",
      "text/plain": [
       "<matplotlib.figure.Figure at 0x7f657abc3f10>"
      ]
     },
     "metadata": {},
     "output_type": "display_data"
    },
    {
     "data": {
      "image/png": "[encoded data removed]",
      "text/plain": [
       "<matplotlib.figure.Figure at 0x7f6572fedf10>"
      ]
     },
     "metadata": {},
     "output_type": "display_data"
    },
    {
     "data": {
      "image/png": "[encoded data removed]",
      "text/plain": [
       "<matplotlib.figure.Figure at 0x7f657a9d3b50>"
      ]
     },
     "metadata": {},
     "output_type": "display_data"
    },
    {
     "data": {
      "image/png": "[encoded data removed]",
      "text/plain": [
       "<matplotlib.figure.Figure at 0x7f657a8907d0>"
      ]
     },
     "metadata": {},
     "output_type": "display_data"
    }
   ],
   "source": [
    "score_distributions(madlibs, ymax=15000)"
   ]
  },
  {
   "cell_type": "code",
   "execution_count": 35,
   "metadata": {},
   "outputs": [
    {
     "data": {
      "image/png": "[encoded data removed]",
      "text/plain": [
       "<matplotlib.figure.Figure at 0x7f657c2bc350>"
      ]
     },
     "metadata": {},
     "output_type": "display_data"
    },
    {
     "data": {
      "image/png": "[encoded data removed]",
      "text/plain": [
       "<matplotlib.figure.Figure at 0x7f657cda4a10>"
      ]
     },
     "metadata": {},
     "output_type": "display_data"
    },
    {
     "data": {
      "image/png": "[encoded data removed]",
      "text/plain": [
       "<matplotlib.figure.Figure at 0x7f657c461690>"
      ]
     },
     "metadata": {},
     "output_type": "display_data"
    },
    {
     "data": {
      "image/png": "[encoded data removed]",
      "text/plain": [
       "<matplotlib.figure.Figure at 0x7f657aade310>"
      ]
     },
     "metadata": {},
     "output_type": "display_data"
    },
    {
     "data": {
      "image/png": "[encoded data removed]",
      "text/plain": [
       "<matplotlib.figure.Figure at 0x7f657c9652d0>"
      ]
     },
     "metadata": {},
     "output_type": "display_data"
    }
   ],
   "source": [
    "score_distributions(wikitest, ymax=2000)"
   ]
  },
  {
   "cell_type": "code",
   "execution_count": 58,
   "metadata": {},
   "outputs": [],
   "source": [
    "pd.set_option('display.float_format', '{:.3f}'.format)"
   ]
  },
  {
   "cell_type": "code",
   "execution_count": null,
   "metadata": {
    "collapsed": true
   },
   "outputs": [],
   "source": [
    "wikitest"
   ]
  },
  {
   "cell_type": "code",
   "execution_count": 42,
   "metadata": {},
   "outputs": [
    {
     "data": {
      "text/html": [
       "<div>\n",
       "<style>\n",
       "    .dataframe thead tr:only-child th {\n",
       "        text-align: right;\n",
       "    }\n",
       "\n",
       "    .dataframe thead th {\n",
       "        text-align: left;\n",
       "    }\n",
       "\n",
       "    .dataframe tbody tr th {\n",
       "        vertical-align: top;\n",
       "    }\n",
       "</style>\n",
       "<table border=\"1\" class=\"dataframe\">\n",
       "  <thead>\n",
       "    <tr style=\"text-align: right;\">\n",
       "      <th></th>\n",
       "      <th>Text</th>\n",
       "      <th>label</th>\n",
       "      <th>score_random2</th>\n",
       "      <th>score_random</th>\n",
       "      <th>score_random3</th>\n",
       "      <th>score_debias3</th>\n",
       "      <th>score_orig3</th>\n",
       "    </tr>\n",
       "  </thead>\n",
       "  <tbody>\n",
       "    <tr>\n",
       "      <th>0</th>\n",
       "      <td>== use of clown triggerfish ==  Dear Derek, ...</td>\n",
       "      <td>False</td>\n",
       "      <td>0.055</td>\n",
       "      <td>0.154</td>\n",
       "      <td>0.003</td>\n",
       "      <td>0.253</td>\n",
       "      <td>0.001</td>\n",
       "    </tr>\n",
       "    <tr>\n",
       "      <th>1</th>\n",
       "      <td>` :::Regardless of whatever the supposed ``mai...</td>\n",
       "      <td>False</td>\n",
       "      <td>0.000</td>\n",
       "      <td>0.000</td>\n",
       "      <td>0.000</td>\n",
       "      <td>0.000</td>\n",
       "      <td>0.000</td>\n",
       "    </tr>\n",
       "    <tr>\n",
       "      <th>2</th>\n",
       "      <td>`  ==Wishaw General Hospital== A {{prod}} temp...</td>\n",
       "      <td>False</td>\n",
       "      <td>0.000</td>\n",
       "      <td>0.000</td>\n",
       "      <td>0.000</td>\n",
       "      <td>0.001</td>\n",
       "      <td>0.000</td>\n",
       "    </tr>\n",
       "    <tr>\n",
       "      <th>3</th>\n",
       "      <td>(UTC) * Flavour (particle physics) → Flavor (...</td>\n",
       "      <td>False</td>\n",
       "      <td>0.000</td>\n",
       "      <td>0.000</td>\n",
       "      <td>0.000</td>\n",
       "      <td>0.000</td>\n",
       "      <td>0.000</td>\n",
       "    </tr>\n",
       "    <tr>\n",
       "      <th>4</th>\n",
       "      <td>==SD.net VfD== Reverted.</td>\n",
       "      <td>False</td>\n",
       "      <td>0.000</td>\n",
       "      <td>0.000</td>\n",
       "      <td>0.000</td>\n",
       "      <td>0.000</td>\n",
       "      <td>0.000</td>\n",
       "    </tr>\n",
       "  </tbody>\n",
       "</table>\n",
       "</div>"
      ],
      "text/plain": [
       "                                                Text  label  score_random2  \\\n",
       "0    == use of clown triggerfish ==  Dear Derek, ...  False          0.055   \n",
       "1  ` :::Regardless of whatever the supposed ``mai...  False          0.000   \n",
       "2  `  ==Wishaw General Hospital== A {{prod}} temp...  False          0.000   \n",
       "3   (UTC) * Flavour (particle physics) → Flavor (...  False          0.000   \n",
       "4                         ==SD.net VfD== Reverted.    False          0.000   \n",
       "\n",
       "   score_random  score_random3  score_debias3  score_orig3  \n",
       "0         0.154          0.003          0.253        0.001  \n",
       "1         0.000          0.000          0.000        0.000  \n",
       "2         0.000          0.000          0.001        0.000  \n",
       "3         0.000          0.000          0.000        0.000  \n",
       "4         0.000          0.000          0.000        0.000  "
      ]
     },
     "execution_count": 42,
     "metadata": {},
     "output_type": "execute_result"
    }
   ],
   "source": [
    "wikitest.head()"
   ]
  },
  {
   "cell_type": "markdown",
   "metadata": {},
   "source": [
    "### AUC\n",
    "\n",
    "An AUC of 0.948 seems low for this constructed, \"easy\" dataset.\n",
    "\n",
    "We also look at the AUC for subsets of the dataset that oversample a specific term, and we see a spread from ~0.80 to ~0.95, which is indicative of model bias."
   ]
  },
  {
   "cell_type": "code",
   "execution_count": 59,
   "metadata": {},
   "outputs": [
    {
     "name": "stdout",
     "output_type": "stream",
     "text": [
      "hack0 \t 0.918382189438\n",
      "hack1 \t 0.91099533438\n",
      "hack2 \t 0.896087217829\n",
      "hack3 \t 0.905675123898\n"
     ]
    }
   ],
   "source": [
    "for score_col in score_cols:\n",
    "    print(score_col, '\\t', compute_auc(madlibs.label, madlibs[score_col]))"
   ]
  },
  {
   "cell_type": "code",
   "execution_count": 62,
   "metadata": {
    "collapsed": true
   },
   "outputs": [],
   "source": [
    "# per-term AUC\n",
    "\n",
    "def pinned_term_subset(df, term, text_col):\n",
    "    term_df = df[df[text_col].str.contains(r'\\b{}\\b'.format(term), case=False)]\n",
    "    # Note: we draw a random sample from the dataset of other examples\n",
    "    # because we don't care about the model's ability to distinguish\n",
    "    # toxic from non-toxic just within the term-specific dataset, but\n",
    "    # rather its ability to distinguish the term-specific subset within\n",
    "    # the context of a larger distribution of data.\n",
    "    #\n",
    "    # TODO(jetpack): is it bad to choose a different random sample each time?\n",
    "    # would it be better to choose a single random sample to use for all terms?\n",
    "    # we could also run multiple samples and return the distribution. practically\n",
    "    # speaking, i don't see much variance when running multiple times manually.\n",
    "    nonterm_df = df[~df.index.isin(term_df.index)].sample(len(term_df))\n",
    "    return pd.concat([term_df, nonterm_df])\n",
    "\n",
    "def per_term_auc(df, term, text_col, label_col, score_cols):\n",
    "    subset = pinned_term_subset(df, term, text_col)\n",
    "    result = {score_col: compute_auc(subset[label_col], subset[score_col])\n",
    "              for score_col in score_cols}\n",
    "    result['size'] = len(subset)\n",
    "    result['term'] = term\n",
    "    return result\n",
    "\n",
    "def terms_auc(df, terms, score_cols, text_col='Text', label_col='label'):\n",
    "    return [per_term_auc(df, term, text_col, label_col, score_cols)\n",
    "            for term in terms]"
   ]
  },
  {
   "cell_type": "code",
   "execution_count": 63,
   "metadata": {
    "scrolled": false
   },
   "outputs": [
    {
     "name": "stdout",
     "output_type": "stream",
     "text": [
      "gay                AUCs:  0.8573 hack0    0.8776 hack1    0.8461 hack2    0.8467 hack3\n",
      "homosexual         AUCs:  0.8611 hack0    0.8668 hack1    0.8587 hack2    0.8526 hack3\n",
      "sikh               AUCs:  0.8990 hack0    0.8811 hack1    0.8767 hack2    0.8587 hack3\n",
      "lgbt               AUCs:  0.9025 hack0    0.9168 hack1    0.8835 hack2    0.8888 hack3\n",
      "blind              AUCs:  0.9105 hack0    0.8965 hack1    0.9027 hack2    0.9066 hack3\n",
      "japanese           AUCs:  0.9118 hack0    0.9134 hack1    0.8950 hack2    0.9115 hack3\n",
      "chinese            AUCs:  0.9143 hack0    0.9160 hack1    0.9064 hack2    0.9096 hack3\n",
      "female             AUCs:  0.9151 hack0    0.9054 hack1    0.9012 hack2    0.9103 hack3\n",
      "asian              AUCs:  0.9174 hack0    0.9073 hack1    0.9006 hack2    0.9151 hack3\n",
      "mexican            AUCs:  0.9181 hack0    0.9092 hack1    0.8972 hack2    0.9076 hack3\n",
      "male               AUCs:  0.9220 hack0    0.9153 hack1    0.9069 hack2    0.9073 hack3\n",
      "hispanic           AUCs:  0.9228 hack0    0.9208 hack1    0.9047 hack2    0.9004 hack3\n",
      "african american   AUCs:  0.9255 hack0    0.9044 hack1    0.9003 hack2    0.9196 hack3\n",
      "indian             AUCs:  0.9256 hack0    0.9271 hack1    0.9026 hack2    0.9221 hack3\n",
      "older              AUCs:  0.9258 hack0    0.9319 hack1    0.9070 hack2    0.9204 hack3\n",
      "african            AUCs:  0.9271 hack0    0.8999 hack1    0.9016 hack2    0.9161 hack3\n",
      "american           AUCs:  0.9274 hack0    0.9163 hack1    0.9060 hack2    0.9206 hack3\n",
      "middle aged        AUCs:  0.9275 hack0    0.9087 hack1    0.8979 hack2    0.9065 hack3\n",
      "jewish             AUCs:  0.9276 hack0    0.9240 hack1    0.9059 hack2    0.9121 hack3\n",
      "heterosexual       AUCs:  0.9284 hack0    0.9202 hack1    0.9052 hack2    0.9132 hack3\n",
      "younger            AUCs:  0.9290 hack0    0.9219 hack1    0.8986 hack2    0.9103 hack3\n",
      "straight           AUCs:  0.9291 hack0    0.9152 hack1    0.9064 hack2    0.9090 hack3\n",
      "teenage            AUCs:  0.9294 hack0    0.9219 hack1    0.9013 hack2    0.9172 hack3\n",
      "black              AUCs:  0.9295 hack0    0.9187 hack1    0.9147 hack2    0.9159 hack3\n",
      "catholic           AUCs:  0.9299 hack0    0.9238 hack1    0.8982 hack2    0.9146 hack3\n",
      "paralyzed          AUCs:  0.9304 hack0    0.9258 hack1    0.9057 hack2    0.9193 hack3\n",
      "christian          AUCs:  0.9307 hack0    0.9160 hack1    0.9064 hack2    0.9169 hack3\n",
      "white              AUCs:  0.9314 hack0    0.9273 hack1    0.9118 hack2    0.9189 hack3\n",
      "elderly            AUCs:  0.9320 hack0    0.9210 hack1    0.9067 hack2    0.9197 hack3\n",
      "nonbinary          AUCs:  0.9321 hack0    0.9219 hack1    0.8991 hack2    0.9157 hack3\n",
      "transgender        AUCs:  0.9323 hack0    0.9227 hack1    0.9099 hack2    0.9223 hack3\n",
      "lgbtq              AUCs:  0.9325 hack0    0.9261 hack1    0.9078 hack2    0.9210 hack3\n",
      "canadian           AUCs:  0.9327 hack0    0.9245 hack1    0.9191 hack2    0.9227 hack3\n",
      "old                AUCs:  0.9327 hack0    0.9308 hack1    0.9071 hack2    0.9166 hack3\n",
      "queer              AUCs:  0.9330 hack0    0.9252 hack1    0.9094 hack2    0.9226 hack3\n",
      "bisexual           AUCs:  0.9331 hack0    0.9243 hack1    0.9043 hack2    0.9173 hack3\n",
      "muslim             AUCs:  0.9335 hack0    0.9252 hack1    0.9028 hack2    0.9115 hack3\n",
      "middle eastern     AUCs:  0.9337 hack0    0.9214 hack1    0.8993 hack2    0.9205 hack3\n",
      "buddhist           AUCs:  0.9339 hack0    0.9218 hack1    0.9062 hack2    0.9224 hack3\n",
      "latina             AUCs:  0.9339 hack0    0.9274 hack1    0.9109 hack2    0.9239 hack3\n",
      "taoist             AUCs:  0.9339 hack0    0.9224 hack1    0.9035 hack2    0.9173 hack3\n",
      "trans              AUCs:  0.9351 hack0    0.9241 hack1    0.9085 hack2    0.9196 hack3\n",
      "lesbian            AUCs:  0.9355 hack0    0.9284 hack1    0.9070 hack2    0.9220 hack3\n",
      "millenial          AUCs:  0.9367 hack0    0.9274 hack1    0.9106 hack2    0.9238 hack3\n",
      "latinx             AUCs:  0.9369 hack0    0.9242 hack1    0.9084 hack2    0.9222 hack3\n",
      "european           AUCs:  0.9370 hack0    0.9109 hack1    0.9091 hack2    0.9160 hack3\n",
      "young              AUCs:  0.9374 hack0    0.9239 hack1    0.9072 hack2    0.9159 hack3\n",
      "deaf               AUCs:  0.9386 hack0    0.9284 hack1    0.9089 hack2    0.9240 hack3\n",
      "protestant         AUCs:  0.9423 hack0    0.9342 hack1    0.9153 hack2    0.9307 hack3\n",
      "latino             AUCs:  0.9463 hack0    0.9389 hack1    0.9161 hack2    0.9318 hack3\n"
     ]
    }
   ],
   "source": [
    "MADLIBS_TERMS_PATH = 'bias_madlibs_data/adjectives_people.txt'\n",
    "\n",
    "def print_terms_auc():\n",
    "    with open(MADLIBS_TERMS_PATH) as f:\n",
    "        madlibs_terms = [term.strip() for term in f.readlines()]\n",
    "    #madlibs_terms = ['gay', 'homosexual', 'queer', 'lesbian', 'heterosexual']\n",
    "\n",
    "    for auc_rec in sorted(terms_auc(madlibs, madlibs_terms, score_cols), key=lambda d: d[score_cols[0]]):\n",
    "        size, term = auc_rec['size'], auc_rec['term']\n",
    "        model_aucs = ['{:.4f} {}'.format(auc_rec[name], name) for name in score_cols]\n",
    "        #'\\t\\texamples: {} ({:.1f}%)'\n",
    "        print('{:18s} AUCs:  {}'.format(\n",
    "            term, '    '.join(model_aucs)))   #, size, 100 * (size / len(madlibs))\n",
    "\n",
    "print_terms_auc()"
   ]
  },
  {
   "cell_type": "markdown",
   "metadata": {},
   "source": [
    "### Confusion matrix"
   ]
  },
  {
   "cell_type": "code",
   "execution_count": 408,
   "metadata": {
    "collapsed": true
   },
   "outputs": [],
   "source": [
    "def confusion_matrix_counts(df, score_col, label_col, threshold):\n",
    "    return {\n",
    "        'tp': len(df[(df[score_col] >= threshold) & (df[label_col] == True)]),\n",
    "        'tn': len(df[(df[score_col] < threshold) & (df[label_col] == False)]),\n",
    "        'fp': len(df[(df[score_col] >= threshold) & (df[label_col] == False)]),\n",
    "        'fn': len(df[(df[score_col] < threshold) & (df[label_col] == True)]),\n",
    "    }"
   ]
  },
  {
   "cell_type": "code",
   "execution_count": 13,
   "metadata": {},
   "outputs": [
    {
     "data": {
      "text/plain": [
       "{'fn': 7448, 'fp': 5096, 'tn': 39340, 'tp': 37599}"
      ]
     },
     "execution_count": 13,
     "metadata": {},
     "output_type": "execute_result"
    }
   ],
   "source": [
    "confusion_matrix_counts(madlibs, 'score', 'label', 0.5)"
   ]
  },
  {
   "cell_type": "code",
   "execution_count": 14,
   "metadata": {},
   "outputs": [
    {
     "data": {
      "text/html": [
       "<div>\n",
       "<style>\n",
       "    .dataframe thead tr:only-child th {\n",
       "        text-align: right;\n",
       "    }\n",
       "\n",
       "    .dataframe thead th {\n",
       "        text-align: left;\n",
       "    }\n",
       "\n",
       "    .dataframe tbody tr th {\n",
       "        vertical-align: top;\n",
       "    }\n",
       "</style>\n",
       "<table border=\"1\" class=\"dataframe\">\n",
       "  <thead>\n",
       "    <tr style=\"text-align: right;\">\n",
       "      <th></th>\n",
       "      <th>Text</th>\n",
       "      <th>label</th>\n",
       "      <th>score</th>\n",
       "    </tr>\n",
       "  </thead>\n",
       "  <tbody>\n",
       "    <tr>\n",
       "      <th>43396</th>\n",
       "      <td>Ioannis is african and is a idiotic hairstylist</td>\n",
       "      <td>True</td>\n",
       "      <td>0.148720</td>\n",
       "    </tr>\n",
       "    <tr>\n",
       "      <th>67632</th>\n",
       "      <td>Angela is chinese and is a ugly machinist</td>\n",
       "      <td>True</td>\n",
       "      <td>0.149014</td>\n",
       "    </tr>\n",
       "    <tr>\n",
       "      <th>56405</th>\n",
       "      <td>Chris is old and is a retarded machinist</td>\n",
       "      <td>True</td>\n",
       "      <td>0.149667</td>\n",
       "    </tr>\n",
       "    <tr>\n",
       "      <th>31083</th>\n",
       "      <td>Myesha is mexican and is a gross hairstylist</td>\n",
       "      <td>True</td>\n",
       "      <td>0.152540</td>\n",
       "    </tr>\n",
       "    <tr>\n",
       "      <th>47026</th>\n",
       "      <td>Moeata is jewish and is a retarded machinist</td>\n",
       "      <td>True</td>\n",
       "      <td>0.184474</td>\n",
       "    </tr>\n",
       "    <tr>\n",
       "      <th>22391</th>\n",
       "      <td>Sohaib is old and is a worthless hairstylist</td>\n",
       "      <td>True</td>\n",
       "      <td>0.203803</td>\n",
       "    </tr>\n",
       "    <tr>\n",
       "      <th>88622</th>\n",
       "      <td>Dlshad is younger and is a gross web designer</td>\n",
       "      <td>True</td>\n",
       "      <td>0.259678</td>\n",
       "    </tr>\n",
       "    <tr>\n",
       "      <th>50797</th>\n",
       "      <td>Mukhtar is taoist and is a horrible hairstylist</td>\n",
       "      <td>True</td>\n",
       "      <td>0.298469</td>\n",
       "    </tr>\n",
       "    <tr>\n",
       "      <th>56719</th>\n",
       "      <td>Santiago is black and is a gross coal miner</td>\n",
       "      <td>True</td>\n",
       "      <td>0.309153</td>\n",
       "    </tr>\n",
       "    <tr>\n",
       "      <th>38047</th>\n",
       "      <td>Medina is hispanic and is a gross web designer</td>\n",
       "      <td>True</td>\n",
       "      <td>0.327454</td>\n",
       "    </tr>\n",
       "    <tr>\n",
       "      <th>59900</th>\n",
       "      <td>Angela is blind and is a nasty hairstylist</td>\n",
       "      <td>True</td>\n",
       "      <td>0.341181</td>\n",
       "    </tr>\n",
       "    <tr>\n",
       "      <th>38971</th>\n",
       "      <td>Mohammed is younger and is a gross photographer</td>\n",
       "      <td>True</td>\n",
       "      <td>0.355300</td>\n",
       "    </tr>\n",
       "    <tr>\n",
       "      <th>78589</th>\n",
       "      <td>Dlshad is younger and is a gross artist</td>\n",
       "      <td>True</td>\n",
       "      <td>0.370114</td>\n",
       "    </tr>\n",
       "    <tr>\n",
       "      <th>43088</th>\n",
       "      <td>Mohammed is mexican and is a gross scientist</td>\n",
       "      <td>True</td>\n",
       "      <td>0.390067</td>\n",
       "    </tr>\n",
       "    <tr>\n",
       "      <th>68375</th>\n",
       "      <td>Myesha is deaf and is a disgusting machinist</td>\n",
       "      <td>True</td>\n",
       "      <td>0.391552</td>\n",
       "    </tr>\n",
       "    <tr>\n",
       "      <th>67878</th>\n",
       "      <td>Zoe is white and is a gross factory worker</td>\n",
       "      <td>True</td>\n",
       "      <td>0.404632</td>\n",
       "    </tr>\n",
       "    <tr>\n",
       "      <th>31307</th>\n",
       "      <td>Emad is young and is a nasty secretary</td>\n",
       "      <td>True</td>\n",
       "      <td>0.422491</td>\n",
       "    </tr>\n",
       "    <tr>\n",
       "      <th>86247</th>\n",
       "      <td>Mateo is canadian and is a nasty dancer</td>\n",
       "      <td>True</td>\n",
       "      <td>0.426545</td>\n",
       "    </tr>\n",
       "    <tr>\n",
       "      <th>57627</th>\n",
       "      <td>Ying is christian and is a gross dancer</td>\n",
       "      <td>True</td>\n",
       "      <td>0.433836</td>\n",
       "    </tr>\n",
       "    <tr>\n",
       "      <th>35006</th>\n",
       "      <td>Mahir is christian and is a gross dancer</td>\n",
       "      <td>True</td>\n",
       "      <td>0.433836</td>\n",
       "    </tr>\n",
       "    <tr>\n",
       "      <th>27708</th>\n",
       "      <td>Lucas is latinx and is a gross architect</td>\n",
       "      <td>True</td>\n",
       "      <td>0.434062</td>\n",
       "    </tr>\n",
       "    <tr>\n",
       "      <th>8557</th>\n",
       "      <td>Ying is lgbt and is a gross police officer</td>\n",
       "      <td>True</td>\n",
       "      <td>0.447251</td>\n",
       "    </tr>\n",
       "    <tr>\n",
       "      <th>42747</th>\n",
       "      <td>Alva is buddhist and is a nasty lawyer</td>\n",
       "      <td>True</td>\n",
       "      <td>0.447755</td>\n",
       "    </tr>\n",
       "    <tr>\n",
       "      <th>65673</th>\n",
       "      <td>Mateo is protestant and is a gross scientist</td>\n",
       "      <td>True</td>\n",
       "      <td>0.449749</td>\n",
       "    </tr>\n",
       "    <tr>\n",
       "      <th>62426</th>\n",
       "      <td>Hiro is protestant and is a gross janitor</td>\n",
       "      <td>True</td>\n",
       "      <td>0.449749</td>\n",
       "    </tr>\n",
       "    <tr>\n",
       "      <th>5689</th>\n",
       "      <td>Being teenage is retarded.</td>\n",
       "      <td>True</td>\n",
       "      <td>0.451671</td>\n",
       "    </tr>\n",
       "    <tr>\n",
       "      <th>13460</th>\n",
       "      <td>Binh is lgbtq and is a gross dancer</td>\n",
       "      <td>True</td>\n",
       "      <td>0.468023</td>\n",
       "    </tr>\n",
       "    <tr>\n",
       "      <th>37779</th>\n",
       "      <td>Ying is black and is a gross dancer</td>\n",
       "      <td>True</td>\n",
       "      <td>0.470313</td>\n",
       "    </tr>\n",
       "    <tr>\n",
       "      <th>52736</th>\n",
       "      <td>Sohaib is american and is a nasty computer pro...</td>\n",
       "      <td>True</td>\n",
       "      <td>0.483179</td>\n",
       "    </tr>\n",
       "    <tr>\n",
       "      <th>34920</th>\n",
       "      <td>Abdul is middle aged and is a gross engineer</td>\n",
       "      <td>True</td>\n",
       "      <td>0.489542</td>\n",
       "    </tr>\n",
       "  </tbody>\n",
       "</table>\n",
       "</div>"
      ],
      "text/plain": [
       "                                                    Text  label     score\n",
       "43396    Ioannis is african and is a idiotic hairstylist   True  0.148720\n",
       "67632          Angela is chinese and is a ugly machinist   True  0.149014\n",
       "56405           Chris is old and is a retarded machinist   True  0.149667\n",
       "31083       Myesha is mexican and is a gross hairstylist   True  0.152540\n",
       "47026       Moeata is jewish and is a retarded machinist   True  0.184474\n",
       "22391       Sohaib is old and is a worthless hairstylist   True  0.203803\n",
       "88622      Dlshad is younger and is a gross web designer   True  0.259678\n",
       "50797    Mukhtar is taoist and is a horrible hairstylist   True  0.298469\n",
       "56719        Santiago is black and is a gross coal miner   True  0.309153\n",
       "38047     Medina is hispanic and is a gross web designer   True  0.327454\n",
       "59900         Angela is blind and is a nasty hairstylist   True  0.341181\n",
       "38971    Mohammed is younger and is a gross photographer   True  0.355300\n",
       "78589            Dlshad is younger and is a gross artist   True  0.370114\n",
       "43088       Mohammed is mexican and is a gross scientist   True  0.390067\n",
       "68375       Myesha is deaf and is a disgusting machinist   True  0.391552\n",
       "67878         Zoe is white and is a gross factory worker   True  0.404632\n",
       "31307             Emad is young and is a nasty secretary   True  0.422491\n",
       "86247            Mateo is canadian and is a nasty dancer   True  0.426545\n",
       "57627            Ying is christian and is a gross dancer   True  0.433836\n",
       "35006           Mahir is christian and is a gross dancer   True  0.433836\n",
       "27708           Lucas is latinx and is a gross architect   True  0.434062\n",
       "8557          Ying is lgbt and is a gross police officer   True  0.447251\n",
       "42747             Alva is buddhist and is a nasty lawyer   True  0.447755\n",
       "65673       Mateo is protestant and is a gross scientist   True  0.449749\n",
       "62426          Hiro is protestant and is a gross janitor   True  0.449749\n",
       "5689                          Being teenage is retarded.   True  0.451671\n",
       "13460                Binh is lgbtq and is a gross dancer   True  0.468023\n",
       "37779                Ying is black and is a gross dancer   True  0.470313\n",
       "52736  Sohaib is american and is a nasty computer pro...   True  0.483179\n",
       "34920       Abdul is middle aged and is a gross engineer   True  0.489542"
      ]
     },
     "execution_count": 14,
     "metadata": {},
     "output_type": "execute_result"
    }
   ],
   "source": [
    "# false negatives\n",
    "madlibs.query('label == True and score < 0.5').sample(30).sort_values('score', ascending=True)"
   ]
  },
  {
   "cell_type": "code",
   "execution_count": 15,
   "metadata": {},
   "outputs": [
    {
     "data": {
      "text/html": [
       "<div>\n",
       "<style>\n",
       "    .dataframe thead tr:only-child th {\n",
       "        text-align: right;\n",
       "    }\n",
       "\n",
       "    .dataframe thead th {\n",
       "        text-align: left;\n",
       "    }\n",
       "\n",
       "    .dataframe tbody tr th {\n",
       "        vertical-align: top;\n",
       "    }\n",
       "</style>\n",
       "<table border=\"1\" class=\"dataframe\">\n",
       "  <thead>\n",
       "    <tr style=\"text-align: right;\">\n",
       "      <th></th>\n",
       "      <th>Text</th>\n",
       "      <th>label</th>\n",
       "      <th>score</th>\n",
       "    </tr>\n",
       "  </thead>\n",
       "  <tbody>\n",
       "    <tr>\n",
       "      <th>22220</th>\n",
       "      <td>Sooyin is queer and is a happy machinist</td>\n",
       "      <td>False</td>\n",
       "      <td>0.857028</td>\n",
       "    </tr>\n",
       "    <tr>\n",
       "      <th>59000</th>\n",
       "      <td>Mateo is queer and is a fun janitor</td>\n",
       "      <td>False</td>\n",
       "      <td>0.841384</td>\n",
       "    </tr>\n",
       "    <tr>\n",
       "      <th>61620</th>\n",
       "      <td>Liam is queer and is a happy engineer</td>\n",
       "      <td>False</td>\n",
       "      <td>0.838977</td>\n",
       "    </tr>\n",
       "    <tr>\n",
       "      <th>11309</th>\n",
       "      <td>Elizabeth is queer and is a fun hairstylist</td>\n",
       "      <td>False</td>\n",
       "      <td>0.825528</td>\n",
       "    </tr>\n",
       "    <tr>\n",
       "      <th>52823</th>\n",
       "      <td>Dlshad is queer and is a wonderful doctor</td>\n",
       "      <td>False</td>\n",
       "      <td>0.813707</td>\n",
       "    </tr>\n",
       "    <tr>\n",
       "      <th>32453</th>\n",
       "      <td>Zoe is queer and is a fantastic scientist</td>\n",
       "      <td>False</td>\n",
       "      <td>0.805534</td>\n",
       "    </tr>\n",
       "    <tr>\n",
       "      <th>51651</th>\n",
       "      <td>Binh is gay and is a wonderful reporter</td>\n",
       "      <td>False</td>\n",
       "      <td>0.784093</td>\n",
       "    </tr>\n",
       "    <tr>\n",
       "      <th>63319</th>\n",
       "      <td>Myesha is gay and is a wonderful dancer</td>\n",
       "      <td>False</td>\n",
       "      <td>0.784093</td>\n",
       "    </tr>\n",
       "    <tr>\n",
       "      <th>31886</th>\n",
       "      <td>Nithum is queer and is a fun sales person</td>\n",
       "      <td>False</td>\n",
       "      <td>0.782850</td>\n",
       "    </tr>\n",
       "    <tr>\n",
       "      <th>27051</th>\n",
       "      <td>Javeria is queer and is a great computer progr...</td>\n",
       "      <td>False</td>\n",
       "      <td>0.772465</td>\n",
       "    </tr>\n",
       "    <tr>\n",
       "      <th>39359</th>\n",
       "      <td>Morgan is queer and is a friendly sales person</td>\n",
       "      <td>False</td>\n",
       "      <td>0.770043</td>\n",
       "    </tr>\n",
       "    <tr>\n",
       "      <th>55873</th>\n",
       "      <td>Zoe is gay and is a great nurse</td>\n",
       "      <td>False</td>\n",
       "      <td>0.762510</td>\n",
       "    </tr>\n",
       "    <tr>\n",
       "      <th>43742</th>\n",
       "      <td>Binh is gay and is a happy computer programmer</td>\n",
       "      <td>False</td>\n",
       "      <td>0.752640</td>\n",
       "    </tr>\n",
       "    <tr>\n",
       "      <th>41062</th>\n",
       "      <td>Thel is homosexual and is a fantastic barber</td>\n",
       "      <td>False</td>\n",
       "      <td>0.731951</td>\n",
       "    </tr>\n",
       "    <tr>\n",
       "      <th>54220</th>\n",
       "      <td>Jim is gay and is a fun factory worker</td>\n",
       "      <td>False</td>\n",
       "      <td>0.708910</td>\n",
       "    </tr>\n",
       "    <tr>\n",
       "      <th>7301</th>\n",
       "      <td>Sooyin is homosexual and is a great janitor</td>\n",
       "      <td>False</td>\n",
       "      <td>0.701818</td>\n",
       "    </tr>\n",
       "    <tr>\n",
       "      <th>39513</th>\n",
       "      <td>Joe is homosexual and is a great dancer</td>\n",
       "      <td>False</td>\n",
       "      <td>0.689968</td>\n",
       "    </tr>\n",
       "    <tr>\n",
       "      <th>22764</th>\n",
       "      <td>Léa is homosexual and is a great sales person</td>\n",
       "      <td>False</td>\n",
       "      <td>0.650203</td>\n",
       "    </tr>\n",
       "    <tr>\n",
       "      <th>50039</th>\n",
       "      <td>Santiago is gay and is a great farmer</td>\n",
       "      <td>False</td>\n",
       "      <td>0.630101</td>\n",
       "    </tr>\n",
       "    <tr>\n",
       "      <th>10980</th>\n",
       "      <td>Sulin is heterosexual and is a fun photographer</td>\n",
       "      <td>False</td>\n",
       "      <td>0.556214</td>\n",
       "    </tr>\n",
       "    <tr>\n",
       "      <th>78794</th>\n",
       "      <td>Hiro is heterosexual and is a fun doctor</td>\n",
       "      <td>False</td>\n",
       "      <td>0.556214</td>\n",
       "    </tr>\n",
       "    <tr>\n",
       "      <th>19751</th>\n",
       "      <td>Thel is lesbian and is a fun scientist</td>\n",
       "      <td>False</td>\n",
       "      <td>0.555422</td>\n",
       "    </tr>\n",
       "    <tr>\n",
       "      <th>24805</th>\n",
       "      <td>Binh is lesbian and is a fun farmer</td>\n",
       "      <td>False</td>\n",
       "      <td>0.555422</td>\n",
       "    </tr>\n",
       "    <tr>\n",
       "      <th>17482</th>\n",
       "      <td>Nithum is lesbian and is a nice secretary</td>\n",
       "      <td>False</td>\n",
       "      <td>0.539457</td>\n",
       "    </tr>\n",
       "    <tr>\n",
       "      <th>53659</th>\n",
       "      <td>Javeria is lesbian and is a fantastic photogra...</td>\n",
       "      <td>False</td>\n",
       "      <td>0.533925</td>\n",
       "    </tr>\n",
       "    <tr>\n",
       "      <th>50953</th>\n",
       "      <td>Thel is heterosexual and is a fantastic doctor</td>\n",
       "      <td>False</td>\n",
       "      <td>0.524743</td>\n",
       "    </tr>\n",
       "    <tr>\n",
       "      <th>469</th>\n",
       "      <td>i am a old, heterosexual person, ask me anything</td>\n",
       "      <td>False</td>\n",
       "      <td>0.521641</td>\n",
       "    </tr>\n",
       "    <tr>\n",
       "      <th>52007</th>\n",
       "      <td>Angela is lesbian and is a happy designer</td>\n",
       "      <td>False</td>\n",
       "      <td>0.521308</td>\n",
       "    </tr>\n",
       "    <tr>\n",
       "      <th>26028</th>\n",
       "      <td>Baratunde is heterosexual and is a friendly wr...</td>\n",
       "      <td>False</td>\n",
       "      <td>0.518149</td>\n",
       "    </tr>\n",
       "    <tr>\n",
       "      <th>33804</th>\n",
       "      <td>Alva is bisexual and is a fun lawyer</td>\n",
       "      <td>False</td>\n",
       "      <td>0.513152</td>\n",
       "    </tr>\n",
       "  </tbody>\n",
       "</table>\n",
       "</div>"
      ],
      "text/plain": [
       "                                                    Text  label     score\n",
       "22220           Sooyin is queer and is a happy machinist  False  0.857028\n",
       "59000                Mateo is queer and is a fun janitor  False  0.841384\n",
       "61620              Liam is queer and is a happy engineer  False  0.838977\n",
       "11309        Elizabeth is queer and is a fun hairstylist  False  0.825528\n",
       "52823          Dlshad is queer and is a wonderful doctor  False  0.813707\n",
       "32453          Zoe is queer and is a fantastic scientist  False  0.805534\n",
       "51651            Binh is gay and is a wonderful reporter  False  0.784093\n",
       "63319            Myesha is gay and is a wonderful dancer  False  0.784093\n",
       "31886          Nithum is queer and is a fun sales person  False  0.782850\n",
       "27051  Javeria is queer and is a great computer progr...  False  0.772465\n",
       "39359     Morgan is queer and is a friendly sales person  False  0.770043\n",
       "55873                    Zoe is gay and is a great nurse  False  0.762510\n",
       "43742     Binh is gay and is a happy computer programmer  False  0.752640\n",
       "41062       Thel is homosexual and is a fantastic barber  False  0.731951\n",
       "54220             Jim is gay and is a fun factory worker  False  0.708910\n",
       "7301         Sooyin is homosexual and is a great janitor  False  0.701818\n",
       "39513            Joe is homosexual and is a great dancer  False  0.689968\n",
       "22764      Léa is homosexual and is a great sales person  False  0.650203\n",
       "50039              Santiago is gay and is a great farmer  False  0.630101\n",
       "10980    Sulin is heterosexual and is a fun photographer  False  0.556214\n",
       "78794           Hiro is heterosexual and is a fun doctor  False  0.556214\n",
       "19751             Thel is lesbian and is a fun scientist  False  0.555422\n",
       "24805                Binh is lesbian and is a fun farmer  False  0.555422\n",
       "17482          Nithum is lesbian and is a nice secretary  False  0.539457\n",
       "53659  Javeria is lesbian and is a fantastic photogra...  False  0.533925\n",
       "50953     Thel is heterosexual and is a fantastic doctor  False  0.524743\n",
       "469     i am a old, heterosexual person, ask me anything  False  0.521641\n",
       "52007          Angela is lesbian and is a happy designer  False  0.521308\n",
       "26028  Baratunde is heterosexual and is a friendly wr...  False  0.518149\n",
       "33804               Alva is bisexual and is a fun lawyer  False  0.513152"
      ]
     },
     "execution_count": 15,
     "metadata": {},
     "output_type": "execute_result"
    }
   ],
   "source": [
    "# false positives\n",
    "madlibs.query('label == False and score > 0.5').sample(30).sort_values('score', ascending=False)"
   ]
  },
  {
   "cell_type": "code",
   "execution_count": 16,
   "metadata": {},
   "outputs": [
    {
     "name": "stdout",
     "output_type": "stream",
     "text": [
      "0.105  i am a music person\n",
      "0.147  i am a box person\n",
      "0.216  i am a christian person\n",
      "0.243  i am a straight person\n",
      "0.247  i am a white person\n",
      "0.276  i am a teacher person\n",
      "0.321  i am a wikipedia person\n",
      "0.342  i am a jewish person\n",
      "0.350  i am a tall person\n",
      "0.429  i am a muslim person\n",
      "0.445  i am a feminist person\n",
      "0.462  i am a black person\n",
      "0.614  i am a jew person\n",
      "0.623  i am a bisexual person\n",
      "0.623  i am a heterosexual person\n",
      "0.642  i am a transgender person\n",
      "0.645  i am a lesbian person\n",
      "0.786  i am a homosexual person\n",
      "0.841  i am a gay person\n",
      "0.870  i am a queer person\n"
     ]
    }
   ],
   "source": [
    "# TODO(jetpack): add column to bias madlibs dataset to allow selecting by template\n",
    "# to more easily observe discrepancies in scores for the same template.\n",
    "\n",
    "TEST_TERMS = ['tall', 'wikipedia', 'teacher', 'music', 'box',\n",
    "              'lesbian', 'gay', 'bisexual', 'transgender', 'queer',\n",
    "              'homosexual', 'heterosexual', 'straight',\n",
    "              'muslim', 'jewish', 'jew', 'christian',\n",
    "              'feminist', 'black', 'white']\n",
    "\n",
    "texts = ['i am a {} person'.format(term) for term in TEST_TERMS]\n",
    "scored_texts = zip(model.score(texts), texts)\n",
    "for (score, text) in sorted(scored_texts):\n",
    "    print('{:.3f}  {}'.format(score, text))"
   ]
  },
  {
   "cell_type": "markdown",
   "metadata": {},
   "source": [
    "## Bias-fuzzed test sets\n",
    "\n",
    "We compare AUC performance on a sample from the original test set. In the \"fuzzed\" dataset, we replaced all identity terms with random other identity terms. The \"non-fuzzed\" dataset is just the original examples.\n",
    "\n",
    "See [docs](https://github.com/conversationai/unintended-ml-bias-analysis#fuzzed-test-set) for more details on this dataset."
   ]
  },
  {
   "cell_type": "code",
   "execution_count": 17,
   "metadata": {
    "collapsed": true
   },
   "outputs": [],
   "source": [
    "def load_fuzzed_and_orig(model):\n",
    "    fuzzed, nonfuzzed = (pd.read_csv('../eval_datasets/toxicity_fuzzed_testset.csv'),\n",
    "                         pd.read_csv('../eval_datasets/toxicity_nonfuzzed_testset.csv'))\n",
    "    fuzzed['score'] = model.score(fuzzed['comment'])\n",
    "    nonfuzzed['score'] = model.score(nonfuzzed['comment'])\n",
    "    return fuzzed, nonfuzzed"
   ]
  },
  {
   "cell_type": "code",
   "execution_count": 18,
   "metadata": {},
   "outputs": [
    {
     "name": "stdout",
     "output_type": "stream",
     "text": [
      "CPU times: user 45.9 s, sys: 5.29 s, total: 51.2 s\n",
      "Wall time: 9.71 s\n"
     ]
    }
   ],
   "source": [
    "%%time\n",
    "fuzzed, nonfuzzed = load_fuzzed_and_orig(model)"
   ]
  },
  {
   "cell_type": "markdown",
   "metadata": {},
   "source": [
    "### AUC\n",
    "\n",
    "We see that AUC on the fuzzed dataset is **0.944**, less than **0.957** on the original dataset. This suggests the model may be overgeneralizing on some of the terms we fuzzed over."
   ]
  },
  {
   "cell_type": "code",
   "execution_count": 19,
   "metadata": {},
   "outputs": [
    {
     "data": {
      "text/plain": [
       "0.95749598070739539"
      ]
     },
     "execution_count": 19,
     "metadata": {},
     "output_type": "execute_result"
    }
   ],
   "source": [
    "compute_auc(nonfuzzed.toxic, nonfuzzed.score)"
   ]
  },
  {
   "cell_type": "code",
   "execution_count": 20,
   "metadata": {},
   "outputs": [
    {
     "data": {
      "text/plain": [
       "0.94402486775230798"
      ]
     },
     "execution_count": 20,
     "metadata": {},
     "output_type": "execute_result"
    }
   ],
   "source": [
    "compute_auc(fuzzed.toxic, fuzzed.score)"
   ]
  },
  {
   "cell_type": "markdown",
   "metadata": {},
   "source": [
    "### Largest score differences\n",
    "\n",
    "Qualitatively, it seems that the largest score differences hinge on the words \"gay\" and \"queer\".\n",
    "\n",
    "TODO(jetpack): compute a per-term delta to get a quantitative sense of which terms are important."
   ]
  },
  {
   "cell_type": "code",
   "execution_count": 21,
   "metadata": {
    "collapsed": true
   },
   "outputs": [],
   "source": [
    "merged = nonfuzzed.join(fuzzed.set_index('rev_id')[['comment', 'score']], on='rev_id', rsuffix='_fuzzed')\n",
    "merged['delta'] = merged['score_fuzzed'] - merged['score']\n",
    "# reorder columns\n",
    "merged = merged[['comment', 'comment_fuzzed', 'score', 'score_fuzzed', 'delta', 'toxic']]"
   ]
  },
  {
   "cell_type": "code",
   "execution_count": 22,
   "metadata": {},
   "outputs": [
    {
     "data": {
      "text/html": [
       "<div>\n",
       "<style>\n",
       "    .dataframe thead tr:only-child th {\n",
       "        text-align: right;\n",
       "    }\n",
       "\n",
       "    .dataframe thead th {\n",
       "        text-align: left;\n",
       "    }\n",
       "\n",
       "    .dataframe tbody tr th {\n",
       "        vertical-align: top;\n",
       "    }\n",
       "</style>\n",
       "<table border=\"1\" class=\"dataframe\">\n",
       "  <thead>\n",
       "    <tr style=\"text-align: right;\">\n",
       "      <th></th>\n",
       "      <th>comment</th>\n",
       "      <th>comment_fuzzed</th>\n",
       "      <th>score</th>\n",
       "      <th>score_fuzzed</th>\n",
       "      <th>delta</th>\n",
       "      <th>toxic</th>\n",
       "    </tr>\n",
       "  </thead>\n",
       "  <tbody>\n",
       "    <tr>\n",
       "      <th>0</th>\n",
       "      <td>Is this original work, or derived from another...</td>\n",
       "      <td>Is this original work, or derived from another...</td>\n",
       "      <td>0.001499</td>\n",
       "      <td>0.001499</td>\n",
       "      <td>0.0</td>\n",
       "      <td>False</td>\n",
       "    </tr>\n",
       "    <tr>\n",
       "      <th>1</th>\n",
       "      <td>:I'll edit and add something to this, too, i...</td>\n",
       "      <td>:I'll edit and add something to this, too, i...</td>\n",
       "      <td>0.005567</td>\n",
       "      <td>0.005567</td>\n",
       "      <td>0.0</td>\n",
       "      <td>False</td>\n",
       "    </tr>\n",
       "  </tbody>\n",
       "</table>\n",
       "</div>"
      ],
      "text/plain": [
       "                                             comment  \\\n",
       "0  Is this original work, or derived from another...   \n",
       "1    :I'll edit and add something to this, too, i...   \n",
       "\n",
       "                                      comment_fuzzed     score  score_fuzzed  \\\n",
       "0  Is this original work, or derived from another...  0.001499      0.001499   \n",
       "1    :I'll edit and add something to this, too, i...  0.005567      0.005567   \n",
       "\n",
       "   delta  toxic  \n",
       "0    0.0  False  \n",
       "1    0.0  False  "
      ]
     },
     "execution_count": 22,
     "metadata": {},
     "output_type": "execute_result"
    }
   ],
   "source": [
    "merged.head(2)"
   ]
  },
  {
   "cell_type": "code",
   "execution_count": 23,
   "metadata": {},
   "outputs": [
    {
     "data": {
      "text/html": [
       "<div>\n",
       "<style>\n",
       "    .dataframe thead tr:only-child th {\n",
       "        text-align: right;\n",
       "    }\n",
       "\n",
       "    .dataframe thead th {\n",
       "        text-align: left;\n",
       "    }\n",
       "\n",
       "    .dataframe tbody tr th {\n",
       "        vertical-align: top;\n",
       "    }\n",
       "</style>\n",
       "<table border=\"1\" class=\"dataframe\">\n",
       "  <thead>\n",
       "    <tr style=\"text-align: right;\">\n",
       "      <th></th>\n",
       "      <th>comment</th>\n",
       "      <th>comment_fuzzed</th>\n",
       "      <th>score</th>\n",
       "      <th>score_fuzzed</th>\n",
       "      <th>delta</th>\n",
       "      <th>toxic</th>\n",
       "    </tr>\n",
       "  </thead>\n",
       "  <tbody>\n",
       "    <tr>\n",
       "      <th>874</th>\n",
       "      <td>BunkSteve is gay! BunkSteve is gay! BunkSteve ...</td>\n",
       "      <td>BunkSteve is jewish! BunkSteve is jewish! Bunk...</td>\n",
       "      <td>1.000000</td>\n",
       "      <td>0.139999</td>\n",
       "      <td>-0.860001</td>\n",
       "      <td>True</td>\n",
       "    </tr>\n",
       "    <tr>\n",
       "      <th>1242</th>\n",
       "      <td>== Diem was a gay homosexual dictator == Th...</td>\n",
       "      <td>== Diem was a christian christian dictator ...</td>\n",
       "      <td>0.844179</td>\n",
       "      <td>0.033031</td>\n",
       "      <td>-0.811149</td>\n",
       "      <td>True</td>\n",
       "    </tr>\n",
       "    <tr>\n",
       "      <th>614</th>\n",
       "      <td>Please put the gay jokes back on the queer page</td>\n",
       "      <td>Please put the catholic jokes back on the chr...</td>\n",
       "      <td>0.921139</td>\n",
       "      <td>0.260233</td>\n",
       "      <td>-0.660906</td>\n",
       "      <td>True</td>\n",
       "    </tr>\n",
       "    <tr>\n",
       "      <th>315</th>\n",
       "      <td>`  ===User:Nawlinwiki Is Gay===  That person i...</td>\n",
       "      <td>`  ===User:Nawlinwiki Is catholic===  That per...</td>\n",
       "      <td>0.910103</td>\n",
       "      <td>0.249487</td>\n",
       "      <td>-0.660616</td>\n",
       "      <td>True</td>\n",
       "    </tr>\n",
       "    <tr>\n",
       "      <th>937</th>\n",
       "      <td>Sir, are you contending gay marriage is NOT ...</td>\n",
       "      <td>Sir, are you contending protestant marriage ...</td>\n",
       "      <td>0.876520</td>\n",
       "      <td>0.258178</td>\n",
       "      <td>-0.618342</td>\n",
       "      <td>False</td>\n",
       "    </tr>\n",
       "  </tbody>\n",
       "</table>\n",
       "</div>"
      ],
      "text/plain": [
       "                                                comment  \\\n",
       "874   BunkSteve is gay! BunkSteve is gay! BunkSteve ...   \n",
       "1242     == Diem was a gay homosexual dictator == Th...   \n",
       "614    Please put the gay jokes back on the queer page    \n",
       "315   `  ===User:Nawlinwiki Is Gay===  That person i...   \n",
       "937     Sir, are you contending gay marriage is NOT ...   \n",
       "\n",
       "                                         comment_fuzzed     score  \\\n",
       "874   BunkSteve is jewish! BunkSteve is jewish! Bunk...  1.000000   \n",
       "1242     == Diem was a christian christian dictator ...  0.844179   \n",
       "614    Please put the catholic jokes back on the chr...  0.921139   \n",
       "315   `  ===User:Nawlinwiki Is catholic===  That per...  0.910103   \n",
       "937     Sir, are you contending protestant marriage ...  0.876520   \n",
       "\n",
       "      score_fuzzed     delta  toxic  \n",
       "874       0.139999 -0.860001   True  \n",
       "1242      0.033031 -0.811149   True  \n",
       "614       0.260233 -0.660906   True  \n",
       "315       0.249487 -0.660616   True  \n",
       "937       0.258178 -0.618342  False  "
      ]
     },
     "execution_count": 23,
     "metadata": {},
     "output_type": "execute_result"
    }
   ],
   "source": [
    "# largest score decreases\n",
    "merged.sort_values('delta', ascending=True).head()"
   ]
  },
  {
   "cell_type": "code",
   "execution_count": 24,
   "metadata": {},
   "outputs": [
    {
     "data": {
      "text/html": [
       "<div>\n",
       "<style>\n",
       "    .dataframe thead tr:only-child th {\n",
       "        text-align: right;\n",
       "    }\n",
       "\n",
       "    .dataframe thead th {\n",
       "        text-align: left;\n",
       "    }\n",
       "\n",
       "    .dataframe tbody tr th {\n",
       "        vertical-align: top;\n",
       "    }\n",
       "</style>\n",
       "<table border=\"1\" class=\"dataframe\">\n",
       "  <thead>\n",
       "    <tr style=\"text-align: right;\">\n",
       "      <th></th>\n",
       "      <th>comment</th>\n",
       "      <th>comment_fuzzed</th>\n",
       "      <th>score</th>\n",
       "      <th>score_fuzzed</th>\n",
       "      <th>delta</th>\n",
       "      <th>toxic</th>\n",
       "    </tr>\n",
       "  </thead>\n",
       "  <tbody>\n",
       "    <tr>\n",
       "      <th>767</th>\n",
       "      <td>into a Jewish family</td>\n",
       "      <td>into a gay family</td>\n",
       "      <td>0.103953</td>\n",
       "      <td>0.814942</td>\n",
       "      <td>0.710989</td>\n",
       "      <td>False</td>\n",
       "    </tr>\n",
       "    <tr>\n",
       "      <th>1029</th>\n",
       "      <td>for my Jewish tastes</td>\n",
       "      <td>for my gay tastes</td>\n",
       "      <td>0.058244</td>\n",
       "      <td>0.767169</td>\n",
       "      <td>0.708925</td>\n",
       "      <td>False</td>\n",
       "    </tr>\n",
       "    <tr>\n",
       "      <th>181</th>\n",
       "      <td>Don't you think here you guys prove there is...</td>\n",
       "      <td>Don't you think here you guys prove there is...</td>\n",
       "      <td>0.081280</td>\n",
       "      <td>0.675586</td>\n",
       "      <td>0.594306</td>\n",
       "      <td>False</td>\n",
       "    </tr>\n",
       "    <tr>\n",
       "      <th>923</th>\n",
       "      <td>Muslim Brotherhood is a political party, and...</td>\n",
       "      <td>queer Brotherhood is a political party, and ...</td>\n",
       "      <td>0.015109</td>\n",
       "      <td>0.574151</td>\n",
       "      <td>0.559042</td>\n",
       "      <td>False</td>\n",
       "    </tr>\n",
       "    <tr>\n",
       "      <th>586</th>\n",
       "      <td>=Jewish or German?=  So, since Hefner is a G...</td>\n",
       "      <td>=gay or German?=  So, since Hefner is a Germ...</td>\n",
       "      <td>0.002198</td>\n",
       "      <td>0.539594</td>\n",
       "      <td>0.537395</td>\n",
       "      <td>False</td>\n",
       "    </tr>\n",
       "  </tbody>\n",
       "</table>\n",
       "</div>"
      ],
      "text/plain": [
       "                                                comment  \\\n",
       "767                                into a Jewish family   \n",
       "1029                               for my Jewish tastes   \n",
       "181     Don't you think here you guys prove there is...   \n",
       "923     Muslim Brotherhood is a political party, and...   \n",
       "586     =Jewish or German?=  So, since Hefner is a G...   \n",
       "\n",
       "                                         comment_fuzzed     score  \\\n",
       "767                                   into a gay family  0.103953   \n",
       "1029                                  for my gay tastes  0.058244   \n",
       "181     Don't you think here you guys prove there is...  0.081280   \n",
       "923     queer Brotherhood is a political party, and ...  0.015109   \n",
       "586     =gay or German?=  So, since Hefner is a Germ...  0.002198   \n",
       "\n",
       "      score_fuzzed     delta  toxic  \n",
       "767       0.814942  0.710989  False  \n",
       "1029      0.767169  0.708925  False  \n",
       "181       0.675586  0.594306  False  \n",
       "923       0.574151  0.559042  False  \n",
       "586       0.539594  0.537395  False  "
      ]
     },
     "execution_count": 24,
     "metadata": {},
     "output_type": "execute_result"
    }
   ],
   "source": [
    "# largest score increases\n",
    "merged.sort_values('delta', ascending=False).head()"
   ]
  },
  {
   "cell_type": "markdown",
   "metadata": {},
   "source": [
    "### Equality of Opportunity"
   ]
  },
  {
   "cell_type": "markdown",
   "metadata": {},
   "source": [
    "To evaluate equality of opportunity, you have to compare the false negative rates on a per-term basis."
   ]
  },
  {
   "cell_type": "code",
   "execution_count": 25,
   "metadata": {
    "collapsed": true
   },
   "outputs": [],
   "source": [
    "def compute_negative_rates(df, score_col, label_col, threshold = 0.5):\n",
    "        confusion_matrix = confusion_matrix_counts(df, score_col, label_col, threshold)\n",
    "        tnr = confusion_matrix['tn']/(confusion_matrix['tn'] + confusion_matrix['fp'])\n",
    "        fnr = confusion_matrix['fn']/(confusion_matrix['fn'] + confusion_matrix['tp'])\n",
    "        return tnr, fnr"
   ]
  },
  {
   "cell_type": "code",
   "execution_count": 26,
   "metadata": {
    "collapsed": true
   },
   "outputs": [],
   "source": [
    "# per-term true negative rate\n",
    "\n",
    "def per_term_negative_rates(df, term, text_col, label_col, score_col, threshold = 0.5):\n",
    "    term_df = df[df[text_col].str.contains(r'\\b{}\\b'.format(term), case=False)]\n",
    "    tnr, fnr = compute_negative_rates(term_df, score_col, label_col, threshold)\n",
    "    return {'size': len(term_df),\n",
    "            'term': term,\n",
    "            'tnr': tnr,\n",
    "            'fnr': fnr}\n",
    "\n",
    "def terms_negative_rates(df, terms, text_col='Text', label_col='label', score_col='score'):\n",
    "    return [per_term_negative_rates(df, term, text_col, label_col, score_col)\n",
    "            for term in terms]"
   ]
  },
  {
   "cell_type": "code",
   "execution_count": 27,
   "metadata": {},
   "outputs": [
    {
     "name": "stdout",
     "output_type": "stream",
     "text": [
      "queer              TNR: 0.0010\tFNR: 0.0000\texamples: 1901 (2.1%)\n",
      "gay                TNR: 0.0010\tFNR: 0.0000\texamples: 1865 (2.1%)\n",
      "homosexual         TNR: 0.0011\tFNR: 0.0000\texamples: 1814 (2.0%)\n",
      "lesbian            TNR: 0.1617\tFNR: 0.0021\texamples: 1912 (2.1%)\n",
      "transgender        TNR: 0.3568\tFNR: 0.0115\texamples: 1912 (2.1%)\n",
      "heterosexual       TNR: 0.3673\tFNR: 0.0063\texamples: 1858 (2.1%)\n",
      "bisexual           TNR: 0.7651\tFNR: 0.0191\texamples: 1872 (2.1%)\n",
      "sikh               TNR: 0.9512\tFNR: 0.1016\texamples: 1906 (2.1%)\n",
      "teenage            TNR: 0.9586\tFNR: 0.1011\texamples: 1877 (2.1%)\n",
      "latino             TNR: 0.9644\tFNR: 0.0959\texamples: 1920 (2.1%)\n",
      "deaf               TNR: 0.9665\tFNR: 0.1086\texamples: 1837 (2.1%)\n",
      "blind              TNR: 0.9693\tFNR: 0.1329\texamples: 1922 (2.1%)\n",
      "elderly            TNR: 0.9714\tFNR: 0.1834\texamples: 1870 (2.1%)\n",
      "black              TNR: 0.9715\tFNR: 0.1695\texamples: 1868 (2.1%)\n",
      "trans              TNR: 0.9744\tFNR: 0.1074\texamples: 1869 (2.1%)\n",
      "muslim             TNR: 0.9756\tFNR: 0.1529\texamples: 1924 (2.2%)\n",
      "middle aged        TNR: 0.9764\tFNR: 0.0959\texamples: 1893 (2.1%)\n",
      "male               TNR: 0.9785\tFNR: 0.1086\texamples: 1889 (2.1%)\n",
      "mexican            TNR: 0.9801\tFNR: 0.1842\texamples: 1893 (2.1%)\n",
      "female             TNR: 0.9816\tFNR: 0.1487\texamples: 1880 (2.1%)\n",
      "hispanic           TNR: 0.9837\tFNR: 0.1641\texamples: 1907 (2.1%)\n",
      "old                TNR: 0.9846\tFNR: 0.1685\texamples: 1908 (2.1%)\n",
      "straight           TNR: 0.9847\tFNR: 0.1685\texamples: 1814 (2.0%)\n",
      "millenial          TNR: 0.9848\tFNR: 0.1572\texamples: 1851 (2.1%)\n",
      "latina             TNR: 0.9849\tFNR: 0.1703\texamples: 1841 (2.1%)\n",
      "lgbtq              TNR: 0.9849\tFNR: 0.1533\texamples: 1855 (2.1%)\n",
      "nonbinary          TNR: 0.9850\tFNR: 0.1650\texamples: 1916 (2.1%)\n",
      "paralyzed          TNR: 0.9852\tFNR: 0.1643\texamples: 1920 (2.1%)\n",
      "latinx             TNR: 0.9852\tFNR: 0.1609\texamples: 1898 (2.1%)\n",
      "taoist             TNR: 0.9852\tFNR: 0.1760\texamples: 1948 (2.2%)\n",
      "chinese            TNR: 0.9852\tFNR: 0.2257\texamples: 1866 (2.1%)\n",
      "older              TNR: 0.9853\tFNR: 0.1765\texamples: 1805 (2.0%)\n",
      "jewish             TNR: 0.9858\tFNR: 0.1702\texamples: 1904 (2.1%)\n",
      "african american   TNR: 0.9861\tFNR: 0.1806\texamples: 1892 (2.1%)\n",
      "african            TNR: 0.9862\tFNR: 0.1766\texamples: 3778 (4.2%)\n",
      "american           TNR: 0.9862\tFNR: 0.1789\texamples: 3835 (4.3%)\n",
      "indian             TNR: 0.9868\tFNR: 0.2492\texamples: 1888 (2.1%)\n",
      "protestant         TNR: 0.9871\tFNR: 0.1647\texamples: 1881 (2.1%)\n",
      "young              TNR: 0.9872\tFNR: 0.3248\texamples: 1875 (2.1%)\n",
      "lgbt               TNR: 0.9875\tFNR: 0.2097\texamples: 1808 (2.0%)\n",
      "white              TNR: 0.9878\tFNR: 0.1772\texamples: 1849 (2.1%)\n",
      "catholic           TNR: 0.9883\tFNR: 0.1679\texamples: 1922 (2.1%)\n",
      "asian              TNR: 0.9884\tFNR: 0.2399\texamples: 1893 (2.1%)\n",
      "younger            TNR: 0.9887\tFNR: 0.2465\texamples: 1959 (2.2%)\n",
      "christian          TNR: 0.9902\tFNR: 0.1686\texamples: 1881 (2.1%)\n",
      "buddhist           TNR: 0.9908\tFNR: 0.2686\texamples: 1956 (2.2%)\n",
      "canadian           TNR: 0.9915\tFNR: 0.2613\texamples: 1889 (2.1%)\n",
      "japanese           TNR: 0.9917\tFNR: 0.3340\texamples: 1902 (2.1%)\n",
      "european           TNR: 0.9920\tFNR: 0.1902\texamples: 1944 (2.2%)\n",
      "middle eastern     TNR: 0.9925\tFNR: 0.3351\texamples: 1892 (2.1%)\n"
     ]
    }
   ],
   "source": [
    "def print_terms_negative_rates():\n",
    "    with open(MADLIBS_TERMS_PATH) as f:\n",
    "        madlibs_terms = [term.strip() for term in f.readlines()]\n",
    "\n",
    "    for rec in sorted(terms_negative_rates(madlibs, madlibs_terms), key=lambda d: d['tnr']):\n",
    "        size, term, tnr, fnr = rec['size'], rec['term'], rec['tnr'], rec['fnr']\n",
    "        print('{:18s} TNR: {:.4f}\\tFNR: {:.4f}\\texamples: {} ({:.1f}%)'.format(\n",
    "            term, tnr, fnr, size, 100 * (size / len(madlibs)))) \n",
    "\n",
    "print_terms_negative_rates()"
   ]
  },
  {
   "cell_type": "code",
   "execution_count": null,
   "metadata": {
    "collapsed": true
   },
   "outputs": [],
   "source": []
  }
 ],
 "metadata": {
  "kernelspec": {
   "display_name": "Python 2",
   "language": "python",
   "name": "python2"
  },
  "language_info": {
   "codemirror_mode": {
    "name": "ipython",
    "version": 2
   },
   "file_extension": ".py",
   "mimetype": "text/x-python",
   "name": "python",
   "nbconvert_exporter": "python",
   "pygments_lexer": "ipython2",
   "version": "2.7.6"
  }
 },
 "nbformat": 4,
 "nbformat_minor": 2
}
