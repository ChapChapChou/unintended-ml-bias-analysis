{
 "cells": [
  {
   "cell_type": "markdown",
   "metadata": {},
   "source": [
    "# Train Toxicity Model"
   ]
  },
  {
   "cell_type": "markdown",
   "metadata": {},
   "source": [
    "This notebook trains a model to detect toxicity in online comments. It uses a CNN architecture for text classification trained on the [Wikipedia Talk Labels: Toxicity dataset](https://figshare.com/articles/Wikipedia_Talk_Labels_Toxicity/4563973) and pre-trained GloVe embeddings which can be found at:\n",
    "http://nlp.stanford.edu/data/glove.6B.zip\n",
    "(source page: http://nlp.stanford.edu/projects/glove/).\n",
    "\n",
    "This model is a modification of [example code](https://github.com/fchollet/keras/blob/master/examples/pretrained_word_embeddings.py) found in the [Keras Github repository](https://github.com/fchollet/keras) and released under an [MIT license](https://github.com/fchollet/keras/blob/master/LICENSE). For further details of this license, find it [online](https://github.com/fchollet/keras/blob/master/LICENSE) or in this repository in the file KERAS_LICENSE. "
   ]
  },
  {
   "cell_type": "markdown",
   "metadata": {},
   "source": [
    "## Usage Instructions\n",
    "(TODO: nthain) - Move to README\n",
    "\n",
    "Prior to running the notebook, you must:\n",
    "\n",
    "* Download the [Wikipedia Talk Labels: Toxicity dataset](https://figshare.com/articles/Wikipedia_Talk_Labels_Toxicity/4563973)\n",
    "* Download pre-trained [GloVe embeddings](http://nlp.stanford.edu/data/glove.6B.zip)\n",
    "* (optional) To skip the training step, you will need to download a model and tokenizer file. We are looking into the appropriate means for distributing these (sometimes large) files."
   ]
  },
  {
   "cell_type": "code",
   "execution_count": 11,
   "metadata": {
    "collapsed": true
   },
   "outputs": [],
   "source": [
    "from model_tool import ToxModel"
   ]
  },
  {
   "cell_type": "markdown",
   "metadata": {},
   "source": [
    "## Load Data"
   ]
  },
  {
   "cell_type": "code",
   "execution_count": 10,
   "metadata": {
    "collapsed": true
   },
   "outputs": [],
   "source": [
    "SPLITS = ['train', 'dev', 'test']\n",
    "\n",
    "wiki = {}\n",
    "debias = {}\n",
    "random = {}\n",
    "for split in SPLITS:\n",
    "    wiki[split] = '../data/wiki_%s.csv' % split\n",
    "    debias[split] = '../data/wiki_debias_%s.csv' % split\n",
    "    random[split] = '../data/wiki_debias_random_%s.csv' % split"
   ]
  },
  {
   "cell_type": "markdown",
   "metadata": {},
   "source": [
    "## Train Models"
   ]
  },
  {
   "cell_type": "markdown",
   "metadata": {},
   "source": [
    "### Wikipedia Model"
   ]
  },
  {
   "cell_type": "code",
   "execution_count": 4,
   "metadata": {},
   "outputs": [
    {
     "name": "stdout",
     "output_type": "stream",
     "text": [
      "Preparing data...\n",
      "Data prepared!\n",
      "Loading embeddings...\n",
      "Embeddings loaded!\n",
      "Building model graph...\n",
      "Training model...\n",
      "Train on 95692 samples, validate on 32128 samples\n",
      "Epoch 1/3\n",
      "95692/95692 [==============================] - 596s - loss: 0.1471 - acc: 0.9477 - val_loss: 0.1052 - val_acc: 0.9615\n",
      "Epoch 2/3\n",
      "95692/95692 [==============================] - 673s - loss: 0.1017 - acc: 0.9637 - val_loss: 0.0991 - val_acc: 0.9635\n",
      "Epoch 3/3\n",
      "95692/95692 [==============================] - 665s - loss: 0.0904 - acc: 0.9673 - val_loss: 0.1160 - val_acc: 0.9640\n",
      "<keras.callbacks.History object at 0x7fedf80cf3d0>\n",
      "Model trained!\n",
      "Saving model...\n",
      "Model saved!\n",
      "CPU times: user 4h 51min 12s, sys: 18min, total: 5h 9min 12s\n",
      "Wall time: 32min 39s\n"
     ]
    }
   ],
   "source": [
    "%%time\n",
    "MODEL_NAME = 'cnn_wiki_tox_v3'\n",
    "wiki_model = ToxModel()\n",
    "wiki_model.train(wiki['train'], wiki['dev'], text_column = 'comment', label_column = 'is_toxic', model_name = MODEL_NAME)"
   ]
  },
  {
   "cell_type": "code",
   "execution_count": 13,
   "metadata": {
    "collapsed": true
   },
   "outputs": [],
   "source": [
    "from keras.preprocessing.sequence import pad_sequences\n",
    "\n",
    "def hack_score(model, texts):\n",
    "    sequences = model.tokenizer.texts_to_sequences(texts)\n",
    "    data = pad_sequences(sequences, maxlen=1000)\n",
    "    return model.predict(data)"
   ]
  },
  {
   "cell_type": "code",
   "execution_count": 24,
   "metadata": {},
   "outputs": [
    {
     "name": "stdout",
     "output_type": "stream",
     "text": [
      "training spooky_orig_v0 2017-10-04 00:21:56.333810\n",
      "Preparing data...\n",
      "Data prepared!\n",
      "Loading embeddings...\n",
      "Embeddings loaded!\n",
      "Building model graph...\n",
      "Training model...\n",
      "Train on 95692 samples, validate on 32128 samples\n",
      "Epoch 1/3\n",
      "95692/95692 [==============================] - 585s - loss: 0.1460 - acc: 0.9479 - val_loss: 0.1030 - val_acc: 0.9617\n",
      "Epoch 2/3\n",
      "95692/95692 [==============================] - 585s - loss: 0.1003 - acc: 0.9640 - val_loss: 0.1362 - val_acc: 0.9546\n",
      "Epoch 3/3\n",
      "95692/95692 [==============================] - 585s - loss: 0.0914 - acc: 0.9678 - val_loss: 0.1176 - val_acc: 0.9645\n",
      "<keras.callbacks.History object at 0x7fb4cd4c7610>\n",
      "Model trained!\n",
      "Saving model...\n",
      "Model saved!\n",
      "training spooky_debias_v0 2017-10-04 00:51:37.893455\n",
      "Preparing data...\n",
      "Data prepared!\n",
      "Loading embeddings...\n",
      "Embeddings loaded!\n",
      "Building model graph...\n",
      "Training model...\n",
      "Train on 99157 samples, validate on 33283 samples\n",
      "Epoch 1/3\n",
      "99157/99157 [==============================] - 607s - loss: 0.1450 - acc: 0.9489 - val_loss: 0.1290 - val_acc: 0.9571\n",
      "Epoch 2/3\n",
      "99157/99157 [==============================] - 637s - loss: 0.1006 - acc: 0.9641 - val_loss: 0.1064 - val_acc: 0.9643\n",
      "Epoch 3/3\n",
      "99157/99157 [==============================] - 727s - loss: 0.0902 - acc: 0.9682 - val_loss: 0.1106 - val_acc: 0.9642\n",
      "<keras.callbacks.History object at 0x7fb4b97d6450>\n",
      "Model trained!\n",
      "Saving model...\n",
      "Model saved!\n",
      "training spooky_random_v0 2017-10-04 01:24:55.685358\n",
      "Preparing data...\n",
      "Data prepared!\n",
      "Loading embeddings...\n",
      "Embeddings loaded!\n",
      "Building model graph...\n",
      "Training model...\n",
      "Train on 99157 samples, validate on 33283 samples\n",
      "Epoch 1/3\n",
      "99157/99157 [==============================] - 725s - loss: 0.1433 - acc: 0.9489 - val_loss: 0.1140 - val_acc: 0.9571\n",
      "Epoch 2/3\n",
      "99157/99157 [==============================] - 677s - loss: 0.0980 - acc: 0.9649 - val_loss: 0.1003 - val_acc: 0.9631\n",
      "Epoch 3/3\n",
      "99157/99157 [==============================] - 671s - loss: 0.0875 - acc: 0.9680 - val_loss: 0.1272 - val_acc: 0.9646\n",
      "<keras.callbacks.History object at 0x7fb32cfba810>\n",
      "Model trained!\n",
      "Saving model...\n",
      "Model saved!\n",
      "training spooky_orig_v1 2017-10-04 01:59:58.437484\n",
      "Preparing data...\n",
      "Data prepared!\n",
      "Loading embeddings...\n",
      "Embeddings loaded!\n",
      "Building model graph...\n",
      "Training model...\n",
      "Train on 95692 samples, validate on 32128 samples\n",
      "Epoch 1/3\n",
      "95692/95692 [==============================] - 680s - loss: 0.1464 - acc: 0.9471 - val_loss: 0.1109 - val_acc: 0.9589\n",
      "Epoch 2/3\n",
      "95692/95692 [==============================] - 668s - loss: 0.1003 - acc: 0.9637 - val_loss: 0.1096 - val_acc: 0.9644\n",
      "Epoch 3/3\n",
      "95692/95692 [==============================] - 639s - loss: 0.0892 - acc: 0.9676 - val_loss: 0.1057 - val_acc: 0.9636\n",
      "<keras.callbacks.History object at 0x7fb310a93610>\n",
      "Model trained!\n",
      "Saving model...\n",
      "Model saved!\n",
      "training spooky_debias_v1 2017-10-04 02:33:36.343433\n",
      "Preparing data...\n",
      "Data prepared!\n",
      "Loading embeddings...\n",
      "Embeddings loaded!\n",
      "Building model graph...\n",
      "Training model...\n",
      "Train on 99157 samples, validate on 33283 samples\n",
      "Epoch 1/3\n",
      "99157/99157 [==============================] - 721s - loss: 0.1447 - acc: 0.9486 - val_loss: 0.1044 - val_acc: 0.9622\n",
      "Epoch 2/3\n",
      "99157/99157 [==============================] - 722s - loss: 0.1002 - acc: 0.9645 - val_loss: 0.1121 - val_acc: 0.9620\n",
      "Epoch 3/3\n",
      "99157/99157 [==============================] - 728s - loss: 0.0888 - acc: 0.9683 - val_loss: 0.1065 - val_acc: 0.9623\n",
      "<keras.callbacks.History object at 0x7fb2e91515d0>\n",
      "Model trained!\n",
      "Saving model...\n",
      "Model saved!\n",
      "training spooky_random_v1 2017-10-04 03:10:16.787705\n",
      "Preparing data...\n",
      "Data prepared!\n",
      "Loading embeddings...\n",
      "Embeddings loaded!\n",
      "Building model graph...\n",
      "Training model...\n",
      "Train on 99157 samples, validate on 33283 samples\n",
      "Epoch 1/3\n",
      "99157/99157 [==============================] - 682s - loss: 0.1417 - acc: 0.9500 - val_loss: 0.0995 - val_acc: 0.9636\n",
      "Epoch 2/3\n",
      "99157/99157 [==============================] - 684s - loss: 0.0986 - acc: 0.9645 - val_loss: 0.1147 - val_acc: 0.9622\n",
      "Epoch 3/3\n",
      "99157/99157 [==============================] - 679s - loss: 0.0889 - acc: 0.9676 - val_loss: 0.1209 - val_acc: 0.9635\n",
      "<keras.callbacks.History object at 0x7fb2e2d54910>\n",
      "Model trained!\n",
      "Saving model...\n",
      "Model saved!\n",
      "training spooky_orig_v2 2017-10-04 03:44:53.956422\n",
      "Preparing data...\n",
      "Data prepared!\n",
      "Loading embeddings...\n",
      "Embeddings loaded!\n",
      "Building model graph...\n",
      "Training model...\n",
      "Train on 95692 samples, validate on 32128 samples\n",
      "Epoch 1/3\n",
      "95692/95692 [==============================] - 701s - loss: 0.1471 - acc: 0.9479 - val_loss: 0.1014 - val_acc: 0.9624\n",
      "Epoch 2/3\n",
      "95692/95692 [==============================] - 696s - loss: 0.1010 - acc: 0.9636 - val_loss: 0.1034 - val_acc: 0.9639\n",
      "Epoch 3/3\n",
      "95692/95692 [==============================] - 698s - loss: 0.0883 - acc: 0.9680 - val_loss: 0.1136 - val_acc: 0.9595\n",
      "<keras.callbacks.History object at 0x7fb2b711e5d0>\n",
      "Model trained!\n",
      "Saving model...\n",
      "Model saved!\n",
      "training spooky_debias_v2 2017-10-04 04:20:20.936277\n",
      "Preparing data...\n",
      "Data prepared!\n",
      "Loading embeddings...\n",
      "Embeddings loaded!\n",
      "Building model graph...\n",
      "Training model...\n",
      "Train on 99157 samples, validate on 33283 samples\n",
      "Epoch 1/3\n",
      "99157/99157 [==============================] - 731s - loss: 0.1439 - acc: 0.9498 - val_loss: 0.1157 - val_acc: 0.9621\n",
      "Epoch 2/3\n",
      "99157/99157 [==============================] - 730s - loss: 0.1012 - acc: 0.9648 - val_loss: 0.1004 - val_acc: 0.9643\n",
      "Epoch 3/3\n",
      "99157/99157 [==============================] - 737s - loss: 0.0904 - acc: 0.9679 - val_loss: 0.1117 - val_acc: 0.9609\n",
      "<keras.callbacks.History object at 0x7fb2852904d0>\n",
      "Model trained!\n",
      "Saving model...\n",
      "Model saved!\n",
      "training spooky_random_v2 2017-10-04 04:57:32.148778\n",
      "Preparing data...\n",
      "Data prepared!\n",
      "Loading embeddings...\n",
      "Embeddings loaded!\n",
      "Building model graph...\n",
      "Training model...\n",
      "Train on 99157 samples, validate on 33283 samples\n",
      "Epoch 1/3\n",
      "99157/99157 [==============================] - 925s - loss: 0.1438 - acc: 0.9499 - val_loss: 0.1109 - val_acc: 0.9624\n",
      "Epoch 2/3\n",
      "99157/99157 [==============================] - 608s - loss: 0.0981 - acc: 0.9651 - val_loss: 0.1044 - val_acc: 0.9625\n",
      "Epoch 3/3\n",
      "99157/99157 [==============================] - 607s - loss: 0.0867 - acc: 0.9689 - val_loss: 0.1057 - val_acc: 0.9622\n",
      "<keras.callbacks.History object at 0x7fb264735dd0>\n",
      "Model trained!\n",
      "Saving model...\n",
      "Model saved!\n",
      "training spooky_orig_v3 2017-10-04 05:33:44.149034\n",
      "Preparing data...\n",
      "Data prepared!\n",
      "Loading embeddings...\n",
      "Embeddings loaded!\n",
      "Building model graph...\n",
      "Training model...\n",
      "Train on 95692 samples, validate on 32128 samples\n",
      "Epoch 1/3\n",
      "95692/95692 [==============================] - 589s - loss: 0.1453 - acc: 0.9488 - val_loss: 0.1020 - val_acc: 0.9624\n",
      "Epoch 2/3\n",
      "95692/95692 [==============================] - 580s - loss: 0.1015 - acc: 0.9637 - val_loss: 0.1036 - val_acc: 0.9641\n",
      "Epoch 3/3\n",
      "95692/95692 [==============================] - 601s - loss: 0.0897 - acc: 0.9680 - val_loss: 0.0987 - val_acc: 0.9649\n",
      "<keras.callbacks.History object at 0x7fb23cf5a5d0>\n",
      "Model trained!\n",
      "Saving model...\n",
      "Model saved!\n",
      "training spooky_debias_v3 2017-10-04 06:03:43.984520\n",
      "Preparing data...\n",
      "Data prepared!\n",
      "Loading embeddings...\n",
      "Embeddings loaded!\n",
      "Building model graph...\n",
      "Training model...\n",
      "Train on 99157 samples, validate on 33283 samples\n",
      "Epoch 1/3\n",
      "99157/99157 [==============================] - 673s - loss: 0.1449 - acc: 0.9494 - val_loss: 0.1049 - val_acc: 0.9633\n",
      "Epoch 2/3\n",
      "99157/99157 [==============================] - 725s - loss: 0.0987 - acc: 0.9646 - val_loss: 0.1048 - val_acc: 0.9645\n",
      "Epoch 3/3\n",
      "99157/99157 [==============================] - 707s - loss: 0.0865 - acc: 0.9682 - val_loss: 0.1046 - val_acc: 0.9655\n",
      "<keras.callbacks.History object at 0x7fb2245bfd90>\n",
      "Model trained!\n",
      "Saving model...\n",
      "Model saved!\n",
      "training spooky_random_v3 2017-10-04 06:39:20.943443\n",
      "Preparing data...\n",
      "Data prepared!\n",
      "Loading embeddings...\n",
      "Embeddings loaded!\n",
      "Building model graph...\n",
      "Training model...\n",
      "Train on 99157 samples, validate on 33283 samples\n",
      "Epoch 1/3\n",
      "99157/99157 [==============================] - 748s - loss: 0.1427 - acc: 0.9484 - val_loss: 0.1023 - val_acc: 0.9625\n",
      "Epoch 2/3\n",
      "99157/99157 [==============================] - 886s - loss: 0.0988 - acc: 0.9648 - val_loss: 0.1011 - val_acc: 0.9641\n",
      "Epoch 3/3\n",
      "99157/99157 [==============================] - 939s - loss: 0.0894 - acc: 0.9682 - val_loss: 0.1165 - val_acc: 0.9634\n",
      "<keras.callbacks.History object at 0x7fb217178210>\n",
      "Model trained!\n",
      "Saving model...\n",
      "Model saved!\n",
      "training spooky_orig_v4 2017-10-04 07:22:49.310211\n",
      "Preparing data...\n",
      "Data prepared!\n",
      "Loading embeddings...\n",
      "Embeddings loaded!\n",
      "Building model graph...\n",
      "Training model...\n",
      "Train on 95692 samples, validate on 32128 samples\n",
      "Epoch 1/3\n",
      "95692/95692 [==============================] - 796s - loss: 0.1477 - acc: 0.9485 - val_loss: 0.1026 - val_acc: 0.9617\n",
      "Epoch 2/3\n",
      "95692/95692 [==============================] - 848s - loss: 0.1008 - acc: 0.9635 - val_loss: 0.1113 - val_acc: 0.9614\n",
      "Epoch 3/3\n",
      "95692/95692 [==============================] - 704s - loss: 0.0910 - acc: 0.9674 - val_loss: 0.1002 - val_acc: 0.9648\n",
      "<keras.callbacks.History object at 0x7fb1f6e5ee90>\n",
      "Model trained!\n",
      "Saving model...\n",
      "Model saved!\n",
      "training spooky_debias_v4 2017-10-04 08:02:29.707528\n",
      "Preparing data...\n",
      "Data prepared!\n",
      "Loading embeddings...\n",
      "Embeddings loaded!\n",
      "Building model graph...\n",
      "Training model...\n",
      "Train on 99157 samples, validate on 33283 samples\n",
      "Epoch 1/3\n",
      "99157/99157 [==============================] - 1119s - loss: 0.1408 - acc: 0.9511 - val_loss: 0.1166 - val_acc: 0.9607\n",
      "Epoch 2/3\n",
      "99157/99157 [==============================] - 1278s - loss: 0.1001 - acc: 0.9646 - val_loss: 0.0991 - val_acc: 0.9642\n",
      "Epoch 3/3\n",
      "99157/99157 [==============================] - 1126s - loss: 0.0879 - acc: 0.9678 - val_loss: 0.1293 - val_acc: 0.9637\n",
      "<keras.callbacks.History object at 0x7fb1bd3242d0>\n",
      "Model trained!\n",
      "Saving model...\n",
      "Model saved!\n",
      "training spooky_random_v4 2017-10-04 09:01:47.002383\n",
      "Preparing data...\n",
      "Data prepared!\n",
      "Loading embeddings...\n",
      "Embeddings loaded!\n",
      "Building model graph...\n",
      "Training model...\n",
      "Train on 99157 samples, validate on 33283 samples\n",
      "Epoch 1/3\n",
      "99157/99157 [==============================] - 1173s - loss: 0.1430 - acc: 0.9488 - val_loss: 0.1034 - val_acc: 0.9618\n",
      "Epoch 2/3\n",
      "99157/99157 [==============================] - 1068s - loss: 0.0975 - acc: 0.9651 - val_loss: 0.1113 - val_acc: 0.9638\n",
      "Epoch 3/3\n",
      "99157/99157 [==============================] - 1248s - loss: 0.0861 - acc: 0.9688 - val_loss: 0.1035 - val_acc: 0.9643\n",
      "<keras.callbacks.History object at 0x7fb1a4d98710>\n",
      "Model trained!\n",
      "Saving model...\n",
      "Model saved!\n",
      "training spooky_orig_v5 2017-10-04 10:00:32.854873\n",
      "Preparing data...\n",
      "Data prepared!\n",
      "Loading embeddings...\n",
      "Embeddings loaded!\n",
      "Building model graph...\n",
      "Training model...\n",
      "Train on 95692 samples, validate on 32128 samples\n",
      "Epoch 1/3\n",
      "95692/95692 [==============================] - 1135s - loss: 0.1450 - acc: 0.9487 - val_loss: 0.1085 - val_acc: 0.9596\n",
      "Epoch 2/3\n",
      "95692/95692 [==============================] - 1043s - loss: 0.1012 - acc: 0.9637 - val_loss: 0.1002 - val_acc: 0.9643\n",
      "Epoch 3/3\n",
      "95692/95692 [==============================] - 1153s - loss: 0.0906 - acc: 0.9679 - val_loss: 0.1147 - val_acc: 0.9636\n",
      "<keras.callbacks.History object at 0x7fb196d6e4d0>\n",
      "Model trained!\n",
      "Saving model...\n",
      "Model saved!\n",
      "training spooky_debias_v5 2017-10-04 10:57:25.938144\n",
      "Preparing data...\n",
      "Data prepared!\n",
      "Loading embeddings...\n",
      "Embeddings loaded!\n",
      "Building model graph...\n",
      "Training model...\n",
      "Train on 99157 samples, validate on 33283 samples\n",
      "Epoch 1/3\n",
      "79104/99157 [======================>.......] - ETA: 123s - loss: 0.1550 - acc: 0.9460"
     ]
    },
    {
     "ename": "KeyboardInterrupt",
     "evalue": "",
     "output_type": "error",
     "traceback": [
      "\u001b[0;31m---------------------------------------------------------------------------\u001b[0m",
      "\u001b[0;31mKeyboardInterrupt\u001b[0m                         Traceback (most recent call last)",
      "\u001b[0;32m<ipython-input-24-5bf516b16658>\u001b[0m in \u001b[0;36m<module>\u001b[0;34m()\u001b[0m\n\u001b[0;32m----> 1\u001b[0;31m \u001b[0mget_ipython\u001b[0m\u001b[0;34m(\u001b[0m\u001b[0;34m)\u001b[0m\u001b[0;34m.\u001b[0m\u001b[0mrun_cell_magic\u001b[0m\u001b[0;34m(\u001b[0m\u001b[0;34mu'time'\u001b[0m\u001b[0;34m,\u001b[0m \u001b[0;34mu''\u001b[0m\u001b[0;34m,\u001b[0m \u001b[0;34mu\"\\nfrom __future__ import absolute_import\\nfrom __future__ import division\\nfrom __future__ import print_function\\n\\nimport datetime\\n\\n\\nwiki['name'] = 'orig'\\ndebias['name'] = 'debias'\\nrandom['name'] = 'random'\\n\\ntest_results = {}\\nspooky_models = []\\n\\nfor i in xrange(6):\\n    for m in [wiki, debias, random]:\\n        name = 'spooky_{}_v{}'.format(m['name'], i)\\n        print('training', name, datetime.datetime.now())\\n        model = ToxModel()\\n        model.train(m['train'], m['dev'], text_column='comment', label_column='is_toxic', model_name=name)\\n        spooky_models.append((name, model))\"\u001b[0m\u001b[0;34m)\u001b[0m\u001b[0;34m\u001b[0m\u001b[0m\n\u001b[0m",
      "\u001b[0;32m/usr/local/google/home/jetpack/src/bias_analysis_convai/virtualenv/lib/python2.7/site-packages/IPython/core/interactiveshell.pyc\u001b[0m in \u001b[0;36mrun_cell_magic\u001b[0;34m(self, magic_name, line, cell)\u001b[0m\n\u001b[1;32m   2115\u001b[0m             \u001b[0mmagic_arg_s\u001b[0m \u001b[0;34m=\u001b[0m \u001b[0mself\u001b[0m\u001b[0;34m.\u001b[0m\u001b[0mvar_expand\u001b[0m\u001b[0;34m(\u001b[0m\u001b[0mline\u001b[0m\u001b[0;34m,\u001b[0m \u001b[0mstack_depth\u001b[0m\u001b[0;34m)\u001b[0m\u001b[0;34m\u001b[0m\u001b[0m\n\u001b[1;32m   2116\u001b[0m             \u001b[0;32mwith\u001b[0m \u001b[0mself\u001b[0m\u001b[0;34m.\u001b[0m\u001b[0mbuiltin_trap\u001b[0m\u001b[0;34m:\u001b[0m\u001b[0;34m\u001b[0m\u001b[0m\n\u001b[0;32m-> 2117\u001b[0;31m                 \u001b[0mresult\u001b[0m \u001b[0;34m=\u001b[0m \u001b[0mfn\u001b[0m\u001b[0;34m(\u001b[0m\u001b[0mmagic_arg_s\u001b[0m\u001b[0;34m,\u001b[0m \u001b[0mcell\u001b[0m\u001b[0;34m)\u001b[0m\u001b[0;34m\u001b[0m\u001b[0m\n\u001b[0m\u001b[1;32m   2118\u001b[0m             \u001b[0;32mreturn\u001b[0m \u001b[0mresult\u001b[0m\u001b[0;34m\u001b[0m\u001b[0m\n\u001b[1;32m   2119\u001b[0m \u001b[0;34m\u001b[0m\u001b[0m\n",
      "\u001b[0;32m<decorator-gen-60>\u001b[0m in \u001b[0;36mtime\u001b[0;34m(self, line, cell, local_ns)\u001b[0m\n",
      "\u001b[0;32m/usr/local/google/home/jetpack/src/bias_analysis_convai/virtualenv/lib/python2.7/site-packages/IPython/core/magic.pyc\u001b[0m in \u001b[0;36m<lambda>\u001b[0;34m(f, *a, **k)\u001b[0m\n\u001b[1;32m    186\u001b[0m     \u001b[0;31m# but it's overkill for just that one bit of state.\u001b[0m\u001b[0;34m\u001b[0m\u001b[0;34m\u001b[0m\u001b[0m\n\u001b[1;32m    187\u001b[0m     \u001b[0;32mdef\u001b[0m \u001b[0mmagic_deco\u001b[0m\u001b[0;34m(\u001b[0m\u001b[0marg\u001b[0m\u001b[0;34m)\u001b[0m\u001b[0;34m:\u001b[0m\u001b[0;34m\u001b[0m\u001b[0m\n\u001b[0;32m--> 188\u001b[0;31m         \u001b[0mcall\u001b[0m \u001b[0;34m=\u001b[0m \u001b[0;32mlambda\u001b[0m \u001b[0mf\u001b[0m\u001b[0;34m,\u001b[0m \u001b[0;34m*\u001b[0m\u001b[0ma\u001b[0m\u001b[0;34m,\u001b[0m \u001b[0;34m**\u001b[0m\u001b[0mk\u001b[0m\u001b[0;34m:\u001b[0m \u001b[0mf\u001b[0m\u001b[0;34m(\u001b[0m\u001b[0;34m*\u001b[0m\u001b[0ma\u001b[0m\u001b[0;34m,\u001b[0m \u001b[0;34m**\u001b[0m\u001b[0mk\u001b[0m\u001b[0;34m)\u001b[0m\u001b[0;34m\u001b[0m\u001b[0m\n\u001b[0m\u001b[1;32m    189\u001b[0m \u001b[0;34m\u001b[0m\u001b[0m\n\u001b[1;32m    190\u001b[0m         \u001b[0;32mif\u001b[0m \u001b[0mcallable\u001b[0m\u001b[0;34m(\u001b[0m\u001b[0marg\u001b[0m\u001b[0;34m)\u001b[0m\u001b[0;34m:\u001b[0m\u001b[0;34m\u001b[0m\u001b[0m\n",
      "\u001b[0;32m/usr/local/google/home/jetpack/src/bias_analysis_convai/virtualenv/lib/python2.7/site-packages/IPython/core/magics/execution.pyc\u001b[0m in \u001b[0;36mtime\u001b[0;34m(self, line, cell, local_ns)\u001b[0m\n\u001b[1;32m   1183\u001b[0m         \u001b[0;32melse\u001b[0m\u001b[0;34m:\u001b[0m\u001b[0;34m\u001b[0m\u001b[0m\n\u001b[1;32m   1184\u001b[0m             \u001b[0mst\u001b[0m \u001b[0;34m=\u001b[0m \u001b[0mclock2\u001b[0m\u001b[0;34m(\u001b[0m\u001b[0;34m)\u001b[0m\u001b[0;34m\u001b[0m\u001b[0m\n\u001b[0;32m-> 1185\u001b[0;31m             \u001b[0;32mexec\u001b[0m\u001b[0;34m(\u001b[0m\u001b[0mcode\u001b[0m\u001b[0;34m,\u001b[0m \u001b[0mglob\u001b[0m\u001b[0;34m,\u001b[0m \u001b[0mlocal_ns\u001b[0m\u001b[0;34m)\u001b[0m\u001b[0;34m\u001b[0m\u001b[0m\n\u001b[0m\u001b[1;32m   1186\u001b[0m             \u001b[0mend\u001b[0m \u001b[0;34m=\u001b[0m \u001b[0mclock2\u001b[0m\u001b[0;34m(\u001b[0m\u001b[0;34m)\u001b[0m\u001b[0;34m\u001b[0m\u001b[0m\n\u001b[1;32m   1187\u001b[0m             \u001b[0mout\u001b[0m \u001b[0;34m=\u001b[0m \u001b[0mNone\u001b[0m\u001b[0;34m\u001b[0m\u001b[0m\n",
      "\u001b[0;32m<timed exec>\u001b[0m in \u001b[0;36m<module>\u001b[0;34m()\u001b[0m\n",
      "\u001b[0;32m/usr/local/google/home/jetpack/src/bias_analysis_convai/src/model_tool.pyc\u001b[0m in \u001b[0;36mtrain\u001b[0;34m(self, training_data_path, validation_data_path, text_column, label_column, model_name)\u001b[0m\n\u001b[1;32m    131\u001b[0m           \u001b[0mbatch_size\u001b[0m\u001b[0;34m=\u001b[0m\u001b[0mBATCH_SIZE\u001b[0m\u001b[0;34m,\u001b[0m\u001b[0;34m\u001b[0m\u001b[0m\n\u001b[1;32m    132\u001b[0m           \u001b[0mepochs\u001b[0m\u001b[0;34m=\u001b[0m\u001b[0mEPOCHS\u001b[0m\u001b[0;34m,\u001b[0m\u001b[0;34m\u001b[0m\u001b[0m\n\u001b[0;32m--> 133\u001b[0;31m           validation_data=(valid_data, valid_labels)))\n\u001b[0m\u001b[1;32m    134\u001b[0m         \u001b[0;32mprint\u001b[0m\u001b[0;34m(\u001b[0m\u001b[0;34m'Model trained!'\u001b[0m\u001b[0;34m)\u001b[0m\u001b[0;34m\u001b[0m\u001b[0m\n\u001b[1;32m    135\u001b[0m         \u001b[0;32mprint\u001b[0m\u001b[0;34m(\u001b[0m\u001b[0;34m'Saving model...'\u001b[0m\u001b[0;34m)\u001b[0m\u001b[0;34m\u001b[0m\u001b[0m\n",
      "\u001b[0;32m/usr/local/google/home/jetpack/src/bias_analysis_convai/virtualenv/lib/python2.7/site-packages/keras/engine/training.pyc\u001b[0m in \u001b[0;36mfit\u001b[0;34m(self, x, y, batch_size, epochs, verbose, callbacks, validation_split, validation_data, shuffle, class_weight, sample_weight, initial_epoch, steps_per_epoch, validation_steps, **kwargs)\u001b[0m\n\u001b[1;32m   1596\u001b[0m                               \u001b[0minitial_epoch\u001b[0m\u001b[0;34m=\u001b[0m\u001b[0minitial_epoch\u001b[0m\u001b[0;34m,\u001b[0m\u001b[0;34m\u001b[0m\u001b[0m\n\u001b[1;32m   1597\u001b[0m                               \u001b[0msteps_per_epoch\u001b[0m\u001b[0;34m=\u001b[0m\u001b[0msteps_per_epoch\u001b[0m\u001b[0;34m,\u001b[0m\u001b[0;34m\u001b[0m\u001b[0m\n\u001b[0;32m-> 1598\u001b[0;31m                               validation_steps=validation_steps)\n\u001b[0m\u001b[1;32m   1599\u001b[0m \u001b[0;34m\u001b[0m\u001b[0m\n\u001b[1;32m   1600\u001b[0m     def evaluate(self, x, y,\n",
      "\u001b[0;32m/usr/local/google/home/jetpack/src/bias_analysis_convai/virtualenv/lib/python2.7/site-packages/keras/engine/training.pyc\u001b[0m in \u001b[0;36m_fit_loop\u001b[0;34m(self, f, ins, out_labels, batch_size, epochs, verbose, callbacks, val_f, val_ins, shuffle, callback_metrics, initial_epoch, steps_per_epoch, validation_steps)\u001b[0m\n\u001b[1;32m   1181\u001b[0m                     \u001b[0mbatch_logs\u001b[0m\u001b[0;34m[\u001b[0m\u001b[0;34m'size'\u001b[0m\u001b[0;34m]\u001b[0m \u001b[0;34m=\u001b[0m \u001b[0mlen\u001b[0m\u001b[0;34m(\u001b[0m\u001b[0mbatch_ids\u001b[0m\u001b[0;34m)\u001b[0m\u001b[0;34m\u001b[0m\u001b[0m\n\u001b[1;32m   1182\u001b[0m                     \u001b[0mcallbacks\u001b[0m\u001b[0;34m.\u001b[0m\u001b[0mon_batch_begin\u001b[0m\u001b[0;34m(\u001b[0m\u001b[0mbatch_index\u001b[0m\u001b[0;34m,\u001b[0m \u001b[0mbatch_logs\u001b[0m\u001b[0;34m)\u001b[0m\u001b[0;34m\u001b[0m\u001b[0m\n\u001b[0;32m-> 1183\u001b[0;31m                     \u001b[0mouts\u001b[0m \u001b[0;34m=\u001b[0m \u001b[0mf\u001b[0m\u001b[0;34m(\u001b[0m\u001b[0mins_batch\u001b[0m\u001b[0;34m)\u001b[0m\u001b[0;34m\u001b[0m\u001b[0m\n\u001b[0m\u001b[1;32m   1184\u001b[0m                     \u001b[0;32mif\u001b[0m \u001b[0;32mnot\u001b[0m \u001b[0misinstance\u001b[0m\u001b[0;34m(\u001b[0m\u001b[0mouts\u001b[0m\u001b[0;34m,\u001b[0m \u001b[0mlist\u001b[0m\u001b[0;34m)\u001b[0m\u001b[0;34m:\u001b[0m\u001b[0;34m\u001b[0m\u001b[0m\n\u001b[1;32m   1185\u001b[0m                         \u001b[0mouts\u001b[0m \u001b[0;34m=\u001b[0m \u001b[0;34m[\u001b[0m\u001b[0mouts\u001b[0m\u001b[0;34m]\u001b[0m\u001b[0;34m\u001b[0m\u001b[0m\n",
      "\u001b[0;32m/usr/local/google/home/jetpack/src/bias_analysis_convai/virtualenv/lib/python2.7/site-packages/keras/backend/tensorflow_backend.pyc\u001b[0m in \u001b[0;36m__call__\u001b[0;34m(self, inputs)\u001b[0m\n\u001b[1;32m   2271\u001b[0m         updated = session.run(self.outputs + [self.updates_op],\n\u001b[1;32m   2272\u001b[0m                               \u001b[0mfeed_dict\u001b[0m\u001b[0;34m=\u001b[0m\u001b[0mfeed_dict\u001b[0m\u001b[0;34m,\u001b[0m\u001b[0;34m\u001b[0m\u001b[0m\n\u001b[0;32m-> 2273\u001b[0;31m                               **self.session_kwargs)\n\u001b[0m\u001b[1;32m   2274\u001b[0m         \u001b[0;32mreturn\u001b[0m \u001b[0mupdated\u001b[0m\u001b[0;34m[\u001b[0m\u001b[0;34m:\u001b[0m\u001b[0mlen\u001b[0m\u001b[0;34m(\u001b[0m\u001b[0mself\u001b[0m\u001b[0;34m.\u001b[0m\u001b[0moutputs\u001b[0m\u001b[0;34m)\u001b[0m\u001b[0;34m]\u001b[0m\u001b[0;34m\u001b[0m\u001b[0m\n\u001b[1;32m   2275\u001b[0m \u001b[0;34m\u001b[0m\u001b[0m\n",
      "\u001b[0;32m/usr/local/google/home/jetpack/src/bias_analysis_convai/virtualenv/lib/python2.7/site-packages/tensorflow/python/client/session.pyc\u001b[0m in \u001b[0;36mrun\u001b[0;34m(self, fetches, feed_dict, options, run_metadata)\u001b[0m\n\u001b[1;32m    893\u001b[0m     \u001b[0;32mtry\u001b[0m\u001b[0;34m:\u001b[0m\u001b[0;34m\u001b[0m\u001b[0m\n\u001b[1;32m    894\u001b[0m       result = self._run(None, fetches, feed_dict, options_ptr,\n\u001b[0;32m--> 895\u001b[0;31m                          run_metadata_ptr)\n\u001b[0m\u001b[1;32m    896\u001b[0m       \u001b[0;32mif\u001b[0m \u001b[0mrun_metadata\u001b[0m\u001b[0;34m:\u001b[0m\u001b[0;34m\u001b[0m\u001b[0m\n\u001b[1;32m    897\u001b[0m         \u001b[0mproto_data\u001b[0m \u001b[0;34m=\u001b[0m \u001b[0mtf_session\u001b[0m\u001b[0;34m.\u001b[0m\u001b[0mTF_GetBuffer\u001b[0m\u001b[0;34m(\u001b[0m\u001b[0mrun_metadata_ptr\u001b[0m\u001b[0;34m)\u001b[0m\u001b[0;34m\u001b[0m\u001b[0m\n",
      "\u001b[0;32m/usr/local/google/home/jetpack/src/bias_analysis_convai/virtualenv/lib/python2.7/site-packages/tensorflow/python/client/session.pyc\u001b[0m in \u001b[0;36m_run\u001b[0;34m(self, handle, fetches, feed_dict, options, run_metadata)\u001b[0m\n\u001b[1;32m   1122\u001b[0m     \u001b[0;32mif\u001b[0m \u001b[0mfinal_fetches\u001b[0m \u001b[0;32mor\u001b[0m \u001b[0mfinal_targets\u001b[0m \u001b[0;32mor\u001b[0m \u001b[0;34m(\u001b[0m\u001b[0mhandle\u001b[0m \u001b[0;32mand\u001b[0m \u001b[0mfeed_dict_tensor\u001b[0m\u001b[0;34m)\u001b[0m\u001b[0;34m:\u001b[0m\u001b[0;34m\u001b[0m\u001b[0m\n\u001b[1;32m   1123\u001b[0m       results = self._do_run(handle, final_targets, final_fetches,\n\u001b[0;32m-> 1124\u001b[0;31m                              feed_dict_tensor, options, run_metadata)\n\u001b[0m\u001b[1;32m   1125\u001b[0m     \u001b[0;32melse\u001b[0m\u001b[0;34m:\u001b[0m\u001b[0;34m\u001b[0m\u001b[0m\n\u001b[1;32m   1126\u001b[0m       \u001b[0mresults\u001b[0m \u001b[0;34m=\u001b[0m \u001b[0;34m[\u001b[0m\u001b[0;34m]\u001b[0m\u001b[0;34m\u001b[0m\u001b[0m\n",
      "\u001b[0;32m/usr/local/google/home/jetpack/src/bias_analysis_convai/virtualenv/lib/python2.7/site-packages/tensorflow/python/client/session.pyc\u001b[0m in \u001b[0;36m_do_run\u001b[0;34m(self, handle, target_list, fetch_list, feed_dict, options, run_metadata)\u001b[0m\n\u001b[1;32m   1319\u001b[0m     \u001b[0;32mif\u001b[0m \u001b[0mhandle\u001b[0m \u001b[0;32mis\u001b[0m \u001b[0mNone\u001b[0m\u001b[0;34m:\u001b[0m\u001b[0;34m\u001b[0m\u001b[0m\n\u001b[1;32m   1320\u001b[0m       return self._do_call(_run_fn, self._session, feeds, fetches, targets,\n\u001b[0;32m-> 1321\u001b[0;31m                            options, run_metadata)\n\u001b[0m\u001b[1;32m   1322\u001b[0m     \u001b[0;32melse\u001b[0m\u001b[0;34m:\u001b[0m\u001b[0;34m\u001b[0m\u001b[0m\n\u001b[1;32m   1323\u001b[0m       \u001b[0;32mreturn\u001b[0m \u001b[0mself\u001b[0m\u001b[0;34m.\u001b[0m\u001b[0m_do_call\u001b[0m\u001b[0;34m(\u001b[0m\u001b[0m_prun_fn\u001b[0m\u001b[0;34m,\u001b[0m \u001b[0mself\u001b[0m\u001b[0;34m.\u001b[0m\u001b[0m_session\u001b[0m\u001b[0;34m,\u001b[0m \u001b[0mhandle\u001b[0m\u001b[0;34m,\u001b[0m \u001b[0mfeeds\u001b[0m\u001b[0;34m,\u001b[0m \u001b[0mfetches\u001b[0m\u001b[0;34m)\u001b[0m\u001b[0;34m\u001b[0m\u001b[0m\n",
      "\u001b[0;32m/usr/local/google/home/jetpack/src/bias_analysis_convai/virtualenv/lib/python2.7/site-packages/tensorflow/python/client/session.pyc\u001b[0m in \u001b[0;36m_do_call\u001b[0;34m(self, fn, *args)\u001b[0m\n\u001b[1;32m   1325\u001b[0m   \u001b[0;32mdef\u001b[0m \u001b[0m_do_call\u001b[0m\u001b[0;34m(\u001b[0m\u001b[0mself\u001b[0m\u001b[0;34m,\u001b[0m \u001b[0mfn\u001b[0m\u001b[0;34m,\u001b[0m \u001b[0;34m*\u001b[0m\u001b[0margs\u001b[0m\u001b[0;34m)\u001b[0m\u001b[0;34m:\u001b[0m\u001b[0;34m\u001b[0m\u001b[0m\n\u001b[1;32m   1326\u001b[0m     \u001b[0;32mtry\u001b[0m\u001b[0;34m:\u001b[0m\u001b[0;34m\u001b[0m\u001b[0m\n\u001b[0;32m-> 1327\u001b[0;31m       \u001b[0;32mreturn\u001b[0m \u001b[0mfn\u001b[0m\u001b[0;34m(\u001b[0m\u001b[0;34m*\u001b[0m\u001b[0margs\u001b[0m\u001b[0;34m)\u001b[0m\u001b[0;34m\u001b[0m\u001b[0m\n\u001b[0m\u001b[1;32m   1328\u001b[0m     \u001b[0;32mexcept\u001b[0m \u001b[0merrors\u001b[0m\u001b[0;34m.\u001b[0m\u001b[0mOpError\u001b[0m \u001b[0;32mas\u001b[0m \u001b[0me\u001b[0m\u001b[0;34m:\u001b[0m\u001b[0;34m\u001b[0m\u001b[0m\n\u001b[1;32m   1329\u001b[0m       \u001b[0mmessage\u001b[0m \u001b[0;34m=\u001b[0m \u001b[0mcompat\u001b[0m\u001b[0;34m.\u001b[0m\u001b[0mas_text\u001b[0m\u001b[0;34m(\u001b[0m\u001b[0me\u001b[0m\u001b[0;34m.\u001b[0m\u001b[0mmessage\u001b[0m\u001b[0;34m)\u001b[0m\u001b[0;34m\u001b[0m\u001b[0m\n",
      "\u001b[0;32m/usr/local/google/home/jetpack/src/bias_analysis_convai/virtualenv/lib/python2.7/site-packages/tensorflow/python/client/session.pyc\u001b[0m in \u001b[0;36m_run_fn\u001b[0;34m(session, feed_dict, fetch_list, target_list, options, run_metadata)\u001b[0m\n\u001b[1;32m   1304\u001b[0m           return tf_session.TF_Run(session, options,\n\u001b[1;32m   1305\u001b[0m                                    \u001b[0mfeed_dict\u001b[0m\u001b[0;34m,\u001b[0m \u001b[0mfetch_list\u001b[0m\u001b[0;34m,\u001b[0m \u001b[0mtarget_list\u001b[0m\u001b[0;34m,\u001b[0m\u001b[0;34m\u001b[0m\u001b[0m\n\u001b[0;32m-> 1306\u001b[0;31m                                    status, run_metadata)\n\u001b[0m\u001b[1;32m   1307\u001b[0m \u001b[0;34m\u001b[0m\u001b[0m\n\u001b[1;32m   1308\u001b[0m     \u001b[0;32mdef\u001b[0m \u001b[0m_prun_fn\u001b[0m\u001b[0;34m(\u001b[0m\u001b[0msession\u001b[0m\u001b[0;34m,\u001b[0m \u001b[0mhandle\u001b[0m\u001b[0;34m,\u001b[0m \u001b[0mfeed_dict\u001b[0m\u001b[0;34m,\u001b[0m \u001b[0mfetch_list\u001b[0m\u001b[0;34m)\u001b[0m\u001b[0;34m:\u001b[0m\u001b[0;34m\u001b[0m\u001b[0m\n",
      "\u001b[0;31mKeyboardInterrupt\u001b[0m: "
     ]
    }
   ],
   "source": [
    "%%time\n",
    "\n",
    "from __future__ import absolute_import\n",
    "from __future__ import division\n",
    "from __future__ import print_function\n",
    "\n",
    "import datetime\n",
    "\n",
    "\n",
    "wiki['name'] = 'orig'\n",
    "debias['name'] = 'debias'\n",
    "random['name'] = 'random'\n",
    "\n",
    "test_results = {}\n",
    "spooky_models = []\n",
    "\n",
    "for i in xrange(6):\n",
    "    for m in [wiki, debias, random]:\n",
    "        name = 'spooky_{}_v{}'.format(m['name'], i)\n",
    "        print('training', name, datetime.datetime.now())\n",
    "        model = ToxModel()\n",
    "        model.train(m['train'], m['dev'], text_column='comment', label_column='is_toxic', model_name=name)\n",
    "        spooky_models.append((name, model))"
   ]
  },
  {
   "cell_type": "code",
   "execution_count": 26,
   "metadata": {
    "collapsed": true
   },
   "outputs": [],
   "source": [
    "spooky_models_last = spooky_models[-1]"
   ]
  },
  {
   "cell_type": "code",
   "execution_count": 28,
   "metadata": {},
   "outputs": [
    {
     "data": {
      "text/plain": [
       "('spooky_orig_v5', <model_tool.ToxModel instance at 0x7fb1a46cc758>)"
      ]
     },
     "execution_count": 28,
     "metadata": {},
     "output_type": "execute_result"
    }
   ],
   "source": [
    "spooky_models_last"
   ]
  },
  {
   "cell_type": "code",
   "execution_count": 29,
   "metadata": {},
   "outputs": [
    {
     "data": {
      "text/plain": [
       "[('spooky_orig_v0', <model_tool.ToxModel instance at 0x7fb4f6ef2e18>),\n",
       " ('spooky_debias_v0', <model_tool.ToxModel instance at 0x7fb4cf07c878>),\n",
       " ('spooky_random_v0', <model_tool.ToxModel instance at 0x7fb4b93243f8>),\n",
       " ('spooky_orig_v1', <model_tool.ToxModel instance at 0x7fb4cbb9fdd0>),\n",
       " ('spooky_debias_v1', <model_tool.ToxModel instance at 0x7fb310bbf368>),\n",
       " ('spooky_random_v1', <model_tool.ToxModel instance at 0x7fb2e8f48e60>),\n",
       " ('spooky_orig_v2', <model_tool.ToxModel instance at 0x7fb2e32b1128>),\n",
       " ('spooky_debias_v2', <model_tool.ToxModel instance at 0x7fb2b4d6b3f8>),\n",
       " ('spooky_random_v2', <model_tool.ToxModel instance at 0x7fb27cb1e560>),\n",
       " ('spooky_orig_v3', <model_tool.ToxModel instance at 0x7fb2648eb560>),\n",
       " ('spooky_debias_v3', <model_tool.ToxModel instance at 0x7fb23cd54290>),\n",
       " ('spooky_random_v3', <model_tool.ToxModel instance at 0x7fb22496bc20>),\n",
       " ('spooky_orig_v4', <model_tool.ToxModel instance at 0x7fb216ce3290>),\n",
       " ('spooky_debias_v4', <model_tool.ToxModel instance at 0x7fb1f4a1d758>),\n",
       " ('spooky_random_v4', <model_tool.ToxModel instance at 0x7fb1bceaf6c8>)]"
      ]
     },
     "execution_count": 29,
     "metadata": {},
     "output_type": "execute_result"
    }
   ],
   "source": [
    "spooky_models2 = spooky_models[:-1]\n",
    "spooky_models2"
   ]
  },
  {
   "cell_type": "code",
   "execution_count": 36,
   "metadata": {},
   "outputs": [
    {
     "ename": "TypeError",
     "evalue": "string indices must be integers, not str",
     "output_type": "error",
     "traceback": [
      "\u001b[0;31m---------------------------------------------------------------------------\u001b[0m",
      "\u001b[0;31mTypeError\u001b[0m                                 Traceback (most recent call last)",
      "\u001b[0;32m<ipython-input-36-395c71611abf>\u001b[0m in \u001b[0;36m<module>\u001b[0;34m()\u001b[0m\n\u001b[0;32m----> 1\u001b[0;31m \u001b[0mhack_score\u001b[0m\u001b[0;34m(\u001b[0m\u001b[0mspooky_models2\u001b[0m\u001b[0;34m[\u001b[0m\u001b[0;36m0\u001b[0m\u001b[0;34m]\u001b[0m\u001b[0;34m[\u001b[0m\u001b[0;36m1\u001b[0m\u001b[0;34m]\u001b[0m\u001b[0;34m,\u001b[0m\u001b[0mwiki\u001b[0m\u001b[0;34m[\u001b[0m\u001b[0;34m'test'\u001b[0m\u001b[0;34m]\u001b[0m\u001b[0;34m[\u001b[0m\u001b[0;34m'comment'\u001b[0m\u001b[0;34m]\u001b[0m\u001b[0;34m)\u001b[0m\u001b[0;34m\u001b[0m\u001b[0m\n\u001b[0m",
      "\u001b[0;31mTypeError\u001b[0m: string indices must be integers, not str"
     ]
    }
   ],
   "source": [
    "hack_score(spooky_models2[0][1],wiki['test']['comment'])"
   ]
  },
  {
   "cell_type": "code",
   "execution_count": 37,
   "metadata": {},
   "outputs": [
    {
     "data": {
      "text/plain": [
       "'../data/wiki_test.csv'"
      ]
     },
     "execution_count": 37,
     "metadata": {},
     "output_type": "execute_result"
    }
   ],
   "source": [
    "wiki['test']"
   ]
  },
  {
   "cell_type": "code",
   "execution_count": 39,
   "metadata": {},
   "outputs": [
    {
     "name": "stdout",
     "output_type": "stream",
     "text": [
      "scoring 0 spooky_orig_v0 2017-10-04 11:12:12.684036\n",
      "scoring 0 spooky_debias_v0 2017-10-04 11:13:42.611486\n",
      "scoring 0 spooky_random_v0 2017-10-04 11:15:38.811669\n",
      "scoring 0 spooky_orig_v1 2017-10-04 11:17:07.660048\n",
      "scoring 0 spooky_debias_v1 2017-10-04 11:18:52.076721\n",
      "scoring 0 spooky_random_v1 2017-10-04 11:20:48.096026\n",
      "scoring 0 spooky_orig_v2 2017-10-04 11:22:19.801965\n",
      "scoring 0 spooky_debias_v2 2017-10-04 11:23:49.042078\n",
      "scoring 0 spooky_random_v2 2017-10-04 11:27:02.968241\n",
      "scoring 0 spooky_orig_v3 2017-10-04 11:28:33.812361\n",
      "scoring 0 spooky_debias_v3 2017-10-04 11:30:04.218309\n",
      "scoring 0 spooky_random_v3 2017-10-04 11:32:04.785935\n",
      "scoring 0 spooky_orig_v4 2017-10-04 11:33:34.530306\n",
      "scoring 0 spooky_debias_v4 2017-10-04 11:35:04.777843\n",
      "scoring 0 spooky_random_v4 2017-10-04 11:38:03.601047\n",
      "scoring 1 spooky_orig_v0 2017-10-04 11:42:31.448177\n"
     ]
    },
    {
     "ename": "KeyboardInterrupt",
     "evalue": "",
     "output_type": "error",
     "traceback": [
      "\u001b[0;31m---------------------------------------------------------------------------\u001b[0m",
      "\u001b[0;31mKeyboardInterrupt\u001b[0m                         Traceback (most recent call last)",
      "\u001b[0;32m<ipython-input-39-367cc9d709b5>\u001b[0m in \u001b[0;36m<module>\u001b[0;34m()\u001b[0m\n\u001b[0;32m----> 1\u001b[0;31m \u001b[0mget_ipython\u001b[0m\u001b[0;34m(\u001b[0m\u001b[0;34m)\u001b[0m\u001b[0;34m.\u001b[0m\u001b[0mrun_cell_magic\u001b[0m\u001b[0;34m(\u001b[0m\u001b[0;34mu'time'\u001b[0m\u001b[0;34m,\u001b[0m \u001b[0;34mu''\u001b[0m\u001b[0;34m,\u001b[0m \u001b[0;34mu\"\\nimport pandas as pd\\n\\ntest_sets = [pd.read_csv(path) for path in [wiki['test'], debias['test'], random['test']]]\\n\\nfor i, test_set in enumerate(test_sets):\\n    for (name, model) in spooky_models2:\\n        print('scoring', i, name, datetime.datetime.now())\\n        test_results[name] = hack_score(model, test_set['comment'])\"\u001b[0m\u001b[0;34m)\u001b[0m\u001b[0;34m\u001b[0m\u001b[0m\n\u001b[0m",
      "\u001b[0;32m/usr/local/google/home/jetpack/src/bias_analysis_convai/virtualenv/lib/python2.7/site-packages/IPython/core/interactiveshell.pyc\u001b[0m in \u001b[0;36mrun_cell_magic\u001b[0;34m(self, magic_name, line, cell)\u001b[0m\n\u001b[1;32m   2115\u001b[0m             \u001b[0mmagic_arg_s\u001b[0m \u001b[0;34m=\u001b[0m \u001b[0mself\u001b[0m\u001b[0;34m.\u001b[0m\u001b[0mvar_expand\u001b[0m\u001b[0;34m(\u001b[0m\u001b[0mline\u001b[0m\u001b[0;34m,\u001b[0m \u001b[0mstack_depth\u001b[0m\u001b[0;34m)\u001b[0m\u001b[0;34m\u001b[0m\u001b[0m\n\u001b[1;32m   2116\u001b[0m             \u001b[0;32mwith\u001b[0m \u001b[0mself\u001b[0m\u001b[0;34m.\u001b[0m\u001b[0mbuiltin_trap\u001b[0m\u001b[0;34m:\u001b[0m\u001b[0;34m\u001b[0m\u001b[0m\n\u001b[0;32m-> 2117\u001b[0;31m                 \u001b[0mresult\u001b[0m \u001b[0;34m=\u001b[0m \u001b[0mfn\u001b[0m\u001b[0;34m(\u001b[0m\u001b[0mmagic_arg_s\u001b[0m\u001b[0;34m,\u001b[0m \u001b[0mcell\u001b[0m\u001b[0;34m)\u001b[0m\u001b[0;34m\u001b[0m\u001b[0m\n\u001b[0m\u001b[1;32m   2118\u001b[0m             \u001b[0;32mreturn\u001b[0m \u001b[0mresult\u001b[0m\u001b[0;34m\u001b[0m\u001b[0m\n\u001b[1;32m   2119\u001b[0m \u001b[0;34m\u001b[0m\u001b[0m\n",
      "\u001b[0;32m<decorator-gen-60>\u001b[0m in \u001b[0;36mtime\u001b[0;34m(self, line, cell, local_ns)\u001b[0m\n",
      "\u001b[0;32m/usr/local/google/home/jetpack/src/bias_analysis_convai/virtualenv/lib/python2.7/site-packages/IPython/core/magic.pyc\u001b[0m in \u001b[0;36m<lambda>\u001b[0;34m(f, *a, **k)\u001b[0m\n\u001b[1;32m    186\u001b[0m     \u001b[0;31m# but it's overkill for just that one bit of state.\u001b[0m\u001b[0;34m\u001b[0m\u001b[0;34m\u001b[0m\u001b[0m\n\u001b[1;32m    187\u001b[0m     \u001b[0;32mdef\u001b[0m \u001b[0mmagic_deco\u001b[0m\u001b[0;34m(\u001b[0m\u001b[0marg\u001b[0m\u001b[0;34m)\u001b[0m\u001b[0;34m:\u001b[0m\u001b[0;34m\u001b[0m\u001b[0m\n\u001b[0;32m--> 188\u001b[0;31m         \u001b[0mcall\u001b[0m \u001b[0;34m=\u001b[0m \u001b[0;32mlambda\u001b[0m \u001b[0mf\u001b[0m\u001b[0;34m,\u001b[0m \u001b[0;34m*\u001b[0m\u001b[0ma\u001b[0m\u001b[0;34m,\u001b[0m \u001b[0;34m**\u001b[0m\u001b[0mk\u001b[0m\u001b[0;34m:\u001b[0m \u001b[0mf\u001b[0m\u001b[0;34m(\u001b[0m\u001b[0;34m*\u001b[0m\u001b[0ma\u001b[0m\u001b[0;34m,\u001b[0m \u001b[0;34m**\u001b[0m\u001b[0mk\u001b[0m\u001b[0;34m)\u001b[0m\u001b[0;34m\u001b[0m\u001b[0m\n\u001b[0m\u001b[1;32m    189\u001b[0m \u001b[0;34m\u001b[0m\u001b[0m\n\u001b[1;32m    190\u001b[0m         \u001b[0;32mif\u001b[0m \u001b[0mcallable\u001b[0m\u001b[0;34m(\u001b[0m\u001b[0marg\u001b[0m\u001b[0;34m)\u001b[0m\u001b[0;34m:\u001b[0m\u001b[0;34m\u001b[0m\u001b[0m\n",
      "\u001b[0;32m/usr/local/google/home/jetpack/src/bias_analysis_convai/virtualenv/lib/python2.7/site-packages/IPython/core/magics/execution.pyc\u001b[0m in \u001b[0;36mtime\u001b[0;34m(self, line, cell, local_ns)\u001b[0m\n\u001b[1;32m   1183\u001b[0m         \u001b[0;32melse\u001b[0m\u001b[0;34m:\u001b[0m\u001b[0;34m\u001b[0m\u001b[0m\n\u001b[1;32m   1184\u001b[0m             \u001b[0mst\u001b[0m \u001b[0;34m=\u001b[0m \u001b[0mclock2\u001b[0m\u001b[0;34m(\u001b[0m\u001b[0;34m)\u001b[0m\u001b[0;34m\u001b[0m\u001b[0m\n\u001b[0;32m-> 1185\u001b[0;31m             \u001b[0;32mexec\u001b[0m\u001b[0;34m(\u001b[0m\u001b[0mcode\u001b[0m\u001b[0;34m,\u001b[0m \u001b[0mglob\u001b[0m\u001b[0;34m,\u001b[0m \u001b[0mlocal_ns\u001b[0m\u001b[0;34m)\u001b[0m\u001b[0;34m\u001b[0m\u001b[0m\n\u001b[0m\u001b[1;32m   1186\u001b[0m             \u001b[0mend\u001b[0m \u001b[0;34m=\u001b[0m \u001b[0mclock2\u001b[0m\u001b[0;34m(\u001b[0m\u001b[0;34m)\u001b[0m\u001b[0;34m\u001b[0m\u001b[0m\n\u001b[1;32m   1187\u001b[0m             \u001b[0mout\u001b[0m \u001b[0;34m=\u001b[0m \u001b[0mNone\u001b[0m\u001b[0;34m\u001b[0m\u001b[0m\n",
      "\u001b[0;32m<timed exec>\u001b[0m in \u001b[0;36m<module>\u001b[0;34m()\u001b[0m\n",
      "\u001b[0;32m<ipython-input-13-b5de3e66facf>\u001b[0m in \u001b[0;36mhack_score\u001b[0;34m(model, texts)\u001b[0m\n\u001b[1;32m      4\u001b[0m     \u001b[0msequences\u001b[0m \u001b[0;34m=\u001b[0m \u001b[0mmodel\u001b[0m\u001b[0;34m.\u001b[0m\u001b[0mtokenizer\u001b[0m\u001b[0;34m.\u001b[0m\u001b[0mtexts_to_sequences\u001b[0m\u001b[0;34m(\u001b[0m\u001b[0mtexts\u001b[0m\u001b[0;34m)\u001b[0m\u001b[0;34m\u001b[0m\u001b[0m\n\u001b[1;32m      5\u001b[0m     \u001b[0mdata\u001b[0m \u001b[0;34m=\u001b[0m \u001b[0mpad_sequences\u001b[0m\u001b[0;34m(\u001b[0m\u001b[0msequences\u001b[0m\u001b[0;34m,\u001b[0m \u001b[0mmaxlen\u001b[0m\u001b[0;34m=\u001b[0m\u001b[0;36m1000\u001b[0m\u001b[0;34m)\u001b[0m\u001b[0;34m\u001b[0m\u001b[0m\n\u001b[0;32m----> 6\u001b[0;31m     \u001b[0;32mreturn\u001b[0m \u001b[0mmodel\u001b[0m\u001b[0;34m.\u001b[0m\u001b[0mpredict\u001b[0m\u001b[0;34m(\u001b[0m\u001b[0mdata\u001b[0m\u001b[0;34m)\u001b[0m\u001b[0;34m\u001b[0m\u001b[0m\n\u001b[0m",
      "\u001b[0;32m/usr/local/google/home/jetpack/src/bias_analysis_convai/src/model_tool.pyc\u001b[0m in \u001b[0;36mpredict\u001b[0;34m(self, data)\u001b[0m\n\u001b[1;32m    171\u001b[0m \u001b[0;34m\u001b[0m\u001b[0m\n\u001b[1;32m    172\u001b[0m     \u001b[0;32mdef\u001b[0m \u001b[0mpredict\u001b[0m\u001b[0;34m(\u001b[0m\u001b[0mself\u001b[0m\u001b[0;34m,\u001b[0m \u001b[0mdata\u001b[0m\u001b[0;34m)\u001b[0m\u001b[0;34m:\u001b[0m\u001b[0;34m\u001b[0m\u001b[0m\n\u001b[0;32m--> 173\u001b[0;31m         \u001b[0;32mreturn\u001b[0m \u001b[0mself\u001b[0m\u001b[0;34m.\u001b[0m\u001b[0mmodel\u001b[0m\u001b[0;34m.\u001b[0m\u001b[0mpredict\u001b[0m\u001b[0;34m(\u001b[0m\u001b[0mdata\u001b[0m\u001b[0;34m)\u001b[0m\u001b[0;34m[\u001b[0m\u001b[0;34m:\u001b[0m\u001b[0;34m,\u001b[0m\u001b[0;36m1\u001b[0m\u001b[0;34m]\u001b[0m\u001b[0;34m\u001b[0m\u001b[0m\n\u001b[0m\u001b[1;32m    174\u001b[0m \u001b[0;34m\u001b[0m\u001b[0m\n\u001b[1;32m    175\u001b[0m     \u001b[0;32mdef\u001b[0m \u001b[0mprep_data_and_predict\u001b[0m\u001b[0;34m(\u001b[0m\u001b[0mself\u001b[0m\u001b[0;34m,\u001b[0m \u001b[0mdata_path\u001b[0m\u001b[0;34m,\u001b[0m \u001b[0mtext_column\u001b[0m\u001b[0;34m,\u001b[0m \u001b[0mlabel_column\u001b[0m \u001b[0;34m=\u001b[0m \u001b[0mNone\u001b[0m\u001b[0;34m)\u001b[0m\u001b[0;34m:\u001b[0m\u001b[0;34m\u001b[0m\u001b[0m\n",
      "\u001b[0;32m/usr/local/google/home/jetpack/src/bias_analysis_convai/virtualenv/lib/python2.7/site-packages/keras/engine/training.pyc\u001b[0m in \u001b[0;36mpredict\u001b[0;34m(self, x, batch_size, verbose, steps)\u001b[0m\n\u001b[1;32m   1711\u001b[0m         \u001b[0mf\u001b[0m \u001b[0;34m=\u001b[0m \u001b[0mself\u001b[0m\u001b[0;34m.\u001b[0m\u001b[0mpredict_function\u001b[0m\u001b[0;34m\u001b[0m\u001b[0m\n\u001b[1;32m   1712\u001b[0m         return self._predict_loop(f, ins, batch_size=batch_size,\n\u001b[0;32m-> 1713\u001b[0;31m                                   verbose=verbose, steps=steps)\n\u001b[0m\u001b[1;32m   1714\u001b[0m \u001b[0;34m\u001b[0m\u001b[0m\n\u001b[1;32m   1715\u001b[0m     def train_on_batch(self, x, y,\n",
      "\u001b[0;32m/usr/local/google/home/jetpack/src/bias_analysis_convai/virtualenv/lib/python2.7/site-packages/keras/engine/training.pyc\u001b[0m in \u001b[0;36m_predict_loop\u001b[0;34m(self, f, ins, batch_size, verbose, steps)\u001b[0m\n\u001b[1;32m   1267\u001b[0m                 \u001b[0;32melse\u001b[0m\u001b[0;34m:\u001b[0m\u001b[0;34m\u001b[0m\u001b[0m\n\u001b[1;32m   1268\u001b[0m                     \u001b[0mins_batch\u001b[0m \u001b[0;34m=\u001b[0m \u001b[0m_slice_arrays\u001b[0m\u001b[0;34m(\u001b[0m\u001b[0mins\u001b[0m\u001b[0;34m,\u001b[0m \u001b[0mbatch_ids\u001b[0m\u001b[0;34m)\u001b[0m\u001b[0;34m\u001b[0m\u001b[0m\n\u001b[0;32m-> 1269\u001b[0;31m                 \u001b[0mbatch_outs\u001b[0m \u001b[0;34m=\u001b[0m \u001b[0mf\u001b[0m\u001b[0;34m(\u001b[0m\u001b[0mins_batch\u001b[0m\u001b[0;34m)\u001b[0m\u001b[0;34m\u001b[0m\u001b[0m\n\u001b[0m\u001b[1;32m   1270\u001b[0m                 \u001b[0;32mif\u001b[0m \u001b[0;32mnot\u001b[0m \u001b[0misinstance\u001b[0m\u001b[0;34m(\u001b[0m\u001b[0mbatch_outs\u001b[0m\u001b[0;34m,\u001b[0m \u001b[0mlist\u001b[0m\u001b[0;34m)\u001b[0m\u001b[0;34m:\u001b[0m\u001b[0;34m\u001b[0m\u001b[0m\n\u001b[1;32m   1271\u001b[0m                     \u001b[0mbatch_outs\u001b[0m \u001b[0;34m=\u001b[0m \u001b[0;34m[\u001b[0m\u001b[0mbatch_outs\u001b[0m\u001b[0;34m]\u001b[0m\u001b[0;34m\u001b[0m\u001b[0m\n",
      "\u001b[0;32m/usr/local/google/home/jetpack/src/bias_analysis_convai/virtualenv/lib/python2.7/site-packages/keras/backend/tensorflow_backend.pyc\u001b[0m in \u001b[0;36m__call__\u001b[0;34m(self, inputs)\u001b[0m\n\u001b[1;32m   2271\u001b[0m         updated = session.run(self.outputs + [self.updates_op],\n\u001b[1;32m   2272\u001b[0m                               \u001b[0mfeed_dict\u001b[0m\u001b[0;34m=\u001b[0m\u001b[0mfeed_dict\u001b[0m\u001b[0;34m,\u001b[0m\u001b[0;34m\u001b[0m\u001b[0m\n\u001b[0;32m-> 2273\u001b[0;31m                               **self.session_kwargs)\n\u001b[0m\u001b[1;32m   2274\u001b[0m         \u001b[0;32mreturn\u001b[0m \u001b[0mupdated\u001b[0m\u001b[0;34m[\u001b[0m\u001b[0;34m:\u001b[0m\u001b[0mlen\u001b[0m\u001b[0;34m(\u001b[0m\u001b[0mself\u001b[0m\u001b[0;34m.\u001b[0m\u001b[0moutputs\u001b[0m\u001b[0;34m)\u001b[0m\u001b[0;34m]\u001b[0m\u001b[0;34m\u001b[0m\u001b[0m\n\u001b[1;32m   2275\u001b[0m \u001b[0;34m\u001b[0m\u001b[0m\n",
      "\u001b[0;32m/usr/local/google/home/jetpack/src/bias_analysis_convai/virtualenv/lib/python2.7/site-packages/tensorflow/python/client/session.pyc\u001b[0m in \u001b[0;36mrun\u001b[0;34m(self, fetches, feed_dict, options, run_metadata)\u001b[0m\n\u001b[1;32m    893\u001b[0m     \u001b[0;32mtry\u001b[0m\u001b[0;34m:\u001b[0m\u001b[0;34m\u001b[0m\u001b[0m\n\u001b[1;32m    894\u001b[0m       result = self._run(None, fetches, feed_dict, options_ptr,\n\u001b[0;32m--> 895\u001b[0;31m                          run_metadata_ptr)\n\u001b[0m\u001b[1;32m    896\u001b[0m       \u001b[0;32mif\u001b[0m \u001b[0mrun_metadata\u001b[0m\u001b[0;34m:\u001b[0m\u001b[0;34m\u001b[0m\u001b[0m\n\u001b[1;32m    897\u001b[0m         \u001b[0mproto_data\u001b[0m \u001b[0;34m=\u001b[0m \u001b[0mtf_session\u001b[0m\u001b[0;34m.\u001b[0m\u001b[0mTF_GetBuffer\u001b[0m\u001b[0;34m(\u001b[0m\u001b[0mrun_metadata_ptr\u001b[0m\u001b[0;34m)\u001b[0m\u001b[0;34m\u001b[0m\u001b[0m\n",
      "\u001b[0;32m/usr/local/google/home/jetpack/src/bias_analysis_convai/virtualenv/lib/python2.7/site-packages/tensorflow/python/client/session.pyc\u001b[0m in \u001b[0;36m_run\u001b[0;34m(self, handle, fetches, feed_dict, options, run_metadata)\u001b[0m\n\u001b[1;32m   1122\u001b[0m     \u001b[0;32mif\u001b[0m \u001b[0mfinal_fetches\u001b[0m \u001b[0;32mor\u001b[0m \u001b[0mfinal_targets\u001b[0m \u001b[0;32mor\u001b[0m \u001b[0;34m(\u001b[0m\u001b[0mhandle\u001b[0m \u001b[0;32mand\u001b[0m \u001b[0mfeed_dict_tensor\u001b[0m\u001b[0;34m)\u001b[0m\u001b[0;34m:\u001b[0m\u001b[0;34m\u001b[0m\u001b[0m\n\u001b[1;32m   1123\u001b[0m       results = self._do_run(handle, final_targets, final_fetches,\n\u001b[0;32m-> 1124\u001b[0;31m                              feed_dict_tensor, options, run_metadata)\n\u001b[0m\u001b[1;32m   1125\u001b[0m     \u001b[0;32melse\u001b[0m\u001b[0;34m:\u001b[0m\u001b[0;34m\u001b[0m\u001b[0m\n\u001b[1;32m   1126\u001b[0m       \u001b[0mresults\u001b[0m \u001b[0;34m=\u001b[0m \u001b[0;34m[\u001b[0m\u001b[0;34m]\u001b[0m\u001b[0;34m\u001b[0m\u001b[0m\n",
      "\u001b[0;32m/usr/local/google/home/jetpack/src/bias_analysis_convai/virtualenv/lib/python2.7/site-packages/tensorflow/python/client/session.pyc\u001b[0m in \u001b[0;36m_do_run\u001b[0;34m(self, handle, target_list, fetch_list, feed_dict, options, run_metadata)\u001b[0m\n\u001b[1;32m   1319\u001b[0m     \u001b[0;32mif\u001b[0m \u001b[0mhandle\u001b[0m \u001b[0;32mis\u001b[0m \u001b[0mNone\u001b[0m\u001b[0;34m:\u001b[0m\u001b[0;34m\u001b[0m\u001b[0m\n\u001b[1;32m   1320\u001b[0m       return self._do_call(_run_fn, self._session, feeds, fetches, targets,\n\u001b[0;32m-> 1321\u001b[0;31m                            options, run_metadata)\n\u001b[0m\u001b[1;32m   1322\u001b[0m     \u001b[0;32melse\u001b[0m\u001b[0;34m:\u001b[0m\u001b[0;34m\u001b[0m\u001b[0m\n\u001b[1;32m   1323\u001b[0m       \u001b[0;32mreturn\u001b[0m \u001b[0mself\u001b[0m\u001b[0;34m.\u001b[0m\u001b[0m_do_call\u001b[0m\u001b[0;34m(\u001b[0m\u001b[0m_prun_fn\u001b[0m\u001b[0;34m,\u001b[0m \u001b[0mself\u001b[0m\u001b[0;34m.\u001b[0m\u001b[0m_session\u001b[0m\u001b[0;34m,\u001b[0m \u001b[0mhandle\u001b[0m\u001b[0;34m,\u001b[0m \u001b[0mfeeds\u001b[0m\u001b[0;34m,\u001b[0m \u001b[0mfetches\u001b[0m\u001b[0;34m)\u001b[0m\u001b[0;34m\u001b[0m\u001b[0m\n",
      "\u001b[0;32m/usr/local/google/home/jetpack/src/bias_analysis_convai/virtualenv/lib/python2.7/site-packages/tensorflow/python/client/session.pyc\u001b[0m in \u001b[0;36m_do_call\u001b[0;34m(self, fn, *args)\u001b[0m\n\u001b[1;32m   1325\u001b[0m   \u001b[0;32mdef\u001b[0m \u001b[0m_do_call\u001b[0m\u001b[0;34m(\u001b[0m\u001b[0mself\u001b[0m\u001b[0;34m,\u001b[0m \u001b[0mfn\u001b[0m\u001b[0;34m,\u001b[0m \u001b[0;34m*\u001b[0m\u001b[0margs\u001b[0m\u001b[0;34m)\u001b[0m\u001b[0;34m:\u001b[0m\u001b[0;34m\u001b[0m\u001b[0m\n\u001b[1;32m   1326\u001b[0m     \u001b[0;32mtry\u001b[0m\u001b[0;34m:\u001b[0m\u001b[0;34m\u001b[0m\u001b[0m\n\u001b[0;32m-> 1327\u001b[0;31m       \u001b[0;32mreturn\u001b[0m \u001b[0mfn\u001b[0m\u001b[0;34m(\u001b[0m\u001b[0;34m*\u001b[0m\u001b[0margs\u001b[0m\u001b[0;34m)\u001b[0m\u001b[0;34m\u001b[0m\u001b[0m\n\u001b[0m\u001b[1;32m   1328\u001b[0m     \u001b[0;32mexcept\u001b[0m \u001b[0merrors\u001b[0m\u001b[0;34m.\u001b[0m\u001b[0mOpError\u001b[0m \u001b[0;32mas\u001b[0m \u001b[0me\u001b[0m\u001b[0;34m:\u001b[0m\u001b[0;34m\u001b[0m\u001b[0m\n\u001b[1;32m   1329\u001b[0m       \u001b[0mmessage\u001b[0m \u001b[0;34m=\u001b[0m \u001b[0mcompat\u001b[0m\u001b[0;34m.\u001b[0m\u001b[0mas_text\u001b[0m\u001b[0;34m(\u001b[0m\u001b[0me\u001b[0m\u001b[0;34m.\u001b[0m\u001b[0mmessage\u001b[0m\u001b[0;34m)\u001b[0m\u001b[0;34m\u001b[0m\u001b[0m\n",
      "\u001b[0;32m/usr/local/google/home/jetpack/src/bias_analysis_convai/virtualenv/lib/python2.7/site-packages/tensorflow/python/client/session.pyc\u001b[0m in \u001b[0;36m_run_fn\u001b[0;34m(session, feed_dict, fetch_list, target_list, options, run_metadata)\u001b[0m\n\u001b[1;32m   1304\u001b[0m           return tf_session.TF_Run(session, options,\n\u001b[1;32m   1305\u001b[0m                                    \u001b[0mfeed_dict\u001b[0m\u001b[0;34m,\u001b[0m \u001b[0mfetch_list\u001b[0m\u001b[0;34m,\u001b[0m \u001b[0mtarget_list\u001b[0m\u001b[0;34m,\u001b[0m\u001b[0;34m\u001b[0m\u001b[0m\n\u001b[0;32m-> 1306\u001b[0;31m                                    status, run_metadata)\n\u001b[0m\u001b[1;32m   1307\u001b[0m \u001b[0;34m\u001b[0m\u001b[0m\n\u001b[1;32m   1308\u001b[0m     \u001b[0;32mdef\u001b[0m \u001b[0m_prun_fn\u001b[0m\u001b[0;34m(\u001b[0m\u001b[0msession\u001b[0m\u001b[0;34m,\u001b[0m \u001b[0mhandle\u001b[0m\u001b[0;34m,\u001b[0m \u001b[0mfeed_dict\u001b[0m\u001b[0;34m,\u001b[0m \u001b[0mfetch_list\u001b[0m\u001b[0;34m)\u001b[0m\u001b[0;34m:\u001b[0m\u001b[0;34m\u001b[0m\u001b[0m\n",
      "\u001b[0;31mKeyboardInterrupt\u001b[0m: "
     ]
    }
   ],
   "source": [
    "%%time\n",
    "\n",
    "import pandas as pd\n",
    "\n",
    "test_sets = [pd.read_csv(path) for path in [wiki['test'], debias['test'], random['test']]]\n",
    "\n",
    "for i, test_set in enumerate(test_sets):\n",
    "    for (name, model) in spooky_models2:\n",
    "        print('scoring', i, name, datetime.datetime.now())\n",
    "        test_results[name] = hack_score(model, test_set['comment'])"
   ]
  },
  {
   "cell_type": "code",
   "execution_count": 41,
   "metadata": {
    "collapsed": true
   },
   "outputs": [],
   "source": [
    "orig_results = [test_results['spooky_orig_v0'], test_results['spooky_orig_v1'], test_results['spooky_orig_v2'],\n",
    "                test_results['spooky_orig_v3'], test_results['spooky_orig_v4']] \n",
    "debias_results = [test_results['spooky_debias_v0'], test_results['spooky_debias_v1'], test_results['spooky_debias_v2'],\n",
    "                  test_results['spooky_debias_v3'], test_results['spooky_debias_v4']] \n",
    "random_results = [test_results['spooky_random_v0'], test_results['spooky_random_v1'], test_results['spooky_random_v2'],\n",
    "                  test_results['spooky_random_v3'], test_results['spooky_random_v4']] "
   ]
  },
  {
   "cell_type": "code",
   "execution_count": 44,
   "metadata": {},
   "outputs": [],
   "source": [
    "import matplotlib.pyplot as plt"
   ]
  },
  {
   "cell_type": "code",
   "execution_count": 63,
   "metadata": {
    "scrolled": false
   },
   "outputs": [
    {
     "name": "stdout",
     "output_type": "stream",
     "text": [
      "orig scores\n"
     ]
    },
    {
     "data": {
      "image/png": "[encoded data removed]",
      "text/plain": [
       "<matplotlib.figure.Figure at 0x7fb1508853d0>"
      ]
     },
     "metadata": {},
     "output_type": "display_data"
    },
    {
     "data": {
      "image/png": "[encoded data removed]",
      "text/plain": [
       "<matplotlib.figure.Figure at 0x7fb1507d6410>"
      ]
     },
     "metadata": {},
     "output_type": "display_data"
    },
    {
     "data": {
      "image/png": "[encoded data removed]",
      "text/plain": [
       "<matplotlib.figure.Figure at 0x7fb150afc150>"
      ]
     },
     "metadata": {},
     "output_type": "display_data"
    },
    {
     "data": {
      "image/png": "[encoded data removed]",
      "text/plain": [
       "<matplotlib.figure.Figure at 0x7fb150683110>"
      ]
     },
     "metadata": {},
     "output_type": "display_data"
    },
    {
     "data": {
      "image/png": "[encoded data removed]",
      "text/plain": [
       "<matplotlib.figure.Figure at 0x7fb1505d72d0>"
      ]
     },
     "metadata": {},
     "output_type": "display_data"
    },
    {
     "name": "stdout",
     "output_type": "stream",
     "text": [
      "debias scores\n"
     ]
    },
    {
     "data": {
      "image/png": "[encoded data removed]",
      "text/plain": [
       "<matplotlib.figure.Figure at 0x7fb15052a490>"
      ]
     },
     "metadata": {},
     "output_type": "display_data"
    },
    {
     "data": {
      "image/png": "[encoded data removed]",
      "text/plain": [
       "<matplotlib.figure.Figure at 0x7fb1503fd790>"
      ]
     },
     "metadata": {},
     "output_type": "display_data"
    },
    {
     "data": {
      "image/png": "[encoded data removed]",
      "text/plain": [
       "<matplotlib.figure.Figure at 0x7fb1503500d0>"
      ]
     },
     "metadata": {},
     "output_type": "display_data"
    },
    {
     "data": {
      "image/png": "[encoded data removed]",
      "text/plain": [
       "<matplotlib.figure.Figure at 0x7fb15022aed0>"
      ]
     },
     "metadata": {},
     "output_type": "display_data"
    },
    {
     "data": {
      "image/png": "[encoded data removed]",
      "text/plain": [
       "<matplotlib.figure.Figure at 0x7fb1500ffd50>"
      ]
     },
     "metadata": {},
     "output_type": "display_data"
    },
    {
     "name": "stdout",
     "output_type": "stream",
     "text": [
      "random scores\n"
     ]
    },
    {
     "data": {
      "image/png": "[encoded data removed]",
      "text/plain": [
       "<matplotlib.figure.Figure at 0x7fb150051f10>"
      ]
     },
     "metadata": {},
     "output_type": "display_data"
    },
    {
     "data": {
      "image/png": "[encoded data removed]",
      "text/plain": [
       "<matplotlib.figure.Figure at 0x7fb150028090>"
      ]
     },
     "metadata": {},
     "output_type": "display_data"
    },
    {
     "data": {
      "image/png": "[encoded data removed]",
      "text/plain": [
       "<matplotlib.figure.Figure at 0x7fb14fefc250>"
      ]
     },
     "metadata": {},
     "output_type": "display_data"
    },
    {
     "data": {
      "image/png": "[encoded data removed]",
      "text/plain": [
       "<matplotlib.figure.Figure at 0x7fb14fe4e410>"
      ]
     },
     "metadata": {},
     "output_type": "display_data"
    },
    {
     "data": {
      "image/png": "[encoded data removed]",
      "text/plain": [
       "<matplotlib.figure.Figure at 0x7fb14fda3790>"
      ]
     },
     "metadata": {},
     "output_type": "display_data"
    }
   ],
   "source": [
    "opts = {'log': False, 'normed': False}\n",
    "\n",
    "print('orig scores')\n",
    "for scores in orig_results:\n",
    "    plt.figure(figsize=(3,2))\n",
    "    plt.hist(scores, **opts)\n",
    "    plt.show()\n",
    "    \n",
    "print('debias scores')\n",
    "for scores in debias_results:\n",
    "    plt.figure(figsize=(3,2))\n",
    "    plt.hist(scores, **opts)\n",
    "    plt.show()\n",
    "    \n",
    "print('random scores')\n",
    "for scores in random_results:\n",
    "    plt.figure(figsize=(3,2))\n",
    "    plt.hist(scores, **opts)\n",
    "    plt.show()"
   ]
  },
  {
   "cell_type": "code",
   "execution_count": 58,
   "metadata": {},
   "outputs": [
    {
     "data": {
      "text/plain": [
       "[31866, 31866, 31866, 31866, 31866]"
      ]
     },
     "execution_count": 58,
     "metadata": {},
     "output_type": "execute_result"
    }
   ],
   "source": [
    "map(len, orig_results)"
   ]
  },
  {
   "cell_type": "code",
   "execution_count": 73,
   "metadata": {},
   "outputs": [
    {
     "data": {
      "text/plain": [
       "[0.96897995365611589,\n",
       " 0.97703257241710084,\n",
       " 0.96907637628603738,\n",
       " 0.97677017808751421,\n",
       " 0.97493965659039661]"
      ]
     },
     "execution_count": 73,
     "metadata": {},
     "output_type": "execute_result"
    }
   ],
   "source": [
    "[model_tool.compute_auc(test_sets[0]['is_toxic'], scores) for scores in orig_results]"
   ]
  },
  {
   "cell_type": "code",
   "execution_count": 74,
   "metadata": {},
   "outputs": [
    {
     "data": {
      "text/plain": [
       "[0.96566880771696162,\n",
       " 0.97167217662881655,\n",
       " 0.97509745977515871,\n",
       " 0.97394611471504855,\n",
       " 0.96275374082690013]"
      ]
     },
     "execution_count": 74,
     "metadata": {},
     "output_type": "execute_result"
    }
   ],
   "source": [
    "[model_tool.compute_auc(test_sets[0]['is_toxic'], scores) for scores in debias_results]"
   ]
  },
  {
   "cell_type": "code",
   "execution_count": 75,
   "metadata": {},
   "outputs": [
    {
     "data": {
      "text/plain": [
       "[0.96533774663108818,\n",
       " 0.9758727856095335,\n",
       " 0.97477515920805546,\n",
       " 0.97448330699371499,\n",
       " 0.97095007421906943]"
      ]
     },
     "execution_count": 75,
     "metadata": {},
     "output_type": "execute_result"
    }
   ],
   "source": [
    "[model_tool.compute_auc(test_sets[0]['is_toxic'], scores) for scores in random_results]"
   ]
  },
  {
   "cell_type": "code",
   "execution_count": 82,
   "metadata": {},
   "outputs": [],
   "source": [
    "wiki_test_set = test_sets[0]"
   ]
  },
  {
   "cell_type": "code",
   "execution_count": 90,
   "metadata": {},
   "outputs": [],
   "source": [
    "for i, orig_scores in enumerate(orig_results):\n",
    "    wiki_test_set['orig' + str(i)] = orig_scores"
   ]
  },
  {
   "cell_type": "code",
   "execution_count": 96,
   "metadata": {
    "collapsed": true
   },
   "outputs": [],
   "source": [
    "%matplotlib inline"
   ]
  },
  {
   "cell_type": "code",
   "execution_count": 105,
   "metadata": {},
   "outputs": [],
   "source": [
    "wiki_test_set['orig_var'] = wiki_test_set[['orig0', 'orig1', 'orig2', 'orig3', 'orig4']].var(axis=1)"
   ]
  },
  {
   "cell_type": "code",
   "execution_count": 106,
   "metadata": {},
   "outputs": [
    {
     "data": {
      "text/html": [
       "<div>\n",
       "<style>\n",
       "    .dataframe thead tr:only-child th {\n",
       "        text-align: right;\n",
       "    }\n",
       "\n",
       "    .dataframe thead th {\n",
       "        text-align: left;\n",
       "    }\n",
       "\n",
       "    .dataframe tbody tr th {\n",
       "        vertical-align: top;\n",
       "    }\n",
       "</style>\n",
       "<table border=\"1\" class=\"dataframe\">\n",
       "  <thead>\n",
       "    <tr style=\"text-align: right;\">\n",
       "      <th></th>\n",
       "      <th>rev_id</th>\n",
       "      <th>toxicity</th>\n",
       "      <th>comment</th>\n",
       "      <th>year</th>\n",
       "      <th>logged_in</th>\n",
       "      <th>ns</th>\n",
       "      <th>sample</th>\n",
       "      <th>split</th>\n",
       "      <th>is_toxic</th>\n",
       "      <th>orig0</th>\n",
       "      <th>orig1</th>\n",
       "      <th>orig2</th>\n",
       "      <th>orig3</th>\n",
       "      <th>orig4</th>\n",
       "      <th>orig_var</th>\n",
       "    </tr>\n",
       "  </thead>\n",
       "  <tbody>\n",
       "    <tr>\n",
       "      <th>0</th>\n",
       "      <td>8953.0</td>\n",
       "      <td>0.0</td>\n",
       "      <td>Elected or Electoral? JHK</td>\n",
       "      <td>2002</td>\n",
       "      <td>False</td>\n",
       "      <td>article</td>\n",
       "      <td>random</td>\n",
       "      <td>test</td>\n",
       "      <td>False</td>\n",
       "      <td>7.043147e-03</td>\n",
       "      <td>1.317962e-03</td>\n",
       "      <td>1.079342e-01</td>\n",
       "      <td>0.006836</td>\n",
       "      <td>0.003723</td>\n",
       "      <td>2.135827e-03</td>\n",
       "    </tr>\n",
       "    <tr>\n",
       "      <th>1</th>\n",
       "      <td>28959.0</td>\n",
       "      <td>0.2</td>\n",
       "      <td>Please relate the ozone hole to increases in c...</td>\n",
       "      <td>2002</td>\n",
       "      <td>True</td>\n",
       "      <td>article</td>\n",
       "      <td>random</td>\n",
       "      <td>test</td>\n",
       "      <td>False</td>\n",
       "      <td>1.140104e-06</td>\n",
       "      <td>3.714644e-04</td>\n",
       "      <td>3.891382e-02</td>\n",
       "      <td>0.000442</td>\n",
       "      <td>0.000880</td>\n",
       "      <td>2.963967e-04</td>\n",
       "    </tr>\n",
       "    <tr>\n",
       "      <th>2</th>\n",
       "      <td>138074.0</td>\n",
       "      <td>0.0</td>\n",
       "      <td>`    I'm not sure if it's properly called ``fi...</td>\n",
       "      <td>2002</td>\n",
       "      <td>True</td>\n",
       "      <td>article</td>\n",
       "      <td>random</td>\n",
       "      <td>test</td>\n",
       "      <td>False</td>\n",
       "      <td>1.101016e-04</td>\n",
       "      <td>1.626936e-03</td>\n",
       "      <td>1.339490e-02</td>\n",
       "      <td>0.005810</td>\n",
       "      <td>0.001825</td>\n",
       "      <td>2.887587e-05</td>\n",
       "    </tr>\n",
       "    <tr>\n",
       "      <th>3</th>\n",
       "      <td>200664.0</td>\n",
       "      <td>0.0</td>\n",
       "      <td>Thanks on the info on how to move a page....</td>\n",
       "      <td>2002</td>\n",
       "      <td>True</td>\n",
       "      <td>user</td>\n",
       "      <td>random</td>\n",
       "      <td>test</td>\n",
       "      <td>False</td>\n",
       "      <td>1.260073e-09</td>\n",
       "      <td>2.369752e-08</td>\n",
       "      <td>6.237125e-10</td>\n",
       "      <td>0.000060</td>\n",
       "      <td>0.000013</td>\n",
       "      <td>6.645600e-10</td>\n",
       "    </tr>\n",
       "    <tr>\n",
       "      <th>4</th>\n",
       "      <td>213105.0</td>\n",
       "      <td>0.0</td>\n",
       "      <td>`  : I should do that too, I agree, but I've a...</td>\n",
       "      <td>2002</td>\n",
       "      <td>True</td>\n",
       "      <td>user</td>\n",
       "      <td>random</td>\n",
       "      <td>test</td>\n",
       "      <td>False</td>\n",
       "      <td>3.549992e-04</td>\n",
       "      <td>5.193395e-04</td>\n",
       "      <td>5.571159e-03</td>\n",
       "      <td>0.002910</td>\n",
       "      <td>0.001908</td>\n",
       "      <td>4.542143e-06</td>\n",
       "    </tr>\n",
       "  </tbody>\n",
       "</table>\n",
       "</div>"
      ],
      "text/plain": [
       "     rev_id  toxicity                                            comment  \\\n",
       "0    8953.0       0.0                          Elected or Electoral? JHK   \n",
       "1   28959.0       0.2  Please relate the ozone hole to increases in c...   \n",
       "2  138074.0       0.0  `    I'm not sure if it's properly called ``fi...   \n",
       "3  200664.0       0.0       Thanks on the info on how to move a page....   \n",
       "4  213105.0       0.0  `  : I should do that too, I agree, but I've a...   \n",
       "\n",
       "   year  logged_in       ns  sample split  is_toxic         orig0  \\\n",
       "0  2002      False  article  random  test     False  7.043147e-03   \n",
       "1  2002       True  article  random  test     False  1.140104e-06   \n",
       "2  2002       True  article  random  test     False  1.101016e-04   \n",
       "3  2002       True     user  random  test     False  1.260073e-09   \n",
       "4  2002       True     user  random  test     False  3.549992e-04   \n",
       "\n",
       "          orig1         orig2     orig3     orig4      orig_var  \n",
       "0  1.317962e-03  1.079342e-01  0.006836  0.003723  2.135827e-03  \n",
       "1  3.714644e-04  3.891382e-02  0.000442  0.000880  2.963967e-04  \n",
       "2  1.626936e-03  1.339490e-02  0.005810  0.001825  2.887587e-05  \n",
       "3  2.369752e-08  6.237125e-10  0.000060  0.000013  6.645600e-10  \n",
       "4  5.193395e-04  5.571159e-03  0.002910  0.001908  4.542143e-06  "
      ]
     },
     "execution_count": 106,
     "metadata": {},
     "output_type": "execute_result"
    }
   ],
   "source": [
    "wiki_test_set.head()"
   ]
  },
  {
   "cell_type": "code",
   "execution_count": 134,
   "metadata": {
    "collapsed": true
   },
   "outputs": [],
   "source": [
    "pd.set_option('display.float_format', '{:.3f}'.format)\n",
    "pd.set_option('display.max_colwidth', 135)"
   ]
  },
  {
   "cell_type": "code",
   "execution_count": 135,
   "metadata": {},
   "outputs": [
    {
     "data": {
      "text/html": [
       "<div>\n",
       "<style>\n",
       "    .dataframe thead tr:only-child th {\n",
       "        text-align: right;\n",
       "    }\n",
       "\n",
       "    .dataframe thead th {\n",
       "        text-align: left;\n",
       "    }\n",
       "\n",
       "    .dataframe tbody tr th {\n",
       "        vertical-align: top;\n",
       "    }\n",
       "</style>\n",
       "<table border=\"1\" class=\"dataframe\">\n",
       "  <thead>\n",
       "    <tr style=\"text-align: right;\">\n",
       "      <th></th>\n",
       "      <th>comment</th>\n",
       "      <th>is_toxic</th>\n",
       "      <th>orig0</th>\n",
       "      <th>orig1</th>\n",
       "      <th>orig2</th>\n",
       "      <th>orig3</th>\n",
       "      <th>orig4</th>\n",
       "    </tr>\n",
       "  </thead>\n",
       "  <tbody>\n",
       "    <tr>\n",
       "      <th>15279</th>\n",
       "      <td>==supertall fag== fag fag fag fag fag fag fag fag fag fag fag fag fag fag fag fag fag fag fag fag fag fag fag fag fag fag fag fag...</td>\n",
       "      <td>True</td>\n",
       "      <td>1.000</td>\n",
       "      <td>1.000</td>\n",
       "      <td>0.000</td>\n",
       "      <td>1.000</td>\n",
       "      <td>0.000</td>\n",
       "    </tr>\n",
       "    <tr>\n",
       "      <th>15351</th>\n",
       "      <td>:I tried googling http://www.google.com/search?hl=nt&amp;lr;=&amp;q;=%22%D1%82%D0%B5%D0%BE%D0%B4%D0%BE%D1%80+%D0%94%D0%BE%D1%81%D1%82%D0%B...</td>\n",
       "      <td>False</td>\n",
       "      <td>0.000</td>\n",
       "      <td>1.000</td>\n",
       "      <td>0.000</td>\n",
       "      <td>1.000</td>\n",
       "      <td>0.000</td>\n",
       "    </tr>\n",
       "    <tr>\n",
       "      <th>11334</th>\n",
       "      <td>*** After all the times you have thwarted me... After all the times my plans for world domination were foiled by your meddlesome ...</td>\n",
       "      <td>True</td>\n",
       "      <td>0.000</td>\n",
       "      <td>1.000</td>\n",
       "      <td>0.000</td>\n",
       "      <td>1.000</td>\n",
       "      <td>0.000</td>\n",
       "    </tr>\n",
       "    <tr>\n",
       "      <th>18786</th>\n",
       "      <td>== I despise the way you have treated my fellow Christian friend. ==  male •  gay •  married •  a socialist •  a vegetarian •  We...</td>\n",
       "      <td>True</td>\n",
       "      <td>0.000</td>\n",
       "      <td>1.000</td>\n",
       "      <td>0.001</td>\n",
       "      <td>1.000</td>\n",
       "      <td>0.003</td>\n",
       "    </tr>\n",
       "    <tr>\n",
       "      <th>3696</th>\n",
       "      <td>June 2006 (UTC) : Faggot  01:07, 19</td>\n",
       "      <td>True</td>\n",
       "      <td>0.000</td>\n",
       "      <td>1.000</td>\n",
       "      <td>0.000</td>\n",
       "      <td>1.000</td>\n",
       "      <td>0.006</td>\n",
       "    </tr>\n",
       "    <tr>\n",
       "      <th>27447</th>\n",
       "      <td>`, 21 June 2013 (UTC) :::Okay ima gey, god hate me brah   22:26`</td>\n",
       "      <td>True</td>\n",
       "      <td>0.000</td>\n",
       "      <td>0.987</td>\n",
       "      <td>0.001</td>\n",
       "      <td>0.992</td>\n",
       "      <td>0.000</td>\n",
       "    </tr>\n",
       "    <tr>\n",
       "      <th>3658</th>\n",
       "      <td>:Nazism and religion Nazi mysticism Nazi architecture Category:Nazi physicians Nazi human experimentation Nazism and race Nazi so...</td>\n",
       "      <td>True</td>\n",
       "      <td>0.003</td>\n",
       "      <td>0.055</td>\n",
       "      <td>0.000</td>\n",
       "      <td>0.853</td>\n",
       "      <td>0.985</td>\n",
       "    </tr>\n",
       "    <tr>\n",
       "      <th>15197</th>\n",
       "      <td>Bollocks all is bollocks Bollocks all is bollocks Bollocks all is bollocks Bollocks all is bollocks Bollocks all is bollocks Bolloc...</td>\n",
       "      <td>True</td>\n",
       "      <td>0.046</td>\n",
       "      <td>0.967</td>\n",
       "      <td>0.300</td>\n",
       "      <td>1.000</td>\n",
       "      <td>0.999</td>\n",
       "    </tr>\n",
       "    <tr>\n",
       "      <th>16996</th>\n",
       "      <td>{{Infobox Anatomy |  Name         = Human penis |  Latin        = penis, penes |  GraySubject  = 262 |  GrayPage     = 1247 ...</td>\n",
       "      <td>False</td>\n",
       "      <td>0.000</td>\n",
       "      <td>0.542</td>\n",
       "      <td>0.000</td>\n",
       "      <td>1.000</td>\n",
       "      <td>0.000</td>\n",
       "    </tr>\n",
       "    <tr>\n",
       "      <th>4117</th>\n",
       "      <td>PENIS SMACKING WILLY WANKING WILLY WONG</td>\n",
       "      <td>True</td>\n",
       "      <td>1.000</td>\n",
       "      <td>1.000</td>\n",
       "      <td>0.049</td>\n",
       "      <td>1.000</td>\n",
       "      <td>0.970</td>\n",
       "    </tr>\n",
       "    <tr>\n",
       "      <th>31101</th>\n",
       "      <td>== You have got to be kidding  ==  (cur | prev) 17:11, 7 August 2015‎ Iridescent (talk | contribs)‎ . . (131,644 bytes) (-22)‎ . ...</td>\n",
       "      <td>True</td>\n",
       "      <td>0.000</td>\n",
       "      <td>0.893</td>\n",
       "      <td>0.000</td>\n",
       "      <td>0.604</td>\n",
       "      <td>0.690</td>\n",
       "    </tr>\n",
       "    <tr>\n",
       "      <th>13357</th>\n",
       "      <td>LOL LOL LOL LOL LOL LOL LOL LOL LOL LOL LOL LOL LOL LOL LOL LOL LOL LOL LOL LOL LOL LOL LOL LOL LOL LOL LOL LOL LOL LOL LOL LOL LOL...</td>\n",
       "      <td>False</td>\n",
       "      <td>0.013</td>\n",
       "      <td>0.398</td>\n",
       "      <td>0.228</td>\n",
       "      <td>0.952</td>\n",
       "      <td>0.004</td>\n",
       "    </tr>\n",
       "    <tr>\n",
       "      <th>12018</th>\n",
       "      <td>hiya hunnies! stuart isn't fat so be quiet xx</td>\n",
       "      <td>False</td>\n",
       "      <td>0.011</td>\n",
       "      <td>0.882</td>\n",
       "      <td>0.006</td>\n",
       "      <td>0.118</td>\n",
       "      <td>0.213</td>\n",
       "    </tr>\n",
       "    <tr>\n",
       "      <th>18791</th>\n",
       "      <td>U FAT NOOB!!  I'm Samuel Gary Carter and I can't offend myself!!  I didn't add either of those pages  soo something must have ...</td>\n",
       "      <td>True</td>\n",
       "      <td>0.000</td>\n",
       "      <td>0.829</td>\n",
       "      <td>0.000</td>\n",
       "      <td>0.099</td>\n",
       "      <td>0.087</td>\n",
       "    </tr>\n",
       "    <tr>\n",
       "      <th>6820</th>\n",
       "      <td>`  ==Bigot Alert!== {| align=``center`` class=``boilerplate metadata`` id=``stub`` CELLPADDING=3 CELLSPACING=3 width=80% style=``ba...</td>\n",
       "      <td>True</td>\n",
       "      <td>0.091</td>\n",
       "      <td>0.992</td>\n",
       "      <td>0.468</td>\n",
       "      <td>0.834</td>\n",
       "      <td>0.629</td>\n",
       "    </tr>\n",
       "    <tr>\n",
       "      <th>31666</th>\n",
       "      <td>REDIRECT Talk:American Landrace pig</td>\n",
       "      <td>True</td>\n",
       "      <td>0.003</td>\n",
       "      <td>0.020</td>\n",
       "      <td>0.000</td>\n",
       "      <td>0.270</td>\n",
       "      <td>0.797</td>\n",
       "    </tr>\n",
       "    <tr>\n",
       "      <th>11811</th>\n",
       "      <td>, 28 February 2008 (UTC)  :::::The source is the United States Census Bureau you idiot.  Don't you even get it YET?    20:29</td>\n",
       "      <td>True</td>\n",
       "      <td>0.028</td>\n",
       "      <td>0.624</td>\n",
       "      <td>0.617</td>\n",
       "      <td>0.926</td>\n",
       "      <td>0.558</td>\n",
       "    </tr>\n",
       "    <tr>\n",
       "      <th>7347</th>\n",
       "      <td>(UTC)  Ass hole -  17:53, 9 March 2007</td>\n",
       "      <td>True</td>\n",
       "      <td>0.999</td>\n",
       "      <td>1.000</td>\n",
       "      <td>0.297</td>\n",
       "      <td>1.000</td>\n",
       "      <td>0.991</td>\n",
       "    </tr>\n",
       "    <tr>\n",
       "      <th>24349</th>\n",
       "      <td>btw mark arsten is a son of a bitch his cock is placed in a girls mouth  Hey guys I love chicken rice=)Hey guys I love chicken ric...</td>\n",
       "      <td>True</td>\n",
       "      <td>0.966</td>\n",
       "      <td>0.901</td>\n",
       "      <td>0.247</td>\n",
       "      <td>0.443</td>\n",
       "      <td>0.572</td>\n",
       "    </tr>\n",
       "    <tr>\n",
       "      <th>5459</th>\n",
       "      <td>`Here you go you Wikiholic nerds, I archived the stupid warning page, can I delete the Neversetwhaaaah thing, cuz it has been tagge...</td>\n",
       "      <td>False</td>\n",
       "      <td>0.000</td>\n",
       "      <td>0.335</td>\n",
       "      <td>0.171</td>\n",
       "      <td>0.746</td>\n",
       "      <td>0.035</td>\n",
       "    </tr>\n",
       "    <tr>\n",
       "      <th>20514</th>\n",
       "      <td>STUPID SPANISH CENTRALISTSTUPID SPANISH CENTRALISTSTUPID SPANISH CENTRALISTSTUPID SPANISH CENTRALISTSTUPID SPANISH CENTRALISTSTUPID...</td>\n",
       "      <td>True</td>\n",
       "      <td>0.370</td>\n",
       "      <td>0.092</td>\n",
       "      <td>0.000</td>\n",
       "      <td>0.685</td>\n",
       "      <td>0.602</td>\n",
       "    </tr>\n",
       "    <tr>\n",
       "      <th>19519</th>\n",
       "      <td>:Categories aren't substantial content. Only a moron would think so. -</td>\n",
       "      <td>True</td>\n",
       "      <td>0.023</td>\n",
       "      <td>0.050</td>\n",
       "      <td>0.737</td>\n",
       "      <td>0.282</td>\n",
       "      <td>0.453</td>\n",
       "    </tr>\n",
       "    <tr>\n",
       "      <th>3583</th>\n",
       "      <td>==Iasi's population== Please participate to the discussion at Romania's talk page instead of writing your fucked arguments! '''''...</td>\n",
       "      <td>True</td>\n",
       "      <td>0.070</td>\n",
       "      <td>0.859</td>\n",
       "      <td>0.598</td>\n",
       "      <td>0.376</td>\n",
       "      <td>0.532</td>\n",
       "    </tr>\n",
       "    <tr>\n",
       "      <th>18079</th>\n",
       "      <td>Please choke on a bucket of dicks. Thank you.</td>\n",
       "      <td>True</td>\n",
       "      <td>0.742</td>\n",
       "      <td>0.093</td>\n",
       "      <td>0.821</td>\n",
       "      <td>0.523</td>\n",
       "      <td>0.692</td>\n",
       "    </tr>\n",
       "    <tr>\n",
       "      <th>13888</th>\n",
       "      <td>` ::``happened 10 minutes ago``  Happened ten minutes ago where?  On TV.  TV *IS* MEDIA retard you mentally incapacitated person.  ...</td>\n",
       "      <td>True</td>\n",
       "      <td>0.174</td>\n",
       "      <td>0.527</td>\n",
       "      <td>0.805</td>\n",
       "      <td>0.920</td>\n",
       "      <td>0.681</td>\n",
       "    </tr>\n",
       "    <tr>\n",
       "      <th>21394</th>\n",
       "      <td>` {| width=``75%`` align=``center`` class=``notice noprint`` style=``background: none; border: 1px solid #aaa; padding: 0.5em; marg...</td>\n",
       "      <td>True</td>\n",
       "      <td>0.003</td>\n",
       "      <td>0.000</td>\n",
       "      <td>0.614</td>\n",
       "      <td>0.397</td>\n",
       "      <td>0.001</td>\n",
       "    </tr>\n",
       "    <tr>\n",
       "      <th>22599</th>\n",
       "      <td>:If you'd ever had heroin-coated condoms during anal sex with infant koalas then you wouldn't dispute its popularity  Philipbeswi...</td>\n",
       "      <td>True</td>\n",
       "      <td>0.000</td>\n",
       "      <td>0.323</td>\n",
       "      <td>0.702</td>\n",
       "      <td>0.127</td>\n",
       "      <td>0.046</td>\n",
       "    </tr>\n",
       "    <tr>\n",
       "      <th>29965</th>\n",
       "      <td>== Health Issues? ==  Health issues are keeping you away? What, are you sick to your stomach because I exposed your corruption?</td>\n",
       "      <td>False</td>\n",
       "      <td>0.200</td>\n",
       "      <td>0.811</td>\n",
       "      <td>0.754</td>\n",
       "      <td>0.895</td>\n",
       "      <td>0.522</td>\n",
       "    </tr>\n",
       "    <tr>\n",
       "      <th>24933</th>\n",
       "      <td>Erik, the word came down the food chain from the top.  follow the money(funding) to the circumcision lobby to find out why jimbo ...</td>\n",
       "      <td>False</td>\n",
       "      <td>0.063</td>\n",
       "      <td>0.302</td>\n",
       "      <td>0.456</td>\n",
       "      <td>0.782</td>\n",
       "      <td>0.548</td>\n",
       "    </tr>\n",
       "    <tr>\n",
       "      <th>6173</th>\n",
       "      <td>http://en.wikipedia.org/w/index.php?title=Wikipedia%3AChanging_username&amp;diff;=92790566&amp;oldid;=92769124 never come back, or else you...</td>\n",
       "      <td>True</td>\n",
       "      <td>0.000</td>\n",
       "      <td>0.609</td>\n",
       "      <td>0.629</td>\n",
       "      <td>0.392</td>\n",
       "      <td>0.586</td>\n",
       "    </tr>\n",
       "    <tr>\n",
       "      <th>...</th>\n",
       "      <td>...</td>\n",
       "      <td>...</td>\n",
       "      <td>...</td>\n",
       "      <td>...</td>\n",
       "      <td>...</td>\n",
       "      <td>...</td>\n",
       "      <td>...</td>\n",
       "    </tr>\n",
       "    <tr>\n",
       "      <th>1768</th>\n",
       "      <td>== fuck you  ==  fuck you fuck you fuck you fuck you fuck you fuck you fuck you fuck you fuck you fuck you fuck you fuck you fuck...</td>\n",
       "      <td>True</td>\n",
       "      <td>1.000</td>\n",
       "      <td>1.000</td>\n",
       "      <td>1.000</td>\n",
       "      <td>1.000</td>\n",
       "      <td>1.000</td>\n",
       "    </tr>\n",
       "    <tr>\n",
       "      <th>28531</th>\n",
       "      <td>is a shit. ; is a shit. ; is a shit. ; is a shit. ; is a shit. ; is a shit. ; is a shit. ; is a shit. ; is a shit. ; is a shit. ; ...</td>\n",
       "      <td>True</td>\n",
       "      <td>1.000</td>\n",
       "      <td>1.000</td>\n",
       "      <td>1.000</td>\n",
       "      <td>1.000</td>\n",
       "      <td>1.000</td>\n",
       "    </tr>\n",
       "    <tr>\n",
       "      <th>6568</th>\n",
       "      <td>fuck you.  your fuckin stupid and i'm black and fuck you fuck uou sdjasf;ldjgs dgsdg;lknfdts</td>\n",
       "      <td>True</td>\n",
       "      <td>1.000</td>\n",
       "      <td>1.000</td>\n",
       "      <td>1.000</td>\n",
       "      <td>1.000</td>\n",
       "      <td>1.000</td>\n",
       "    </tr>\n",
       "    <tr>\n",
       "      <th>896</th>\n",
       "      <td>== YOU LIKE COCK 8==========D - - - - - ==    NIGGER NIGGER NIGGER NIGGER NIGGER NIGGER NIGGER NIGGER NIGGER NIGGER NIGGER NIGGER...</td>\n",
       "      <td>True</td>\n",
       "      <td>1.000</td>\n",
       "      <td>1.000</td>\n",
       "      <td>1.000</td>\n",
       "      <td>1.000</td>\n",
       "      <td>1.000</td>\n",
       "    </tr>\n",
       "    <tr>\n",
       "      <th>19866</th>\n",
       "      <td>== ADMINS SUCK!! ==  THE FUCKING ADMINS SUCK ASS! I FUCKING HATE THE PEOPLE WHO DELETE MY FUCKING SHIT!!!!!!!!</td>\n",
       "      <td>True</td>\n",
       "      <td>1.000</td>\n",
       "      <td>1.000</td>\n",
       "      <td>1.000</td>\n",
       "      <td>1.000</td>\n",
       "      <td>1.000</td>\n",
       "    </tr>\n",
       "    <tr>\n",
       "      <th>12743</th>\n",
       "      <td>== Twat ==  You're a fucking cunt</td>\n",
       "      <td>True</td>\n",
       "      <td>1.000</td>\n",
       "      <td>1.000</td>\n",
       "      <td>1.000</td>\n",
       "      <td>1.000</td>\n",
       "      <td>1.000</td>\n",
       "    </tr>\n",
       "    <tr>\n",
       "      <th>13170</th>\n",
       "      <td>FAT JEW FAT JEW FAT JEW FAT JEW FAT JEW FAT JEW FAT JEW FAT JEW FAT JEW FAT JEW FAT JEW FAT JEW FAT JEW FAT JEW FAT JEW FAT JEW FAT...</td>\n",
       "      <td>True</td>\n",
       "      <td>1.000</td>\n",
       "      <td>1.000</td>\n",
       "      <td>1.000</td>\n",
       "      <td>1.000</td>\n",
       "      <td>1.000</td>\n",
       "    </tr>\n",
       "    <tr>\n",
       "      <th>16389</th>\n",
       "      <td>SUCK MY COCK D SUCK MY COCK D SUCK MY COCK D SUCK MY COCK D SUCK MY COCK D SUCK MY COCK D SUCK MY COCK D SUCK MY COCK D SUCK MY COC...</td>\n",
       "      <td>True</td>\n",
       "      <td>1.000</td>\n",
       "      <td>1.000</td>\n",
       "      <td>1.000</td>\n",
       "      <td>1.000</td>\n",
       "      <td>1.000</td>\n",
       "    </tr>\n",
       "    <tr>\n",
       "      <th>29958</th>\n",
       "      <td>== Requested move 6 January 2015 ==    :Valmiki →  – All indian colleges,hospitals and academy describes him as Maharshi Valmiki,...</td>\n",
       "      <td>False</td>\n",
       "      <td>0.000</td>\n",
       "      <td>0.000</td>\n",
       "      <td>0.000</td>\n",
       "      <td>0.000</td>\n",
       "      <td>0.000</td>\n",
       "    </tr>\n",
       "    <tr>\n",
       "      <th>3089</th>\n",
       "      <td>== Bastard ==  You fat bastard! You have done it! Your end will come! Blood from your throat! Death in the air! And the DN group ...</td>\n",
       "      <td>True</td>\n",
       "      <td>1.000</td>\n",
       "      <td>1.000</td>\n",
       "      <td>1.000</td>\n",
       "      <td>1.000</td>\n",
       "      <td>1.000</td>\n",
       "    </tr>\n",
       "    <tr>\n",
       "      <th>28365</th>\n",
       "      <td>Hanibal911You're a bastard Pro-Assad.Hanibal911You're a bastard Pro-Assad.Hanibal911You're a bastard Pro-Assad.Hanibal911You're a...</td>\n",
       "      <td>True</td>\n",
       "      <td>1.000</td>\n",
       "      <td>1.000</td>\n",
       "      <td>1.000</td>\n",
       "      <td>1.000</td>\n",
       "      <td>1.000</td>\n",
       "    </tr>\n",
       "    <tr>\n",
       "      <th>12094</th>\n",
       "      <td>== wtf ==  fuck this shit why the fuck wuld sum pussy liccking site be fucking offline? FUCK!</td>\n",
       "      <td>True</td>\n",
       "      <td>1.000</td>\n",
       "      <td>1.000</td>\n",
       "      <td>1.000</td>\n",
       "      <td>1.000</td>\n",
       "      <td>1.000</td>\n",
       "    </tr>\n",
       "    <tr>\n",
       "      <th>12095</th>\n",
       "      <td>==Fuck You==  I don't need you to unblock me you fucking idiot, you have some tea</td>\n",
       "      <td>True</td>\n",
       "      <td>1.000</td>\n",
       "      <td>1.000</td>\n",
       "      <td>1.000</td>\n",
       "      <td>1.000</td>\n",
       "      <td>1.000</td>\n",
       "    </tr>\n",
       "    <tr>\n",
       "      <th>19779</th>\n",
       "      <td>U MAD?  I'll fuck you blind bitch. I'll fuck you blind till you just can't see no more.         Sit on my dick, fart on my ballls. ...</td>\n",
       "      <td>True</td>\n",
       "      <td>1.000</td>\n",
       "      <td>1.000</td>\n",
       "      <td>1.000</td>\n",
       "      <td>1.000</td>\n",
       "      <td>1.000</td>\n",
       "    </tr>\n",
       "    <tr>\n",
       "      <th>12102</th>\n",
       "      <td>== How About You Shut the Fuck Up? ==  Stop fucking with my posts you fucking douche bag  I AM Joe Torres. Leave me be.</td>\n",
       "      <td>True</td>\n",
       "      <td>1.000</td>\n",
       "      <td>1.000</td>\n",
       "      <td>1.000</td>\n",
       "      <td>1.000</td>\n",
       "      <td>1.000</td>\n",
       "    </tr>\n",
       "    <tr>\n",
       "      <th>19808</th>\n",
       "      <td>ur a faggot, fuck off and get a real job and stop fucking with my posts   8=======D</td>\n",
       "      <td>True</td>\n",
       "      <td>1.000</td>\n",
       "      <td>1.000</td>\n",
       "      <td>1.000</td>\n",
       "      <td>1.000</td>\n",
       "      <td>1.000</td>\n",
       "    </tr>\n",
       "    <tr>\n",
       "      <th>12108</th>\n",
       "      <td>= fuck you, whores!!! I'LL FUCK YOU UP OLD-STYLE, MOTHERFUCKING TRANNYBANGERS CUNTS! =</td>\n",
       "      <td>True</td>\n",
       "      <td>1.000</td>\n",
       "      <td>1.000</td>\n",
       "      <td>1.000</td>\n",
       "      <td>1.000</td>\n",
       "      <td>1.000</td>\n",
       "    </tr>\n",
       "    <tr>\n",
       "      <th>12903</th>\n",
       "      <td>== Suck it bitch!!!!!!! ==  ha ha bitch fuck!!!!!</td>\n",
       "      <td>True</td>\n",
       "      <td>1.000</td>\n",
       "      <td>1.000</td>\n",
       "      <td>1.000</td>\n",
       "      <td>1.000</td>\n",
       "      <td>1.000</td>\n",
       "    </tr>\n",
       "    <tr>\n",
       "      <th>23183</th>\n",
       "      <td>fuck cocksucker titty marijuana nigger whore</td>\n",
       "      <td>True</td>\n",
       "      <td>1.000</td>\n",
       "      <td>1.000</td>\n",
       "      <td>1.000</td>\n",
       "      <td>1.000</td>\n",
       "      <td>1.000</td>\n",
       "    </tr>\n",
       "    <tr>\n",
       "      <th>16310</th>\n",
       "      <td>==asshole== fuck u asshole go fucking rape my penis</td>\n",
       "      <td>True</td>\n",
       "      <td>1.000</td>\n",
       "      <td>1.000</td>\n",
       "      <td>1.000</td>\n",
       "      <td>1.000</td>\n",
       "      <td>1.000</td>\n",
       "    </tr>\n",
       "    <tr>\n",
       "      <th>27699</th>\n",
       "      <td>:Fuck you all, antisemitic faggots.</td>\n",
       "      <td>True</td>\n",
       "      <td>1.000</td>\n",
       "      <td>1.000</td>\n",
       "      <td>1.000</td>\n",
       "      <td>1.000</td>\n",
       "      <td>1.000</td>\n",
       "    </tr>\n",
       "    <tr>\n",
       "      <th>9840</th>\n",
       "      <td>Go fuck yourself!!! you fucking delteted it anyway! whats the fucking point of a public Encyclopedia if you delete evrything!?!?!...</td>\n",
       "      <td>True</td>\n",
       "      <td>1.000</td>\n",
       "      <td>1.000</td>\n",
       "      <td>1.000</td>\n",
       "      <td>1.000</td>\n",
       "      <td>1.000</td>\n",
       "    </tr>\n",
       "    <tr>\n",
       "      <th>8035</th>\n",
       "      <td>Hey Fuck u bitch...i dont suck nuts \\, linkin park does!</td>\n",
       "      <td>True</td>\n",
       "      <td>1.000</td>\n",
       "      <td>1.000</td>\n",
       "      <td>1.000</td>\n",
       "      <td>1.000</td>\n",
       "      <td>1.000</td>\n",
       "    </tr>\n",
       "    <tr>\n",
       "      <th>12118</th>\n",
       "      <td>`:::You fucking retards, only a fucking dumbshit would be religious. Does Godel look like a fucking dumbshit? \\  /  `</td>\n",
       "      <td>True</td>\n",
       "      <td>1.000</td>\n",
       "      <td>1.000</td>\n",
       "      <td>1.000</td>\n",
       "      <td>1.000</td>\n",
       "      <td>1.000</td>\n",
       "    </tr>\n",
       "    <tr>\n",
       "      <th>27688</th>\n",
       "      <td>` == Your submission at AfC Saint Michaels Township, Madison County, Missouri was accepted ==  Saint Michaels Township, Madison Cou...</td>\n",
       "      <td>False</td>\n",
       "      <td>0.000</td>\n",
       "      <td>0.000</td>\n",
       "      <td>0.000</td>\n",
       "      <td>0.000</td>\n",
       "      <td>0.000</td>\n",
       "    </tr>\n",
       "    <tr>\n",
       "      <th>10596</th>\n",
       "      <td>`{| style=``background-color:#F5FFFA; padding:0;`` cellpadding=``0`` |class=``MainPageBG`` style=``border:1px solid #084080; backgr...</td>\n",
       "      <td>False</td>\n",
       "      <td>0.000</td>\n",
       "      <td>0.000</td>\n",
       "      <td>0.000</td>\n",
       "      <td>0.000</td>\n",
       "      <td>0.000</td>\n",
       "    </tr>\n",
       "    <tr>\n",
       "      <th>9088</th>\n",
       "      <td>Yeah. go suck dick u corrupt retarded fat pig Homo.</td>\n",
       "      <td>True</td>\n",
       "      <td>1.000</td>\n",
       "      <td>1.000</td>\n",
       "      <td>1.000</td>\n",
       "      <td>1.000</td>\n",
       "      <td>1.000</td>\n",
       "    </tr>\n",
       "    <tr>\n",
       "      <th>21434</th>\n",
       "      <td>You're an asshole, useless piece of shit. Get a life, motherfucker!</td>\n",
       "      <td>True</td>\n",
       "      <td>1.000</td>\n",
       "      <td>1.000</td>\n",
       "      <td>1.000</td>\n",
       "      <td>1.000</td>\n",
       "      <td>1.000</td>\n",
       "    </tr>\n",
       "    <tr>\n",
       "      <th>29089</th>\n",
       "      <td>Jetstreamer: you can go and fuck yourself you stupid sick bastard homo!</td>\n",
       "      <td>True</td>\n",
       "      <td>1.000</td>\n",
       "      <td>1.000</td>\n",
       "      <td>1.000</td>\n",
       "      <td>1.000</td>\n",
       "      <td>1.000</td>\n",
       "    </tr>\n",
       "    <tr>\n",
       "      <th>30208</th>\n",
       "      <td>Im a fat cunt. Im a fat cunt. Im a fat cunt. Im a fat cunt. Im a fat cunt. Im a fat cunt. Im a fat cunt. Im a fat cunt. Im a fat c...</td>\n",
       "      <td>True</td>\n",
       "      <td>1.000</td>\n",
       "      <td>1.000</td>\n",
       "      <td>1.000</td>\n",
       "      <td>1.000</td>\n",
       "      <td>1.000</td>\n",
       "    </tr>\n",
       "  </tbody>\n",
       "</table>\n",
       "<p>31866 rows × 7 columns</p>\n",
       "</div>"
      ],
      "text/plain": [
       "                                                                                                                                      comment  \\\n",
       "15279    ==supertall fag== fag fag fag fag fag fag fag fag fag fag fag fag fag fag fag fag fag fag fag fag fag fag fag fag fag fag fag fag...   \n",
       "15351   :I tried googling http://www.google.com/search?hl=nt&lr;=&q;=%22%D1%82%D0%B5%D0%BE%D0%B4%D0%BE%D1%80+%D0%94%D0%BE%D1%81%D1%82%D0%B...   \n",
       "11334    *** After all the times you have thwarted me... After all the times my plans for world domination were foiled by your meddlesome ...   \n",
       "18786    == I despise the way you have treated my fellow Christian friend. ==  male •  gay •  married •  a socialist •  a vegetarian •  We...   \n",
       "3696                                                                                                      June 2006 (UTC) : Faggot  01:07, 19   \n",
       "27447                                                                        `, 21 June 2013 (UTC) :::Okay ima gey, god hate me brah   22:26`   \n",
       "3658     :Nazism and religion Nazi mysticism Nazi architecture Category:Nazi physicians Nazi human experimentation Nazism and race Nazi so...   \n",
       "15197  Bollocks all is bollocks Bollocks all is bollocks Bollocks all is bollocks Bollocks all is bollocks Bollocks all is bollocks Bolloc...   \n",
       "16996         {{Infobox Anatomy |  Name         = Human penis |  Latin        = penis, penes |  GraySubject  = 262 |  GrayPage     = 1247 ...   \n",
       "4117                                                                                                  PENIS SMACKING WILLY WANKING WILLY WONG   \n",
       "31101    == You have got to be kidding  ==  (cur | prev) 17:11, 7 August 2015‎ Iridescent (talk | contribs)‎ . . (131,644 bytes) (-22)‎ . ...   \n",
       "13357  LOL LOL LOL LOL LOL LOL LOL LOL LOL LOL LOL LOL LOL LOL LOL LOL LOL LOL LOL LOL LOL LOL LOL LOL LOL LOL LOL LOL LOL LOL LOL LOL LOL...   \n",
       "12018                                                                                           hiya hunnies! stuart isn't fat so be quiet xx   \n",
       "18791       U FAT NOOB!!  I'm Samuel Gary Carter and I can't offend myself!!  I didn't add either of those pages  soo something must have ...   \n",
       "6820   `  ==Bigot Alert!== {| align=``center`` class=``boilerplate metadata`` id=``stub`` CELLPADDING=3 CELLSPACING=3 width=80% style=``ba...   \n",
       "31666                                                                                                    REDIRECT Talk:American Landrace pig    \n",
       "11811            , 28 February 2008 (UTC)  :::::The source is the United States Census Bureau you idiot.  Don't you even get it YET?    20:29   \n",
       "7347                                                                                                   (UTC)  Ass hole -  17:53, 9 March 2007   \n",
       "24349   btw mark arsten is a son of a bitch his cock is placed in a girls mouth  Hey guys I love chicken rice=)Hey guys I love chicken ric...   \n",
       "5459   `Here you go you Wikiholic nerds, I archived the stupid warning page, can I delete the Neversetwhaaaah thing, cuz it has been tagge...   \n",
       "20514  STUPID SPANISH CENTRALISTSTUPID SPANISH CENTRALISTSTUPID SPANISH CENTRALISTSTUPID SPANISH CENTRALISTSTUPID SPANISH CENTRALISTSTUPID...   \n",
       "19519                                                                :Categories aren't substantial content. Only a moron would think so. -     \n",
       "3583     ==Iasi's population== Please participate to the discussion at Romania's talk page instead of writing your fucked arguments! '''''...   \n",
       "18079                                                                                           Please choke on a bucket of dicks. Thank you.   \n",
       "13888  ` ::``happened 10 minutes ago``  Happened ten minutes ago where?  On TV.  TV *IS* MEDIA retard you mentally incapacitated person.  ...   \n",
       "21394  ` {| width=``75%`` align=``center`` class=``notice noprint`` style=``background: none; border: 1px solid #aaa; padding: 0.5em; marg...   \n",
       "22599    :If you'd ever had heroin-coated condoms during anal sex with infant koalas then you wouldn't dispute its popularity  Philipbeswi...   \n",
       "29965      == Health Issues? ==  Health issues are keeping you away? What, are you sick to your stomach because I exposed your corruption?      \n",
       "24933    Erik, the word came down the food chain from the top.  follow the money(funding) to the circumcision lobby to find out why jimbo ...   \n",
       "6173   http://en.wikipedia.org/w/index.php?title=Wikipedia%3AChanging_username&diff;=92790566&oldid;=92769124 never come back, or else you...   \n",
       "...                                                                                                                                       ...   \n",
       "1768     == fuck you  ==  fuck you fuck you fuck you fuck you fuck you fuck you fuck you fuck you fuck you fuck you fuck you fuck you fuck...   \n",
       "28531   is a shit. ; is a shit. ; is a shit. ; is a shit. ; is a shit. ; is a shit. ; is a shit. ; is a shit. ; is a shit. ; is a shit. ; ...   \n",
       "6568                                             fuck you.  your fuckin stupid and i'm black and fuck you fuck uou sdjasf;ldjgs dgsdg;lknfdts   \n",
       "896      == YOU LIKE COCK 8==========D - - - - - ==    NIGGER NIGGER NIGGER NIGGER NIGGER NIGGER NIGGER NIGGER NIGGER NIGGER NIGGER NIGGER...   \n",
       "19866                          == ADMINS SUCK!! ==  THE FUCKING ADMINS SUCK ASS! I FUCKING HATE THE PEOPLE WHO DELETE MY FUCKING SHIT!!!!!!!!   \n",
       "12743                                                                                                       == Twat ==  You're a fucking cunt   \n",
       "13170  FAT JEW FAT JEW FAT JEW FAT JEW FAT JEW FAT JEW FAT JEW FAT JEW FAT JEW FAT JEW FAT JEW FAT JEW FAT JEW FAT JEW FAT JEW FAT JEW FAT...   \n",
       "16389  SUCK MY COCK D SUCK MY COCK D SUCK MY COCK D SUCK MY COCK D SUCK MY COCK D SUCK MY COCK D SUCK MY COCK D SUCK MY COCK D SUCK MY COC...   \n",
       "29958    == Requested move 6 January 2015 ==    :Valmiki →  – All indian colleges,hospitals and academy describes him as Maharshi Valmiki,...   \n",
       "3089     == Bastard ==  You fat bastard! You have done it! Your end will come! Blood from your throat! Death in the air! And the DN group ...   \n",
       "28365    Hanibal911You're a bastard Pro-Assad.Hanibal911You're a bastard Pro-Assad.Hanibal911You're a bastard Pro-Assad.Hanibal911You're a...   \n",
       "12094                                        == wtf ==  fuck this shit why the fuck wuld sum pussy liccking site be fucking offline? FUCK!      \n",
       "12095                                                     ==Fuck You==  I don't need you to unblock me you fucking idiot, you have some tea     \n",
       "19779  U MAD?  I'll fuck you blind bitch. I'll fuck you blind till you just can't see no more.         Sit on my dick, fart on my ballls. ...   \n",
       "12102                 == How About You Shut the Fuck Up? ==  Stop fucking with my posts you fucking douche bag  I AM Joe Torres. Leave me be.   \n",
       "19808                                                     ur a faggot, fuck off and get a real job and stop fucking with my posts   8=======D   \n",
       "12108                                                  = fuck you, whores!!! I'LL FUCK YOU UP OLD-STYLE, MOTHERFUCKING TRANNYBANGERS CUNTS! =   \n",
       "12903                                                                                     == Suck it bitch!!!!!!! ==  ha ha bitch fuck!!!!!     \n",
       "23183                                                                                            fuck cocksucker titty marijuana nigger whore   \n",
       "16310                                                                                     ==asshole== fuck u asshole go fucking rape my penis   \n",
       "27699                                                                                                  :Fuck you all, antisemitic faggots.      \n",
       "9840     Go fuck yourself!!! you fucking delteted it anyway! whats the fucking point of a public Encyclopedia if you delete evrything!?!?!...   \n",
       "8035                                                                                 Hey Fuck u bitch...i dont suck nuts \\, linkin park does!   \n",
       "12118                   `:::You fucking retards, only a fucking dumbshit would be religious. Does Godel look like a fucking dumbshit? \\  /  `   \n",
       "27688  ` == Your submission at AfC Saint Michaels Township, Madison County, Missouri was accepted ==  Saint Michaels Township, Madison Cou...   \n",
       "10596  `{| style=``background-color:#F5FFFA; padding:0;`` cellpadding=``0`` |class=``MainPageBG`` style=``border:1px solid #084080; backgr...   \n",
       "9088                                                                                    Yeah. go suck dick u corrupt retarded fat pig Homo.     \n",
       "21434                                                                     You're an asshole, useless piece of shit. Get a life, motherfucker!   \n",
       "29089                                                                 Jetstreamer: you can go and fuck yourself you stupid sick bastard homo!   \n",
       "30208   Im a fat cunt. Im a fat cunt. Im a fat cunt. Im a fat cunt. Im a fat cunt. Im a fat cunt. Im a fat cunt. Im a fat cunt. Im a fat c...   \n",
       "\n",
       "       is_toxic  orig0  orig1  orig2  orig3  orig4  \n",
       "15279      True  1.000  1.000  0.000  1.000  0.000  \n",
       "15351     False  0.000  1.000  0.000  1.000  0.000  \n",
       "11334      True  0.000  1.000  0.000  1.000  0.000  \n",
       "18786      True  0.000  1.000  0.001  1.000  0.003  \n",
       "3696       True  0.000  1.000  0.000  1.000  0.006  \n",
       "27447      True  0.000  0.987  0.001  0.992  0.000  \n",
       "3658       True  0.003  0.055  0.000  0.853  0.985  \n",
       "15197      True  0.046  0.967  0.300  1.000  0.999  \n",
       "16996     False  0.000  0.542  0.000  1.000  0.000  \n",
       "4117       True  1.000  1.000  0.049  1.000  0.970  \n",
       "31101      True  0.000  0.893  0.000  0.604  0.690  \n",
       "13357     False  0.013  0.398  0.228  0.952  0.004  \n",
       "12018     False  0.011  0.882  0.006  0.118  0.213  \n",
       "18791      True  0.000  0.829  0.000  0.099  0.087  \n",
       "6820       True  0.091  0.992  0.468  0.834  0.629  \n",
       "31666      True  0.003  0.020  0.000  0.270  0.797  \n",
       "11811      True  0.028  0.624  0.617  0.926  0.558  \n",
       "7347       True  0.999  1.000  0.297  1.000  0.991  \n",
       "24349      True  0.966  0.901  0.247  0.443  0.572  \n",
       "5459      False  0.000  0.335  0.171  0.746  0.035  \n",
       "20514      True  0.370  0.092  0.000  0.685  0.602  \n",
       "19519      True  0.023  0.050  0.737  0.282  0.453  \n",
       "3583       True  0.070  0.859  0.598  0.376  0.532  \n",
       "18079      True  0.742  0.093  0.821  0.523  0.692  \n",
       "13888      True  0.174  0.527  0.805  0.920  0.681  \n",
       "21394      True  0.003  0.000  0.614  0.397  0.001  \n",
       "22599      True  0.000  0.323  0.702  0.127  0.046  \n",
       "29965     False  0.200  0.811  0.754  0.895  0.522  \n",
       "24933     False  0.063  0.302  0.456  0.782  0.548  \n",
       "6173       True  0.000  0.609  0.629  0.392  0.586  \n",
       "...         ...    ...    ...    ...    ...    ...  \n",
       "1768       True  1.000  1.000  1.000  1.000  1.000  \n",
       "28531      True  1.000  1.000  1.000  1.000  1.000  \n",
       "6568       True  1.000  1.000  1.000  1.000  1.000  \n",
       "896        True  1.000  1.000  1.000  1.000  1.000  \n",
       "19866      True  1.000  1.000  1.000  1.000  1.000  \n",
       "12743      True  1.000  1.000  1.000  1.000  1.000  \n",
       "13170      True  1.000  1.000  1.000  1.000  1.000  \n",
       "16389      True  1.000  1.000  1.000  1.000  1.000  \n",
       "29958     False  0.000  0.000  0.000  0.000  0.000  \n",
       "3089       True  1.000  1.000  1.000  1.000  1.000  \n",
       "28365      True  1.000  1.000  1.000  1.000  1.000  \n",
       "12094      True  1.000  1.000  1.000  1.000  1.000  \n",
       "12095      True  1.000  1.000  1.000  1.000  1.000  \n",
       "19779      True  1.000  1.000  1.000  1.000  1.000  \n",
       "12102      True  1.000  1.000  1.000  1.000  1.000  \n",
       "19808      True  1.000  1.000  1.000  1.000  1.000  \n",
       "12108      True  1.000  1.000  1.000  1.000  1.000  \n",
       "12903      True  1.000  1.000  1.000  1.000  1.000  \n",
       "23183      True  1.000  1.000  1.000  1.000  1.000  \n",
       "16310      True  1.000  1.000  1.000  1.000  1.000  \n",
       "27699      True  1.000  1.000  1.000  1.000  1.000  \n",
       "9840       True  1.000  1.000  1.000  1.000  1.000  \n",
       "8035       True  1.000  1.000  1.000  1.000  1.000  \n",
       "12118      True  1.000  1.000  1.000  1.000  1.000  \n",
       "27688     False  0.000  0.000  0.000  0.000  0.000  \n",
       "10596     False  0.000  0.000  0.000  0.000  0.000  \n",
       "9088       True  1.000  1.000  1.000  1.000  1.000  \n",
       "21434      True  1.000  1.000  1.000  1.000  1.000  \n",
       "29089      True  1.000  1.000  1.000  1.000  1.000  \n",
       "30208      True  1.000  1.000  1.000  1.000  1.000  \n",
       "\n",
       "[31866 rows x 7 columns]"
      ]
     },
     "execution_count": 135,
     "metadata": {},
     "output_type": "execute_result"
    }
   ],
   "source": [
    "wiki_test_set.sort_values('orig_var', ascending=False)[['comment', 'is_toxic', 'orig0', 'orig1', 'orig2', 'orig3', 'orig4']]"
   ]
  },
  {
   "cell_type": "code",
   "execution_count": 142,
   "metadata": {},
   "outputs": [
    {
     "data": {
      "text/plain": [
       "\"     U FAT NOOB!!  I'm Samuel Gary Carter and I can't offend myself!!  I didn't add either of those pages  soo something must have hacked into mya ccount  and done i tthere\""
      ]
     },
     "execution_count": 142,
     "metadata": {},
     "output_type": "execute_result"
    }
   ],
   "source": [
    "wiki_test_set.loc[18791].comment"
   ]
  },
  {
   "cell_type": "code",
   "execution_count": 87,
   "metadata": {},
   "outputs": [
    {
     "data": {
      "text/plain": [
       "0.96897995365611589"
      ]
     },
     "execution_count": 87,
     "metadata": {},
     "output_type": "execute_result"
    }
   ],
   "source": [
    "model_tool.compute_auc(wiki_test_set['is_toxic'], wiki_test_set['blahtest'])"
   ]
  },
  {
   "cell_type": "code",
   "execution_count": null,
   "metadata": {
    "collapsed": true
   },
   "outputs": [],
   "source": []
  },
  {
   "cell_type": "code",
   "execution_count": 67,
   "metadata": {},
   "outputs": [],
   "source": [
    "import model_tool\n",
    "model_tool.compute_auc()"
   ]
  },
  {
   "cell_type": "raw",
   "metadata": {},
   "source": [
    "wiki_model.prep_data_and_score(wiki['test'], text_column = 'comment', label_column = 'is_toxic')"
   ]
  },
  {
   "cell_type": "code",
   "execution_count": 10,
   "metadata": {},
   "outputs": [
    {
     "name": "stdout",
     "output_type": "stream",
     "text": [
      "Preparing data...\n",
      "Data prepared!\n",
      "Loading embeddings...\n",
      "Embeddings loaded!\n",
      "Building model graph...\n",
      "Training model...\n",
      "Train on 99157 samples, validate on 33283 samples\n",
      "Epoch 1/3\n",
      "99157/99157 [==============================] - 689s - loss: 0.1433 - acc: 0.9489 - val_loss: 0.1220 - val_acc: 0.9584\n",
      "Epoch 2/3\n",
      "99157/99157 [==============================] - 698s - loss: 0.0991 - acc: 0.9641 - val_loss: 0.0988 - val_acc: 0.9650\n",
      "Epoch 3/3\n",
      "99157/99157 [==============================] - 698s - loss: 0.0880 - acc: 0.9678 - val_loss: 0.1419 - val_acc: 0.9504\n",
      "<keras.callbacks.History object at 0x7f8a55e9e6d0>\n",
      "Model trained!\n",
      "Saving model...\n",
      "Model saved!\n",
      "CPU times: user 4h 59min 1s, sys: 17min 33s, total: 5h 16min 34s\n",
      "Wall time: 35min 10s\n"
     ]
    }
   ],
   "source": [
    "%%time\n",
    "MODEL_NAME = 'cnn_debias_tox_v3'\n",
    "debias_model = ToxModel()\n",
    "debias_model.train(debias['train'], debias['dev'], text_column = 'comment', label_column = 'is_toxic', model_name = MODEL_NAME)"
   ]
  },
  {
   "cell_type": "code",
   "execution_count": 11,
   "metadata": {},
   "outputs": [
    {
     "data": {
      "text/plain": [
       "0.97595644478981225"
      ]
     },
     "execution_count": 11,
     "metadata": {},
     "output_type": "execute_result"
    }
   ],
   "source": [
    "debias_model.prep_data_and_score(debias['test'], text_column = 'comment', label_column = 'is_toxic')"
   ]
  },
  {
   "cell_type": "code",
   "execution_count": 8,
   "metadata": {},
   "outputs": [
    {
     "name": "stdout",
     "output_type": "stream",
     "text": [
      "Preparing data...\n",
      "Data prepared!\n",
      "Loading embeddings...\n",
      "Embeddings loaded!\n",
      "Building model graph...\n",
      "Training model...\n",
      "Train on 99157 samples, validate on 33283 samples\n",
      "Epoch 1/3\n",
      "99157/99157 [==============================] - 657s - loss: 0.1453 - acc: 0.9485 - val_loss: 0.1178 - val_acc: 0.9588\n",
      "Epoch 2/3\n",
      "99157/99157 [==============================] - 695s - loss: 0.0997 - acc: 0.9646 - val_loss: 0.1042 - val_acc: 0.9655\n",
      "Epoch 3/3\n",
      "99157/99157 [==============================] - 695s - loss: 0.0898 - acc: 0.9680 - val_loss: 0.0953 - val_acc: 0.9657\n",
      "<keras.callbacks.History object at 0x7fb500320790>\n",
      "Model trained!\n",
      "Saving model...\n",
      "Model saved!\n"
     ]
    }
   ],
   "source": [
    "#TODOOOOOOOOOOOOOOOOOOOOOO\n",
    "MODEL_NAME = 'cnn_debias_random_tox_v3'\n",
    "debias_random_model = ToxModel()\n",
    "debias_random_model.train(random['train'], random['dev'], text_column = 'comment', label_column = 'is_toxic', model_name = MODEL_NAME)"
   ]
  },
  {
   "cell_type": "code",
   "execution_count": 9,
   "metadata": {},
   "outputs": [
    {
     "data": {
      "text/plain": [
       "0.97641284855407495"
      ]
     },
     "execution_count": 9,
     "metadata": {},
     "output_type": "execute_result"
    }
   ],
   "source": [
    "debias_random_model.prep_data_and_score(random['test'], text_column = 'comment', label_column = 'is_toxic')"
   ]
  },
  {
   "cell_type": "code",
   "execution_count": null,
   "metadata": {
    "collapsed": true
   },
   "outputs": [],
   "source": []
  }
 ],
 "metadata": {
  "kernelspec": {
   "display_name": "Python 2",
   "language": "python",
   "name": "python2"
  },
  "language_info": {
   "codemirror_mode": {
    "name": "ipython",
    "version": 2
   },
   "file_extension": ".py",
   "mimetype": "text/x-python",
   "name": "python",
   "nbconvert_exporter": "python",
   "pygments_lexer": "ipython2",
   "version": "2.7.6"
  }
 },
 "nbformat": 4,
 "nbformat_minor": 2
}
